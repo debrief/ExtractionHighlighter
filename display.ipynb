{
 "cells": [
  {
   "cell_type": "markdown",
   "source": [
    "## Text files"
   ],
   "metadata": {
    "collapsed": false
   }
  },
  {
   "cell_type": "code",
   "execution_count": null,
   "outputs": [],
   "source": [
    "from  data_highlight.highlighter import  HighlightedFile\n",
    "#text FILE\n",
    "dataFile = HighlightedFile('data_highlight/file.txt')\n",
    "from IPython.display import HTML\n",
    "\n",
    "# get the set of self-describing lines\n",
    "lines = dataFile.lines()\n",
    "\n",
    "for thisLine in lines:\n",
    "    tokens = thisLine.tokens()\n",
    "\n",
    "    # check the type\n",
    "    firstToken = tokens[0]\n",
    "    if firstToken.text == \"//\":\n",
    "        # event marker\n",
    "        eventImporter = \"Simple Event importer\"\n",
    "        dateToken = tokens[2]\n",
    "        dateToken.record(eventImporter, \"Date\", dateToken.text)\n",
    "        timeToken = tokens[3]\n",
    "        timeToken.record(eventImporter, \"Time\", timeToken.text)\n",
    "        eventToken = tokens[4]\n",
    "        eventToken.record(eventImporter, \"Event\", timeToken.text)\n",
    "\n",
    "        # and the whole=line record\n",
    "        thisLine.record(eventImporter, \"Whole line\")\n",
    "\n",
    "# output to file, display\n",
    "\n",
    "dataFile.export(\"out4.html\")\n",
    "HTML(filename=\"./out4.html\")"
   ],
   "metadata": {
    "collapsed": false,
    "pycharm": {
     "name": "#%%\n"
    }
   }
  },
  {
   "cell_type": "markdown",
   "source": [
    "## CSV FILE"
   ],
   "metadata": {
    "collapsed": false
   }
  },
  {
   "cell_type": "code",
   "execution_count": null,
   "outputs": [],
   "source": [
    "from  data_highlight.highlighter import  HighlightedFile\n",
    "\n",
    "dataFileCSV = HighlightedFile('data_highlight/file_comma.txt')\n",
    "# get the set of self-describing lines\n",
    "lines = dataFileCSV.lines()\n",
    "\n",
    "CSV_DELIM = \"(?:,\\\"|^\\\")(\\\"\\\"|[\\w\\W]*?)(?=\\\",|\\\"$)|(?:,(?!\\\")|^(?!\\\"))([^,]*?)(?=$|,)|(\\r\\n|\\n)\"\n",
    "\n",
    "for thisLine in lines:\n",
    "\n",
    "    tokens = thisLine.tokens(CSV_DELIM, \",\")  # note we specify delimiter\n",
    "\n",
    "\n",
    "    # check the type\n",
    "    firstToken = tokens[0]\n",
    "\n",
    "    if firstToken.text == \"//\":\n",
    "        # event marker\n",
    "        eventImporter = \"Simple CSV Event importer\"\n",
    "        dateToken = tokens[2]\n",
    "        dateToken.record(eventImporter, \"Date\", dateToken.text, \"n/a\")\n",
    "        timeToken = tokens[3]\n",
    "        timeToken.record(eventImporter, \"Time\", timeToken.text, \"n/a\")\n",
    "        eventToken = tokens[4]\n",
    "        eventToken.record(eventImporter, \"Event\", timeToken.text, \"n/a\")\n",
    "\n",
    "        # and the whole=line record\n",
    "        thisLine.record(eventImporter, \"Whole line\")\n",
    "\n",
    "# output to file, display\n",
    "dataFileCSV.export(\"out5.html\")\n",
    "HTML(filename=\"./out5.html\")\n",
    "\n"
   ],
   "metadata": {
    "collapsed": false,
    "pycharm": {
     "name": "#%%\n"
    }
   }
  },
  {
   "cell_type": "code",
   "execution_count": null,
   "outputs": [],
   "source": [],
   "metadata": {
    "collapsed": false,
    "pycharm": {
     "name": "#%%\n"
    }
   }
  }
 ],
 "metadata": {
  "kernelspec": {
   "display_name": "Python 3",
   "language": "python",
   "name": "python3"
  },
  "language_info": {
   "codemirror_mode": {
    "name": "ipython",
    "version": 3
   },
   "file_extension": ".py",
   "mimetype": "text/x-python",
   "name": "python",
   "nbconvert_exporter": "python",
   "pygments_lexer": "ipython3",
   "version": "3.6.8"
  },
  "pycharm": {
   "stem_cell": {
    "cell_type": "raw",
    "source": [],
    "metadata": {
     "collapsed": false
    }
   }
  }
 },
 "nbformat": 4,
 "nbformat_minor": 2
}