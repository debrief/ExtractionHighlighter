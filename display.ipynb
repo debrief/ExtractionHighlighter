{
 "cells": [
  {
   "cell_type": "markdown",
   "metadata": {},
   "source": [
    "## Text files"
   ]
  },
  {
   "cell_type": "code",
   "execution_count": 9,
   "metadata": {},
   "outputs": [
    {
     "data": {
      "text/html": [
       "951212 050000.000 MONDEO_44   @C   269.7   2.0      10</br><span title='Simple Event importer, Whole line' style=\"background-color:rgba(229,142,156,0.300000)\">// EVENT </span><span title='Simple Event importer/Date, Value:951212 Units:n/a // Simple Event importer, Whole line' style=\"background-color:rgba(229,177,182,0.300000)\"a>951212</span><span title='Simple Event importer, Whole line' style=\"background-color:rgba(229,142,156,0.300000)\"a> </span><span title='Simple Event importer/Time, Value:050300.000 Units:n/a // Simple Event importer, Whole line' style=\"background-color:rgba(194,142,192,0.300000)\"a>050300.000</span><span title='Simple Event importer, Whole line' style=\"background-color:rgba(229,142,156,0.300000)\"a> </span><span title='Simple Event importer/Event, Value:050300.000 Units:n/a // Simple Event importer, Whole line' style=\"background-color:rgba(136,185,188,0.300000)\"a>BRAVO</span></br><span title='Simple Event importer, Whole line' style=\"background-color:rgba(229,142,156,0.300000)\">// EVENT </span><span title='Simple Event importer/Date, Value:951212 Units:n/a // Simple Event importer, Whole line' style=\"background-color:rgba(229,177,182,0.300000)\"a>951212</span><span title='Simple Event importer, Whole line' style=\"background-color:rgba(229,142,156,0.300000)\"a> </span><span title='Simple Event importer/Time, Value:050300.000 Units:n/a // Simple Event importer, Whole line' style=\"background-color:rgba(194,142,192,0.300000)\"a>050300.000</span><span title='Simple Event importer, Whole line' style=\"background-color:rgba(229,142,156,0.300000)\"a> </span><span title='Simple Event importer/Event, Value:050300.000 Units:n/a // Simple Event importer, Whole line' style=\"background-color:rgba(136,185,188,0.300000)\"a>CHARLIE</span></br>951212 050300.000 FORD_11   @C   354.7   2.1      14</br>951212 050200.000 COROLLA_44   @C   177.9   3.1      15</br><span title='Simple Event importer, Whole line' style=\"background-color:rgba(229,142,156,0.300000)\">// EVENT </span><span title='Simple Event importer/Date, Value:951212 Units:n/a // Simple Event importer, Whole line' style=\"background-color:rgba(229,177,182,0.300000)\"a>951212</span><span title='Simple Event importer, Whole line' style=\"background-color:rgba(229,142,156,0.300000)\"a> </span><span title='Simple Event importer/Time, Value:050300.000 Units:n/a // Simple Event importer, Whole line' style=\"background-color:rgba(194,142,192,0.300000)\"a>050300.000</span><span title='Simple Event importer, Whole line' style=\"background-color:rgba(229,142,156,0.300000)\"a> </span><span title='Simple Event importer/Event, Value:050300.000 Units:n/a // Simple Event importer, Whole line' style=\"background-color:rgba(136,185,188,0.300000)\"a>DELTA</span></br>951212 050300.000 COROLLA_44   @C   200   3.1      15</br>"
      ],
      "text/plain": [
       "<IPython.core.display.HTML object>"
      ]
     },
     "execution_count": 9,
     "metadata": {},
     "output_type": "execute_result"
    }
   ],
   "source": [
    "from  data_highlight.highlighter import  HighlightedFile\n",
    "#text FILE\n",
    "dataFile = HighlightedFile('data_highlight/file.txt')\n",
    "from IPython.display import HTML\n",
    "\n",
    "# get the set of self-describing lines\n",
    "lines = dataFile.lines()\n",
    "\n",
    "for thisLine in lines:\n",
    "    tokens = thisLine.tokens()\n",
    "\n",
    "    # check the type\n",
    "    firstToken = tokens[0]\n",
    "    if firstToken.text == \"//\":\n",
    "        # event marker\n",
    "        eventImporter = \"Simple Event importer\"\n",
    "        dateToken = tokens[2]\n",
    "        dateToken.record(eventImporter, \"Date\", dateToken.text)\n",
    "        timeToken = tokens[3]\n",
    "        timeToken.record(eventImporter, \"Time\", timeToken.text)\n",
    "        eventToken = tokens[4]\n",
    "        eventToken.record(eventImporter, \"Event\", timeToken.text)\n",
    "\n",
    "        # and the whole=line record\n",
    "        thisLine.record(eventImporter, \"Whole line\")\n",
    "\n",
    "# output to file, display\n",
    "\n",
    "dataFile.export(\"out4.html\")\n",
    "HTML(filename=\"out4.html\")"
   ]
  },
  {
   "cell_type": "markdown",
   "metadata": {},
   "source": [
    "## CSV FILE"
   ]
  },
  {
   "cell_type": "code",
   "execution_count": 5,
   "metadata": {},
   "outputs": [
    {
     "data": {
      "text/html": [
       "951212, 050000.000, MONDEO_44, @C, 269.7, 2.0, 10</br><span title='Simple CSV Event importer, Whole line' style=\"background-color:rgba(209,229,214,0.300000)\">//, EVENT</span><span title='Simple CSV Event importer/Date, Value:951212 Units:n/a // Simple CSV Event importer, Whole line' style=\"background-color:rgba(182,217,221,0.300000)\"a>, 951212</span><span title='Simple CSV Event importer/Time, Value:050300.000 Units:n/a // Simple CSV Event importer, Whole line' style=\"background-color:rgba(219,180,118,0.300000)\"a>, 050300.000</span><span title='Simple CSV Event importer/Event, Value:050300.000 Units:n/a // Simple CSV Event importer, Whole line' style=\"background-color:rgba(219,138,184,0.300000)\"a>, BRAVO</span></br><span title='Simple CSV Event importer, Whole line' style=\"background-color:rgba(209,229,214,0.300000)\">//, EVENT</span><span title='Simple CSV Event importer/Date, Value:951212 Units:n/a // Simple CSV Event importer, Whole line' style=\"background-color:rgba(182,217,221,0.300000)\"a>, 951212</span><span title='Simple CSV Event importer/Time, Value:050300.000 Units:n/a // Simple CSV Event importer, Whole line' style=\"background-color:rgba(219,180,118,0.300000)\"a>, 050300.000</span><span title='Simple CSV Event importer/Event, Value:050300.000 Units:n/a // Simple CSV Event importer, Whole line' style=\"background-color:rgba(219,138,184,0.300000)\"a>, CHARLIE</span></br>951212, 050300.000, FORD_11, @C, 354.7, 2.1, 14</br>951212, 050200.000, COROLLA_44, @C, 177.9, 3.1, 15</br><span title='Simple CSV Event importer, Whole line' style=\"background-color:rgba(209,229,214,0.300000)\">//, EVENT</span><span title='Simple CSV Event importer/Date, Value:951212 Units:n/a // Simple CSV Event importer, Whole line' style=\"background-color:rgba(182,217,221,0.300000)\"a>, 951212</span><span title='Simple CSV Event importer/Time, Value:050300.000 Units:n/a // Simple CSV Event importer, Whole line' style=\"background-color:rgba(219,180,118,0.300000)\"a>, 050300.000</span><span title='Simple CSV Event importer/Event, Value:050300.000 Units:n/a // Simple CSV Event importer, Whole line' style=\"background-color:rgba(219,138,184,0.300000)\"a>, DELTA</span></br>951212, 050300.000, COROLLA_44, @C, 200, 3.1, 15</br>"
      ],
      "text/plain": [
       "<IPython.core.display.HTML object>"
      ]
     },
     "execution_count": 5,
     "metadata": {},
     "output_type": "execute_result"
    }
   ],
   "source": [
    "from  data_highlight.highlighter import  HighlightedFile\n",
    "\n",
    "dataFileCSV = HighlightedFile('data_highlight/file_comma.txt')\n",
    "# get the set of self-describing lines\n",
    "lines = dataFileCSV.lines()\n",
    "\n",
    "CSV_DELIM = \"(?:,\\\"|^\\\")(\\\"\\\"|[\\w\\W]*?)(?=\\\",|\\\"$)|(?:,(?!\\\")|^(?!\\\"))([^,]*?)(?=$|,)|(\\r\\n|\\n)\"\n",
    "\n",
    "for thisLine in lines:\n",
    "\n",
    "    tokens = thisLine.tokens(CSV_DELIM, \",\")  # note we specify delimiter\n",
    "\n",
    "\n",
    "    # check the type\n",
    "    firstToken = tokens[0]\n",
    "\n",
    "    if firstToken.text == \"//\":\n",
    "        # event marker\n",
    "        eventImporter = \"Simple CSV Event importer\"\n",
    "        dateToken = tokens[2]\n",
    "        dateToken.record(eventImporter, \"Date\", dateToken.text, \"n/a\")\n",
    "        timeToken = tokens[3]\n",
    "        timeToken.record(eventImporter, \"Time\", timeToken.text, \"n/a\")\n",
    "        eventToken = tokens[4]\n",
    "        eventToken.record(eventImporter, \"Event\", timeToken.text, \"n/a\")\n",
    "\n",
    "        # and the whole=line record\n",
    "        thisLine.record(eventImporter, \"Whole line\")\n",
    "\n",
    "# output to file, display\n",
    "dataFileCSV.export(\"out5.html\")\n",
    "HTML(filename=\"out5.html\")\n",
    "\n"
   ]
  },
  {
   "cell_type": "code",
   "execution_count": null,
   "metadata": {},
   "outputs": [],
   "source": []
  }
 ],
 "metadata": {
  "kernelspec": {
   "display_name": "Python 3",
   "language": "python",
   "name": "python3"
  },
  "language_info": {
   "codemirror_mode": {
    "name": "ipython",
    "version": 3
   },
   "file_extension": ".py",
   "mimetype": "text/x-python",
   "name": "python",
   "nbconvert_exporter": "python",
   "pygments_lexer": "ipython3",
   "version": "3.6.8"
  },
  "pycharm": {
   "stem_cell": {
    "cell_type": "raw",
    "metadata": {
     "collapsed": false
    },
    "source": []
   }
  }
 },
 "nbformat": 4,
 "nbformat_minor": 2
}
