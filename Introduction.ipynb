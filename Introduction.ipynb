{
 "cells": [
  {
   "cell_type": "code",
   "execution_count": 1,
   "metadata": {},
   "outputs": [],
   "source": [
    "#Import library\n",
    "import ipywidgets as widgets\n",
    "from IPython.display import HTML\n",
    "from  data_highlight.highlighter import  HighlightedFile\n",
    "\n",
    "from re import finditer"
   ]
  },
  {
   "cell_type": "markdown",
   "metadata": {},
   "source": [
    "## Find a sample file\n",
    "\n",
    "This mock file contains two different types of data. One is a set of time-stamped measurements of direction speed and engine temperature:\n",
    "\n",
    "| date | time | vehicle | color | direction | speed | temperature |\n",
    "|------|------|---------|-------|-----------|-------|-------------|\n",
    "|951212|050000|MONDEO_44|  @C   |   269.7   |  2.0  |    10       |\n",
    "\n",
    "Interspersed in these measurements are some time-stamped events:\n",
    "\n",
    "| marker | type | date | time | event name |\n",
    "|--------|------|------|------|------------|\n",
    "|//      |EVENT |951212|050300|  BRAVO     |\n",
    "\n",
    "Let's load such a file, then look at the contents:"
   ]
  },
  {
   "cell_type": "code",
   "execution_count": 3,
   "metadata": {},
   "outputs": [
    {
     "name": "stdout",
     "output_type": "stream",
     "text": [
      "951212 050000.000 MONDEO_44   @C   269.7   2.0      10\n",
      "// EVENT 951212 050300.000 BRAVO\n",
      "// EVENT 951212 050300.000 CHARLIE\n",
      "951212 050300.000 FORD_11   @C   354.7   2.1      14\n",
      "951212 050200.000 COROLLA_44   @C   177.9   3.1      15\n",
      "// EVENT 951212 050300.000 DELTA\n",
      "951212 050300.000 COROLLA_44   @C   200   3.1      15\n",
      "\n"
     ]
    }
   ],
   "source": [
    "text_file = open(\"data_highlight/file.txt\")\n",
    "file_content = text_file.read()\n",
    "print(file_content)\n",
    "text_file.close()"
   ]
  },
  {
   "cell_type": "markdown",
   "metadata": {},
   "source": [
    "## Try out a simple event importer\n",
    "\n",
    "We're going to parse this datafile, so it can be inserted into a database.  But, we're also going to keep track of how the file was tokenized, how those tokens were parsed, and how the parsed data was interpreted.\n",
    "\n",
    "**Note:** the code to actually insert data into a database isn't present in this file, since that's a capability that is independent of this library.\n",
    "\n",
    "So, this library is going to provide us with tools to loop through the lines and tokens, and then to record the fact that data was extracted from a token.\n",
    "\n",
    "To start with, well look at those time-stamped events."
   ]
  },
  {
   "cell_type": "code",
   "execution_count": 17,
   "metadata": {},
   "outputs": [
    {
     "data": {
      "text/html": [
       "951212 050000.000 MONDEO_44   @C   269.7   2.0      10</br><span title='Simple Event importer, Whole line' style=\"background-color:rgba(163,138,229,0.300000)\">// EVENT </span><span title='Simple Event importer/Date, Value:951212 Units:n/a // Simple Event importer, Whole line' style=\"background-color:rgba(128,183,176,0.300000)\"a>951212</span><span title='Simple Event importer, Whole line' style=\"background-color:rgba(163,138,229,0.300000)\"a> </span><span title='Simple Event importer/Time, Value:050300.000 Units:n/a // Simple Event importer, Whole line' style=\"background-color:rgba(163,183,171,0.300000)\"a>050300.000</span><span title='Simple Event importer, Whole line' style=\"background-color:rgba(163,138,229,0.300000)\"a> </span><span title='Simple Event importer/Event, Value:050300.000 Units:n/a // Simple Event importer, Whole line' style=\"background-color:rgba(196,175,227,0.300000)\"a>BRAVO</span></br><span title='Simple Event importer, Whole line' style=\"background-color:rgba(163,138,229,0.300000)\">// EVENT </span><span title='Simple Event importer/Date, Value:951212 Units:n/a // Simple Event importer, Whole line' style=\"background-color:rgba(128,183,176,0.300000)\"a>951212</span><span title='Simple Event importer, Whole line' style=\"background-color:rgba(163,138,229,0.300000)\"a> </span><span title='Simple Event importer/Time, Value:050300.000 Units:n/a // Simple Event importer, Whole line' style=\"background-color:rgba(163,183,171,0.300000)\"a>050300.000</span><span title='Simple Event importer, Whole line' style=\"background-color:rgba(163,138,229,0.300000)\"a> </span><span title='Simple Event importer/Event, Value:050300.000 Units:n/a // Simple Event importer, Whole line' style=\"background-color:rgba(196,175,227,0.300000)\"a>CHARLIE</span></br>951212 050300.000 FORD_11   @C   354.7   2.1      14</br>951212 050200.000 COROLLA_44   @C   177.9   3.1      15</br><span title='Simple Event importer, Whole line' style=\"background-color:rgba(163,138,229,0.300000)\">// EVENT </span><span title='Simple Event importer/Date, Value:951212 Units:n/a // Simple Event importer, Whole line' style=\"background-color:rgba(128,183,176,0.300000)\"a>951212</span><span title='Simple Event importer, Whole line' style=\"background-color:rgba(163,138,229,0.300000)\"a> </span><span title='Simple Event importer/Time, Value:050300.000 Units:n/a // Simple Event importer, Whole line' style=\"background-color:rgba(163,183,171,0.300000)\"a>050300.000</span><span title='Simple Event importer, Whole line' style=\"background-color:rgba(163,138,229,0.300000)\"a> </span><span title='Simple Event importer/Event, Value:050300.000 Units:n/a // Simple Event importer, Whole line' style=\"background-color:rgba(196,175,227,0.300000)\"a>DELTA</span></br>951212 050300.000 COROLLA_44   @C   200   3.1      15</br>"
      ],
      "text/plain": [
       "<IPython.core.display.HTML object>"
      ]
     },
     "execution_count": 17,
     "metadata": {},
     "output_type": "execute_result"
    }
   ],
   "source": [
    "# create the self-highlighter\n",
    "dataFile = HighlightedFile('data_highlight/file.txt')\n",
    "\n",
    "# get the set of self-describing lines\n",
    "lines = dataFile.lines()\n",
    "\n",
    "# process the lines\n",
    "for thisLine in lines:\n",
    "    tokens = thisLine.tokens()\n",
    "\n",
    "    # check the type\n",
    "    firstToken = tokens[0]\n",
    "    if firstToken.text == \"//\":\n",
    "        # event marker\n",
    "        eventImporter = \"Simple Event importer\"\n",
    "        dateToken = tokens[2]\n",
    "        dateToken.record(eventImporter,\"Date\", dateToken.text)\n",
    "        timeToken = tokens[3]\n",
    "        timeToken.record(eventImporter,\"Time\", timeToken.text)\n",
    "        eventToken = tokens[4]\n",
    "        eventToken.record(eventImporter,\"Event\", timeToken.text)\n",
    "\n",
    "        # and the whole=line record\n",
    "        thisLine.record(eventImporter, \"Whole line\")\n",
    "\n",
    "# output to file, display\n",
    "dataFile.export(\"out4.html\")\n",
    "HTML(filename=\"./out4.html\")\n"
   ]
  },
  {
   "cell_type": "markdown",
   "metadata": {},
   "source": [
    "You can see that the three rows have been highlighted, as triggered from the `thisLine.record()` method call.  In addition to that, the three fields that got parsed were also highlighted.  Hover over the text to view a tooltip explaining how that element was utilised."
   ]
  },
  {
   "cell_type": "markdown",
   "metadata": {
    "pycharm": {
     "name": "#%% md\n"
    }
   },
   "source": [
    "## Try a State import tool\n",
    "State data is a little more complex. In this importer we're going to indicate that the date and time tokens were combined to give a single timestamp.  We're also going to indicate that the speed token was exploited in two ways."
   ]
  },
  {
   "cell_type": "code",
   "execution_count": 22,
   "metadata": {
    "pycharm": {
     "name": "#%%\n"
    }
   },
   "outputs": [
    {
     "data": {
      "text/html": [
       "<span title='State importer/Date, Value:951212 Units:n/a' style=\"background-color:rgba(188,229,219,0.300000)\">951212</span> <span title='State importer/Time, Value:050000.000 Units:n/a' style=\"background-color:rgba(104,229,90,0.300000)\">050000.000</span> <span title='State importer/Vehicle, Value:MONDEO_44 Units:n/a' style=\"background-color:rgba(229,192,200,0.300000)\">MONDEO_44</span>   @C   <span title='State importer/Direction, Value:269.7 Units:degs' style=\"background-color:rgba(168,127,229,0.300000)\">269.7</span>   <span title='State importer/Speed, Value:10.0 Units:m/s // State importer/LOW SPEED, Value:10.0 Units:m/s' style=\"background-color:rgba(221,224,220,0.300000)\">10.0</span>      <span title='State importer/Temperature, Value:10.0 Units:degs' style=\"background-color:rgba(229,17,206,0.300000)\">10</span></br>// EVENT 951212 050300.000 BRAVO</br>// EVENT 951212 050300.000 CHARLIE</br><span title='State importer/Date, Value:951212 Units:n/a' style=\"background-color:rgba(188,229,219,0.300000)\">951212</span> <span title='State importer/Time, Value:050300.000 Units:n/a' style=\"background-color:rgba(104,229,90,0.300000)\">050300.000</span> <span title='State importer/Vehicle, Value:FORD_11 Units:n/a' style=\"background-color:rgba(229,192,200,0.300000)\">FORD_11</span>   @C   <span title='State importer/Direction, Value:354.7 Units:degs' style=\"background-color:rgba(168,127,229,0.300000)\">354.7</span>   <span title='State importer/Speed, Value:22.1 Units:m/s // State importer/LOW SPEED, Value:22.1 Units:m/s' style=\"background-color:rgba(221,224,220,0.300000)\">22.1</span>      <span title='State importer/Temperature, Value:14.0 Units:degs' style=\"background-color:rgba(229,17,206,0.300000)\">14</span></br><span title='State importer/Date, Value:951212 Units:n/a' style=\"background-color:rgba(188,229,219,0.300000)\">951212</span> <span title='State importer/Time, Value:050200.000 Units:n/a' style=\"background-color:rgba(104,229,90,0.300000)\">050200.000</span> <span title='State importer/Vehicle, Value:COROLLA_44 Units:n/a' style=\"background-color:rgba(229,192,200,0.300000)\">COROLLA_44</span>   @C   <span title='State importer/Direction, Value:177.9 Units:degs' style=\"background-color:rgba(168,127,229,0.300000)\">177.9</span>   <span title='State importer/Speed, Value:36.1 Units:m/s' style=\"background-color:rgba(214,229,223,0.300000)\">36.1</span>      <span title='State importer/Temperature, Value:15.0 Units:degs' style=\"background-color:rgba(229,17,206,0.300000)\">15</span></br>// EVENT 951212 050300.000 DELTA</br><span title='State importer/Date, Value:951212 Units:n/a' style=\"background-color:rgba(188,229,219,0.300000)\">951212</span> <span title='State importer/Time, Value:050300.000 Units:n/a' style=\"background-color:rgba(104,229,90,0.300000)\">050300.000</span> <span title='State importer/Vehicle, Value:COROLLA_44 Units:n/a' style=\"background-color:rgba(229,192,200,0.300000)\">COROLLA_44</span>   @C   <span title='State importer/Direction, Value:200.0 Units:degs' style=\"background-color:rgba(168,127,229,0.300000)\">200</span>   <span title='State importer/Speed, Value:60.1 Units:m/s // State importer/HIGH SPEED, Value:60.1 Units:m/s' style=\"background-color:rgba(204,154,226,0.300000)\">60.1</span>      <span title='State importer/Temperature, Value:15.0 Units:degs' style=\"background-color:rgba(229,17,206,0.300000)\">15</span></br>"
      ],
      "text/plain": [
       "<IPython.core.display.HTML object>"
      ]
     },
     "execution_count": 22,
     "metadata": {},
     "output_type": "execute_result"
    }
   ],
   "source": [
    "# create the self-highlighter\n",
    "dataFile = HighlightedFile('data_highlight/file.txt')\n",
    "\n",
    "# get the set of self-describing lines\n",
    "lines = dataFile.lines()\n",
    "\n",
    "# process the lines\n",
    "for thisLine in lines:\n",
    "    tokens = thisLine.tokens()\n",
    "    myName = \"State importer\"\n",
    "\n",
    "    # check the type\n",
    "    firstToken = tokens[0]\n",
    "    if firstToken.text != \"//\":\n",
    "        dateToken = tokens[0]\n",
    "        dateToken.record(myName,\"Date\", dateToken.text, \"n/a\")\n",
    "\n",
    "        timeToken = tokens[1]\n",
    "        timeToken.record(myName,\"Time\", timeToken.text, \"n/a\")\n",
    "\n",
    "        vehicleToken = tokens[2]\n",
    "        vehicleVal = vehicleToken.text\n",
    "        vehicleToken.record(myName,\"Vehicle\", vehicleVal,\"n/a\")  \n",
    "\n",
    "        directionToken = tokens[4]\n",
    "        directionVal = float(directionToken.text)\n",
    "        directionToken.record(myName,\"Direction\", directionVal,\"degs\")  \n",
    "\n",
    "        speedToken = tokens[5]\n",
    "        speedVal = float(speedToken.text)\n",
    "        speedToken.record(myName,\"Speed\", speedVal,\"m/s\")  \n",
    "\n",
    "        # special processing. Store low speed if value below 3 m/s\n",
    "        if(speedVal < 30):\n",
    "            speedToken.record(myName,\"LOW SPEED\", speedVal,\"m/s\")  \n",
    "        if(speedVal > 60):\n",
    "            speedToken.record(myName,\"HIGH SPEED\", speedVal,\"m/s\")  \n",
    "\n",
    "            \n",
    "        temperatureToken = tokens[6]\n",
    "        temperatureVal = float(temperatureToken.text)\n",
    "        temperatureToken.record(myName,\"Temperature\", temperatureVal,\"degs\")\n",
    "\n",
    "# output to file, display\n",
    "dataFile.export(\"out4.html\")\n",
    "HTML(filename=\"./out4.html\")"
   ]
  },
  {
   "cell_type": "markdown",
   "metadata": {},
   "source": [
    "Note in the above output summary that in the speed column (the last but one column) \n",
    "their tooltips indicate how many times each token was used.  Their background highlight colors\n",
    "all change to match which tools utilised them."
   ]
  },
  {
   "cell_type": "markdown",
   "metadata": {
    "pycharm": {
     "name": "#%% md\n"
    }
   },
   "source": [
    "## Event and state at the same time\n",
    "Next we'll process event and state in the same file."
   ]
  },
  {
   "cell_type": "code",
   "execution_count": 23,
   "metadata": {},
   "outputs": [
    {
     "data": {
      "text/html": [
       "<span title='State importer/Date, Value:951212 Units:n/a' style=\"background-color:rgba(95,155,229,0.300000)\">951212</span> <span title='State importer/Time, Value:050000.000 Units:n/a' style=\"background-color:rgba(113,229,81,0.300000)\">050000.000</span> <span title='State importer/Vehicle, Value:MONDEO_44 Units:n/a' style=\"background-color:rgba(229,190,133,0.300000)\">MONDEO_44</span>   @C   <span title='State importer/Direction, Value:269.7 Units:degs' style=\"background-color:rgba(229,228,215,0.300000)\">269.7</span>   <span title='State importer/Speed, Value:10.0 Units:m/s // State importer/Other Speed, Value:10.0 Units:m/s' style=\"background-color:rgba(162,161,200,0.300000)\">10.0</span>      <span title='State importer/Temperature, Value:10.0 Units:degs' style=\"background-color:rgba(208,229,189,0.300000)\">10</span></br><span title='Simple Event importer, Whole line' style=\"background-color:rgba(123,229,91,0.300000)\">// EVENT </span><span title='Simple Event importer/Date, Value:951212 Units:n/a // Simple Event importer, Whole line' style=\"background-color:rgba(176,209,48,0.300000)\"a>951212</span><span title='Simple Event importer, Whole line' style=\"background-color:rgba(123,229,91,0.300000)\"a> </span><span title='Simple Event importer/Time, Value:050300.000 Units:n/a // Simple Event importer, Whole line' style=\"background-color:rgba(140,229,131,0.300000)\"a>050300.000</span><span title='Simple Event importer, Whole line' style=\"background-color:rgba(123,229,91,0.300000)\"a> </span><span title='Simple Event importer/Event, Value:050300.000 Units:n/a // Simple Event importer, Whole line' style=\"background-color:rgba(71,229,127,0.300000)\"a>BRAVO</span></br><span title='Simple Event importer, Whole line' style=\"background-color:rgba(123,229,91,0.300000)\">// EVENT </span><span title='Simple Event importer/Date, Value:951212 Units:n/a // Simple Event importer, Whole line' style=\"background-color:rgba(176,209,48,0.300000)\"a>951212</span><span title='Simple Event importer, Whole line' style=\"background-color:rgba(123,229,91,0.300000)\"a> </span><span title='Simple Event importer/Time, Value:050300.000 Units:n/a // Simple Event importer, Whole line' style=\"background-color:rgba(140,229,131,0.300000)\"a>050300.000</span><span title='Simple Event importer, Whole line' style=\"background-color:rgba(123,229,91,0.300000)\"a> </span><span title='Simple Event importer/Event, Value:050300.000 Units:n/a // Simple Event importer, Whole line' style=\"background-color:rgba(71,229,127,0.300000)\"a>CHARLIE</span></br><span title='State importer/Date, Value:951212 Units:n/a' style=\"background-color:rgba(95,155,229,0.300000)\">951212</span> <span title='State importer/Time, Value:050300.000 Units:n/a' style=\"background-color:rgba(113,229,81,0.300000)\">050300.000</span> <span title='State importer/Vehicle, Value:FORD_11 Units:n/a' style=\"background-color:rgba(229,190,133,0.300000)\">FORD_11</span>   @C   <span title='State importer/Direction, Value:354.7 Units:degs' style=\"background-color:rgba(229,228,215,0.300000)\">354.7</span>   <span title='State importer/Speed, Value:22.1 Units:m/s // State importer/Other Speed, Value:22.1 Units:m/s' style=\"background-color:rgba(162,161,200,0.300000)\">22.1</span>      <span title='State importer/Temperature, Value:14.0 Units:degs' style=\"background-color:rgba(208,229,189,0.300000)\">14</span></br><span title='State importer/Date, Value:951212 Units:n/a' style=\"background-color:rgba(95,155,229,0.300000)\">951212</span> <span title='State importer/Time, Value:050200.000 Units:n/a' style=\"background-color:rgba(113,229,81,0.300000)\">050200.000</span> <span title='State importer/Vehicle, Value:COROLLA_44 Units:n/a' style=\"background-color:rgba(229,190,133,0.300000)\">COROLLA_44</span>   @C   <span title='State importer/Direction, Value:177.9 Units:degs' style=\"background-color:rgba(229,228,215,0.300000)\">177.9</span>   <span title='State importer/Speed, Value:36.1 Units:m/s // State importer/Other Speed, Value:36.1 Units:m/s' style=\"background-color:rgba(162,161,200,0.300000)\">36.1</span>      <span title='State importer/Temperature, Value:15.0 Units:degs' style=\"background-color:rgba(208,229,189,0.300000)\">15</span></br><span title='Simple Event importer, Whole line' style=\"background-color:rgba(123,229,91,0.300000)\">// EVENT </span><span title='Simple Event importer/Date, Value:951212 Units:n/a // Simple Event importer, Whole line' style=\"background-color:rgba(176,209,48,0.300000)\"a>951212</span><span title='Simple Event importer, Whole line' style=\"background-color:rgba(123,229,91,0.300000)\"a> </span><span title='Simple Event importer/Time, Value:050300.000 Units:n/a // Simple Event importer, Whole line' style=\"background-color:rgba(140,229,131,0.300000)\"a>050300.000</span><span title='Simple Event importer, Whole line' style=\"background-color:rgba(123,229,91,0.300000)\"a> </span><span title='Simple Event importer/Event, Value:050300.000 Units:n/a // Simple Event importer, Whole line' style=\"background-color:rgba(71,229,127,0.300000)\"a>DELTA</span></br><span title='State importer/Date, Value:951212 Units:n/a' style=\"background-color:rgba(95,155,229,0.300000)\">951212</span> <span title='State importer/Time, Value:050300.000 Units:n/a' style=\"background-color:rgba(113,229,81,0.300000)\">050300.000</span> <span title='State importer/Vehicle, Value:COROLLA_44 Units:n/a' style=\"background-color:rgba(229,190,133,0.300000)\">COROLLA_44</span>   @C   <span title='State importer/Direction, Value:200.0 Units:degs' style=\"background-color:rgba(229,228,215,0.300000)\">200</span>   <span title='State importer/Speed, Value:60.1 Units:m/s // State importer/Other Speed, Value:60.1 Units:m/s' style=\"background-color:rgba(162,161,200,0.300000)\">60.1</span>      <span title='State importer/Temperature, Value:15.0 Units:degs' style=\"background-color:rgba(208,229,189,0.300000)\">15</span></br>"
      ],
      "text/plain": [
       "<IPython.core.display.HTML object>"
      ]
     },
     "execution_count": 23,
     "metadata": {},
     "output_type": "execute_result"
    }
   ],
   "source": [
    "# create the self-highlighter\n",
    "dataFile = HighlightedFile('data_highlight/file.txt')\n",
    "\n",
    "# get the set of self-describing lines\n",
    "lines = dataFile.lines()\n",
    "\n",
    "for thisLine in lines:\n",
    "    tokens = thisLine.tokens()\n",
    "\n",
    "    # check the type\n",
    "    firstToken = tokens[0]\n",
    "    if firstToken.text == \"//\":\n",
    "        # event marker\n",
    "        eventImporter = \"Simple Event importer\"\n",
    "        dateToken = tokens[2]\n",
    "        dateToken.record(eventImporter,\"Date\", dateToken.text)\n",
    "        timeToken = tokens[3]\n",
    "        timeToken.record(eventImporter,\"Time\", timeToken.text)\n",
    "        eventToken = tokens[4]\n",
    "        eventToken.record(eventImporter,\"Event\", timeToken.text)\n",
    "\n",
    "        # and the whole=line record\n",
    "        thisLine.record(eventImporter, \"Whole line\")\n",
    "    else:\n",
    "        dateToken = tokens[0]\n",
    "        dateToken.record(myName,\"Date\", dateToken.text, \"n/a\")\n",
    "\n",
    "        timeToken = tokens[1]\n",
    "        timeToken.record(myName,\"Time\", timeToken.text, \"n/a\")\n",
    "\n",
    "        vehicleToken = tokens[2]\n",
    "        vehicleVal = vehicleToken.text\n",
    "        vehicleToken.record(myName,\"Vehicle\", vehicleVal,\"n/a\")  \n",
    "\n",
    "        directionToken = tokens[4]\n",
    "        directionVal = float(directionToken.text)\n",
    "        directionToken.record(myName,\"Direction\", directionVal,\"degs\")  \n",
    "\n",
    "        speedToken = tokens[5]\n",
    "        speedVal = float(speedToken.text)\n",
    "        speedToken.record(myName,\"Speed\", speedVal,\"m/s\")  \n",
    "\n",
    "        speedToken = tokens[5]\n",
    "        speedVal = float(speedToken.text)\n",
    "        speedToken.record(myName,\"Other Speed\", speedVal,\"m/s\")  \n",
    "\n",
    "        temperatureToken = tokens[6]\n",
    "        temperatureVal = float(temperatureToken.text)\n",
    "        temperatureToken.record(myName,\"Temperature\", temperatureVal,\"degs\")\n",
    "\n",
    "\n",
    "# output to file, display\n",
    "dataFile.export(\"out4.html\")\n",
    "HTML(filename=\"./out4.html\")"
   ]
  },
  {
   "cell_type": "markdown",
   "metadata": {
    "pycharm": {
     "name": "#%% md\n"
    }
   },
   "source": [
    "## Find a comma-delimited file"
   ]
  },
  {
   "cell_type": "code",
   "execution_count": 7,
   "metadata": {
    "pycharm": {
     "name": "#%%\n"
    }
   },
   "outputs": [
    {
     "name": "stdout",
     "output_type": "stream",
     "text": [
      "951212, 050000.000, MONDEO_44, @C, 269.7, 2.0, 10\n",
      "//, EVENT, 951212, 050300.000, BRAVO\n",
      "//, EVENT, 951212, 050300.000, CHARLIE\n",
      "951212, 050300.000, FORD_11, @C, 354.7, 2.1, 14\n",
      "951212, 050200.000, COROLLA_44, @C, 177.9, 3.1, 15\n",
      "//, EVENT, 951212, 050300.000, DELTA\n",
      "951212, 050300.000, COROLLA_44, @C, 200, 3.1, 15\n",
      "\n"
     ]
    }
   ],
   "source": [
    "text_file = open(\"data_highlight/file_comma.txt\")\n",
    "file_content = text_file.read()\n",
    "print(file_content)\n",
    "text_file.close()"
   ]
  },
  {
   "cell_type": "markdown",
   "metadata": {},
   "source": [
    "#### Process a comma-delimited file"
   ]
  },
  {
   "cell_type": "code",
   "execution_count": 24,
   "metadata": {
    "pycharm": {
     "name": "#%%\n"
    }
   },
   "outputs": [
    {
     "data": {
      "text/html": [
       "951212, 050000.000, MONDEO_44, @C, 269.7, 2.0, 10</br><span title='Simple CSV Event importer, Whole line' style=\"background-color:rgba(95,6,229,0.300000)\">//, EVENT</span><span title='Simple CSV Event importer/Date, Value:951212 Units:n/a // Simple CSV Event importer, Whole line' style=\"background-color:rgba(113,117,188,0.300000)\"a>, 951212</span><span title='Simple CSV Event importer/Time, Value:050300.000 Units:n/a // Simple CSV Event importer, Whole line' style=\"background-color:rgba(125,117,177,0.300000)\"a>, 050300.000</span><span title='Simple CSV Event importer/Event, Value:050300.000 Units:n/a // Simple CSV Event importer, Whole line' style=\"background-color:rgba(162,117,225,0.300000)\"a>, BRAVO</span></br><span title='Simple CSV Event importer, Whole line' style=\"background-color:rgba(95,6,229,0.300000)\">//, EVENT</span><span title='Simple CSV Event importer/Date, Value:951212 Units:n/a // Simple CSV Event importer, Whole line' style=\"background-color:rgba(113,117,188,0.300000)\"a>, 951212</span><span title='Simple CSV Event importer/Time, Value:050300.000 Units:n/a // Simple CSV Event importer, Whole line' style=\"background-color:rgba(125,117,177,0.300000)\"a>, 050300.000</span><span title='Simple CSV Event importer/Event, Value:050300.000 Units:n/a // Simple CSV Event importer, Whole line' style=\"background-color:rgba(162,117,225,0.300000)\"a>, CHARLIE</span></br>951212, 050300.000, FORD_11, @C, 354.7, 2.1, 14</br>951212, 050200.000, COROLLA_44, @C, 177.9, 3.1, 15</br><span title='Simple CSV Event importer, Whole line' style=\"background-color:rgba(95,6,229,0.300000)\">//, EVENT</span><span title='Simple CSV Event importer/Date, Value:951212 Units:n/a // Simple CSV Event importer, Whole line' style=\"background-color:rgba(113,117,188,0.300000)\"a>, 951212</span><span title='Simple CSV Event importer/Time, Value:050300.000 Units:n/a // Simple CSV Event importer, Whole line' style=\"background-color:rgba(125,117,177,0.300000)\"a>, 050300.000</span><span title='Simple CSV Event importer/Event, Value:050300.000 Units:n/a // Simple CSV Event importer, Whole line' style=\"background-color:rgba(162,117,225,0.300000)\"a>, DELTA</span></br>951212, 050300.000, COROLLA_44, @C, 200, 3.1, 15</br>"
      ],
      "text/plain": [
       "<IPython.core.display.HTML object>"
      ]
     },
     "execution_count": 24,
     "metadata": {},
     "output_type": "execute_result"
    }
   ],
   "source": [
    "# create the self-highlighter\n",
    "dataFile = HighlightedFile('data_highlight/file_comma.txt')\n",
    "\n",
    "# get the set of self-describing lines\n",
    "lines = dataFile.lines()\n",
    "\n",
    "CSV_DELIM = \"(?:,\\\"|^\\\")(\\\"\\\"|[\\w\\W]*?)(?=\\\",|\\\"$)|(?:,(?!\\\")|^(?!\\\"))([^,]*?)(?=$|,)|(\\r\\n|\\n)\"\n",
    "for thisLine in lines:\n",
    "\n",
    "\n",
    "    tokens = thisLine.tokens(CSV_DELIM, \",\") # note we specify delimiter\n",
    "\n",
    "    #print(tokens[0], \" \", tokens[1], \" \", tokens[2], \" \", tokens[3]) \n",
    "\n",
    "    # check the type\n",
    "    firstToken = tokens[0]\n",
    "\n",
    "    if firstToken.text == \"//\":\n",
    "        # event marker\n",
    "        eventImporter = \"Simple CSV Event importer\"\n",
    "        dateToken = tokens[2]\n",
    "        dateToken.record(eventImporter,\"Date\", dateToken.text, \"n/a\")\n",
    "        timeToken = tokens[3]\n",
    "        timeToken.record(eventImporter,\"Time\", timeToken.text, \"n/a\")\n",
    "        eventToken = tokens[4]\n",
    "        eventToken.record(eventImporter,\"Event\", timeToken.text, \"n/a\")\n",
    "\n",
    "        # and the whole=line record\n",
    "        thisLine.record(eventImporter, \"Whole line\")\n",
    "# output to file, display\n",
    "dataFile.export(\"out5.html\")\n",
    "HTML(filename=\"./out5.html\")"
   ]
  },
  {
   "cell_type": "code",
   "execution_count": null,
   "metadata": {},
   "outputs": [],
   "source": []
  }
 ],
 "metadata": {
  "kernelspec": {
   "display_name": "Python 3",
   "language": "python",
   "name": "python3"
  },
  "language_info": {
   "codemirror_mode": {
    "name": "ipython",
    "version": 3
   },
   "file_extension": ".py",
   "mimetype": "text/x-python",
   "name": "python",
   "nbconvert_exporter": "python",
   "pygments_lexer": "ipython3",
   "version": "3.7.4"
  },
  "pycharm": {
   "stem_cell": {
    "cell_type": "raw",
    "metadata": {
     "collapsed": false
    },
    "source": []
   }
  }
 },
 "nbformat": 4,
 "nbformat_minor": 2
}
