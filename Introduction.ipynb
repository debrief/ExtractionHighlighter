{
 "cells": [
  {
   "cell_type": "code",
   "execution_count": 1,
   "metadata": {},
   "outputs": [],
   "source": [
    "#Import library\n",
    "import ipywidgets as widgets\n",
    "from IPython.display import HTML\n",
    "from  data_highlight.highlighter import  HighlightedFile\n",
    "\n",
    "from re import finditer"
   ]
  },
  {
   "cell_type": "markdown",
   "metadata": {},
   "source": [
    "## Try to import a text file"
   ]
  },
  {
   "cell_type": "code",
   "execution_count": 2,
   "metadata": {},
   "outputs": [
    {
     "name": "stdout",
     "output_type": "stream",
     "text": [
      "951212 050000.000 MONDEO_44   @C   269.7   2.0      10\n",
      "// EVENT 951212 050300.000 BRAVO\n",
      "// EVENT 951212 050300.000 CHARLIE\n",
      "951212 050300.000 FORD_11   @C   354.7   2.1      14\n",
      "951212 050200.000 COROLLA_44   @C   177.9   3.1      15\n",
      "// EVENT 951212 050300.000 DELTA\n",
      "951212 050300.000 COROLLA_44   @C   200   3.1      15\n",
      "\n"
     ]
    }
   ],
   "source": [
    "text_file = open(\"data_highlight/file.txt\")\n",
    "file_content = text_file.read()\n",
    "print(file_content)\n",
    "text_file.close()"
   ]
  },
  {
   "cell_type": "markdown",
   "metadata": {},
   "source": [
    "## Try out a simple event importer"
   ]
  },
  {
   "cell_type": "code",
   "execution_count": 3,
   "metadata": {},
   "outputs": [],
   "source": [
    "class EventImporter():\n",
    "    def importThese(self, lines):\n",
    "        # process the lines\n",
    "        for thisLine in lines:\n",
    "            tokens = thisLine.tokens()\n",
    "\n",
    "            # check the type\n",
    "            firstToken = tokens[0]\n",
    "            if firstToken.text == \"//\":\n",
    "                # event marker\n",
    "                eventImporter = \"Simple Event importer\"\n",
    "                dateToken = tokens[2]\n",
    "                dateToken.record(eventImporter,\"Date\", dateToken.text)\n",
    "                timeToken = tokens[3]\n",
    "                timeToken.record(eventImporter,\"Time\", timeToken.text)\n",
    "                eventToken = tokens[4]\n",
    "                eventToken.record(eventImporter,\"Event\", timeToken.text)\n",
    "\n",
    "                # and the whole=line record\n",
    "                thisLine.record(eventImporter, \"Whole line\")"
   ]
  },
  {
   "cell_type": "code",
   "execution_count": 4,
   "metadata": {},
   "outputs": [
    {
     "data": {
      "text/html": [
       "951212 050000.000 MONDEO_44   @C   269.7   2.0      10</br><span title='Simple Event importer, Whole line' style=\"background-color:rgba(78,185,229,0.300000)\">// EVENT </span><span title='Simple Event importer/Date, Value:951212 Units:n/a // Simple Event importer, Whole line' style=\"background-color:rgba(140,186,229,0.300000)\"a>951212</span><span title='Simple Event importer, Whole line' style=\"background-color:rgba(78,185,229,0.300000)\"a> </span><span title='Simple Event importer/Time, Value:050300.000 Units:n/a // Simple Event importer, Whole line' style=\"background-color:rgba(90,124,229,0.300000)\"a>050300.000</span><span title='Simple Event importer, Whole line' style=\"background-color:rgba(78,185,229,0.300000)\"a> </span><span title='Simple Event importer/Event, Value:050300.000 Units:n/a // Simple Event importer, Whole line' style=\"background-color:rgba(141,207,170,0.300000)\"a>BRAVO</span></br><span title='Simple Event importer, Whole line' style=\"background-color:rgba(78,185,229,0.300000)\">// EVENT </span><span title='Simple Event importer/Date, Value:951212 Units:n/a // Simple Event importer, Whole line' style=\"background-color:rgba(140,186,229,0.300000)\"a>951212</span><span title='Simple Event importer, Whole line' style=\"background-color:rgba(78,185,229,0.300000)\"a> </span><span title='Simple Event importer/Time, Value:050300.000 Units:n/a // Simple Event importer, Whole line' style=\"background-color:rgba(90,124,229,0.300000)\"a>050300.000</span><span title='Simple Event importer, Whole line' style=\"background-color:rgba(78,185,229,0.300000)\"a> </span><span title='Simple Event importer/Event, Value:050300.000 Units:n/a // Simple Event importer, Whole line' style=\"background-color:rgba(141,207,170,0.300000)\"a>CHARLIE</span></br>951212 050300.000 FORD_11   @C   354.7   2.1      14</br>951212 050200.000 COROLLA_44   @C   177.9   3.1      15</br><span title='Simple Event importer, Whole line' style=\"background-color:rgba(78,185,229,0.300000)\">// EVENT </span><span title='Simple Event importer/Date, Value:951212 Units:n/a // Simple Event importer, Whole line' style=\"background-color:rgba(140,186,229,0.300000)\"a>951212</span><span title='Simple Event importer, Whole line' style=\"background-color:rgba(78,185,229,0.300000)\"a> </span><span title='Simple Event importer/Time, Value:050300.000 Units:n/a // Simple Event importer, Whole line' style=\"background-color:rgba(90,124,229,0.300000)\"a>050300.000</span><span title='Simple Event importer, Whole line' style=\"background-color:rgba(78,185,229,0.300000)\"a> </span><span title='Simple Event importer/Event, Value:050300.000 Units:n/a // Simple Event importer, Whole line' style=\"background-color:rgba(141,207,170,0.300000)\"a>DELTA</span></br>951212 050300.000 COROLLA_44   @C   200   3.1      15</br>"
      ],
      "text/plain": [
       "<IPython.core.display.HTML object>"
      ]
     },
     "execution_count": 4,
     "metadata": {},
     "output_type": "execute_result"
    }
   ],
   "source": [
    "# create the self-highlighter\n",
    "dataFile = HighlightedFile('data_highlight/file.txt')\n",
    "\n",
    "# get the set of self-describing lines\n",
    "lines = dataFile.lines()\n",
    "\n",
    "# get an importer\n",
    "importer = EventImporter()\n",
    "\n",
    "# do the import\n",
    "importer.importThese(lines)\n",
    "\n",
    "# output to file, display\n",
    "dataFile.export(\"out4.html\")\n",
    "HTML(filename=\"./out4.html\")"
   ]
  },
  {
   "cell_type": "markdown",
   "metadata": {},
   "source": [
    "## Try a State import tool"
   ]
  },
  {
   "cell_type": "code",
   "execution_count": 5,
   "metadata": {},
   "outputs": [],
   "source": [
    "class StateImporter():\n",
    "    def importThese(self, lines):\n",
    "        # process the lines\n",
    "        for thisLine in lines:\n",
    "            tokens = thisLine.tokens()\n",
    "            myName = \"State importer\"\n",
    "            \n",
    "            # check the type\n",
    "            firstToken = tokens[0]\n",
    "            if firstToken.text != \"//\":\n",
    "                dateToken = tokens[0]\n",
    "                dateToken.record(myName,\"Date\", dateToken.text, \"n/a\")\n",
    "\n",
    "                timeToken = tokens[1]\n",
    "                timeToken.record(myName,\"Time\", timeToken.text, \"n/a\")\n",
    "\n",
    "                vehicleToken = tokens[2]\n",
    "                vehicleVal = vehicleToken.text\n",
    "                vehicleToken.record(myName,\"Vehicle\", vehicleVal,\"n/a\")  \n",
    "\n",
    "                directionToken = tokens[4]\n",
    "                directionVal = float(directionToken.text)\n",
    "                directionToken.record(myName,\"Direction\", directionVal,\"degs\")  \n",
    "\n",
    "                speedToken = tokens[5]\n",
    "                speedVal = float(speedToken.text)\n",
    "                speedToken.record(myName,\"Speed\", speedVal,\"m/s\")  \n",
    "\n",
    "                speedToken = tokens[5]\n",
    "                speedVal = float(speedToken.text)\n",
    "                speedToken.record(myName,\"Other Speed\", speedVal,\"m/s\")  \n",
    "\n",
    "                dirToken = tokens[6]\n",
    "                directionVal = float(dirToken.text)\n",
    "                dirToken.record(myName,\"Direction\", directionVal,\"degs\")"
   ]
  },
  {
   "cell_type": "code",
   "execution_count": 6,
   "metadata": {},
   "outputs": [
    {
     "data": {
      "text/html": [
       "<span title='State importer/Date, Value:951212 Units:n/a' style=\"background-color:rgba(159,229,210,0.300000)\">951212</span> <span title='State importer/Time, Value:050000.000 Units:n/a' style=\"background-color:rgba(212,219,229,0.300000)\">050000.000</span> <span title='State importer/Vehicle, Value:MONDEO_44 Units:n/a' style=\"background-color:rgba(159,132,229,0.300000)\">MONDEO_44</span>   @C   <span title='State importer/Direction, Value:269.7 Units:degs' style=\"background-color:rgba(136,229,141,0.300000)\">269.7</span>   <span title='State importer/Speed, Value:2.0 Units:m/s // State importer/Other Speed, Value:2.0 Units:m/s' style=\"background-color:rgba(162,122,118,0.300000)\">2.0</span>      <span title='State importer/Direction, Value:10.0 Units:degs' style=\"background-color:rgba(136,229,141,0.300000)\">10</span></br>// EVENT 951212 050300.000 BRAVO</br>// EVENT 951212 050300.000 CHARLIE</br><span title='State importer/Date, Value:951212 Units:n/a' style=\"background-color:rgba(159,229,210,0.300000)\">951212</span> <span title='State importer/Time, Value:050300.000 Units:n/a' style=\"background-color:rgba(212,219,229,0.300000)\">050300.000</span> <span title='State importer/Vehicle, Value:FORD_11 Units:n/a' style=\"background-color:rgba(159,132,229,0.300000)\">FORD_11</span>   @C   <span title='State importer/Direction, Value:354.7 Units:degs' style=\"background-color:rgba(136,229,141,0.300000)\">354.7</span>   <span title='State importer/Speed, Value:2.1 Units:m/s // State importer/Other Speed, Value:2.1 Units:m/s' style=\"background-color:rgba(162,122,118,0.300000)\">2.1</span>      <span title='State importer/Direction, Value:14.0 Units:degs' style=\"background-color:rgba(136,229,141,0.300000)\">14</span></br><span title='State importer/Date, Value:951212 Units:n/a' style=\"background-color:rgba(159,229,210,0.300000)\">951212</span> <span title='State importer/Time, Value:050200.000 Units:n/a' style=\"background-color:rgba(212,219,229,0.300000)\">050200.000</span> <span title='State importer/Vehicle, Value:COROLLA_44 Units:n/a' style=\"background-color:rgba(159,132,229,0.300000)\">COROLLA_44</span>   @C   <span title='State importer/Direction, Value:177.9 Units:degs' style=\"background-color:rgba(136,229,141,0.300000)\">177.9</span>   <span title='State importer/Speed, Value:3.1 Units:m/s // State importer/Other Speed, Value:3.1 Units:m/s' style=\"background-color:rgba(162,122,118,0.300000)\">3.1</span>      <span title='State importer/Direction, Value:15.0 Units:degs' style=\"background-color:rgba(136,229,141,0.300000)\">15</span></br>// EVENT 951212 050300.000 DELTA</br><span title='State importer/Date, Value:951212 Units:n/a' style=\"background-color:rgba(159,229,210,0.300000)\">951212</span> <span title='State importer/Time, Value:050300.000 Units:n/a' style=\"background-color:rgba(212,219,229,0.300000)\">050300.000</span> <span title='State importer/Vehicle, Value:COROLLA_44 Units:n/a' style=\"background-color:rgba(159,132,229,0.300000)\">COROLLA_44</span>   @C   <span title='State importer/Direction, Value:200.0 Units:degs' style=\"background-color:rgba(136,229,141,0.300000)\">200</span>   <span title='State importer/Speed, Value:3.1 Units:m/s // State importer/Other Speed, Value:3.1 Units:m/s' style=\"background-color:rgba(162,122,118,0.300000)\">3.1</span>      <span title='State importer/Direction, Value:15.0 Units:degs' style=\"background-color:rgba(136,229,141,0.300000)\">15</span></br>"
      ],
      "text/plain": [
       "<IPython.core.display.HTML object>"
      ]
     },
     "execution_count": 6,
     "metadata": {},
     "output_type": "execute_result"
    }
   ],
   "source": [
    "# create the self-highlighter\n",
    "dataFile = HighlightedFile('data_highlight/file.txt')\n",
    "\n",
    "# get the set of self-describing lines\n",
    "lines = dataFile.lines()\n",
    "\n",
    "# get an importer\n",
    "importer = StateImporter()\n",
    "\n",
    "# do the import\n",
    "importer.importThese(lines)\n",
    "\n",
    "# output to file, display\n",
    "dataFile.export(\"out4.html\")\n",
    "HTML(filename=\"./out4.html\")"
   ]
  },
  {
   "cell_type": "code",
   "execution_count": 7,
   "metadata": {},
   "outputs": [
    {
     "data": {
      "text/html": [
       "<span title='State importer/Date, Value:951212 Units:n/a' style=\"background-color:rgba(198,210,229,0.300000)\">951212</span> <span title='State importer/Time, Value:050000.000 Units:n/a' style=\"background-color:rgba(229,114,130,0.300000)\">050000.000</span> <span title='State importer/Vehicle, Value:MONDEO_44 Units:n/a' style=\"background-color:rgba(229,113,116,0.300000)\">MONDEO_44</span>   @C   <span title='State importer/Direction, Value:269.7 Units:degs' style=\"background-color:rgba(44,229,111,0.300000)\">269.7</span>   <span title='State importer/Speed, Value:2.0 Units:m/s // State importer/Other Speed, Value:2.0 Units:m/s' style=\"background-color:rgba(205,135,229,0.300000)\">2.0</span>      <span title='State importer/Direction, Value:10.0 Units:degs' style=\"background-color:rgba(44,229,111,0.300000)\">10</span></br><span title='Simple Event importer, Whole line' style=\"background-color:rgba(229,179,215,0.300000)\">// EVENT </span><span title='Simple Event importer/Date, Value:951212 Units:n/a // Simple Event importer, Whole line' style=\"background-color:rgba(152,131,222,0.300000)\"a>951212</span><span title='Simple Event importer, Whole line' style=\"background-color:rgba(229,179,215,0.300000)\"a> </span><span title='Simple Event importer/Time, Value:050300.000 Units:n/a // Simple Event importer, Whole line' style=\"background-color:rgba(227,204,142,0.300000)\"a>050300.000</span><span title='Simple Event importer, Whole line' style=\"background-color:rgba(229,179,215,0.300000)\"a> </span><span title='Simple Event importer/Event, Value:050300.000 Units:n/a // Simple Event importer, Whole line' style=\"background-color:rgba(229,201,207,0.300000)\"a>BRAVO</span></br><span title='Simple Event importer, Whole line' style=\"background-color:rgba(229,179,215,0.300000)\">// EVENT </span><span title='Simple Event importer/Date, Value:951212 Units:n/a // Simple Event importer, Whole line' style=\"background-color:rgba(152,131,222,0.300000)\"a>951212</span><span title='Simple Event importer, Whole line' style=\"background-color:rgba(229,179,215,0.300000)\"a> </span><span title='Simple Event importer/Time, Value:050300.000 Units:n/a // Simple Event importer, Whole line' style=\"background-color:rgba(227,204,142,0.300000)\"a>050300.000</span><span title='Simple Event importer, Whole line' style=\"background-color:rgba(229,179,215,0.300000)\"a> </span><span title='Simple Event importer/Event, Value:050300.000 Units:n/a // Simple Event importer, Whole line' style=\"background-color:rgba(229,201,207,0.300000)\"a>CHARLIE</span></br><span title='State importer/Date, Value:951212 Units:n/a' style=\"background-color:rgba(198,210,229,0.300000)\">951212</span> <span title='State importer/Time, Value:050300.000 Units:n/a' style=\"background-color:rgba(229,114,130,0.300000)\">050300.000</span> <span title='State importer/Vehicle, Value:FORD_11 Units:n/a' style=\"background-color:rgba(229,113,116,0.300000)\">FORD_11</span>   @C   <span title='State importer/Direction, Value:354.7 Units:degs' style=\"background-color:rgba(44,229,111,0.300000)\">354.7</span>   <span title='State importer/Speed, Value:2.1 Units:m/s // State importer/Other Speed, Value:2.1 Units:m/s' style=\"background-color:rgba(205,135,229,0.300000)\">2.1</span>      <span title='State importer/Direction, Value:14.0 Units:degs' style=\"background-color:rgba(44,229,111,0.300000)\">14</span></br><span title='State importer/Date, Value:951212 Units:n/a' style=\"background-color:rgba(198,210,229,0.300000)\">951212</span> <span title='State importer/Time, Value:050200.000 Units:n/a' style=\"background-color:rgba(229,114,130,0.300000)\">050200.000</span> <span title='State importer/Vehicle, Value:COROLLA_44 Units:n/a' style=\"background-color:rgba(229,113,116,0.300000)\">COROLLA_44</span>   @C   <span title='State importer/Direction, Value:177.9 Units:degs' style=\"background-color:rgba(44,229,111,0.300000)\">177.9</span>   <span title='State importer/Speed, Value:3.1 Units:m/s // State importer/Other Speed, Value:3.1 Units:m/s' style=\"background-color:rgba(205,135,229,0.300000)\">3.1</span>      <span title='State importer/Direction, Value:15.0 Units:degs' style=\"background-color:rgba(44,229,111,0.300000)\">15</span></br><span title='Simple Event importer, Whole line' style=\"background-color:rgba(229,179,215,0.300000)\">// EVENT </span><span title='Simple Event importer/Date, Value:951212 Units:n/a // Simple Event importer, Whole line' style=\"background-color:rgba(152,131,222,0.300000)\"a>951212</span><span title='Simple Event importer, Whole line' style=\"background-color:rgba(229,179,215,0.300000)\"a> </span><span title='Simple Event importer/Time, Value:050300.000 Units:n/a // Simple Event importer, Whole line' style=\"background-color:rgba(227,204,142,0.300000)\"a>050300.000</span><span title='Simple Event importer, Whole line' style=\"background-color:rgba(229,179,215,0.300000)\"a> </span><span title='Simple Event importer/Event, Value:050300.000 Units:n/a // Simple Event importer, Whole line' style=\"background-color:rgba(229,201,207,0.300000)\"a>DELTA</span></br><span title='State importer/Date, Value:951212 Units:n/a' style=\"background-color:rgba(198,210,229,0.300000)\">951212</span> <span title='State importer/Time, Value:050300.000 Units:n/a' style=\"background-color:rgba(229,114,130,0.300000)\">050300.000</span> <span title='State importer/Vehicle, Value:COROLLA_44 Units:n/a' style=\"background-color:rgba(229,113,116,0.300000)\">COROLLA_44</span>   @C   <span title='State importer/Direction, Value:200.0 Units:degs' style=\"background-color:rgba(44,229,111,0.300000)\">200</span>   <span title='State importer/Speed, Value:3.1 Units:m/s // State importer/Other Speed, Value:3.1 Units:m/s' style=\"background-color:rgba(205,135,229,0.300000)\">3.1</span>      <span title='State importer/Direction, Value:15.0 Units:degs' style=\"background-color:rgba(44,229,111,0.300000)\">15</span></br>"
      ],
      "text/plain": [
       "<IPython.core.display.HTML object>"
      ]
     },
     "execution_count": 7,
     "metadata": {},
     "output_type": "execute_result"
    }
   ],
   "source": [
    "# create the self-highlighter\n",
    "dataFile = HighlightedFile('data_highlight/file.txt')\n",
    "\n",
    "# get the set of self-describing lines\n",
    "lines = dataFile.lines()\n",
    "\n",
    "# handle the first importer\n",
    "importer = EventImporter()\n",
    "importer.importThese(lines)\n",
    "\n",
    "# now the second importer\n",
    "stateImporter = StateImporter()\n",
    "stateImporter.importThese(lines)\n",
    "\n",
    "# output to file, display\n",
    "dataFile.export(\"out4.html\")\n",
    "HTML(filename=\"./out4.html\")"
   ]
  },
  {
   "cell_type": "markdown",
   "metadata": {},
   "source": [
    "## Try a composite importer"
   ]
  },
  {
   "cell_type": "code",
   "execution_count": 8,
   "metadata": {},
   "outputs": [],
   "source": [
    "class CompositeImporter():\n",
    "    def importThese(self, lines):\n",
    "        # process the lines\n",
    "        for thisLine in lines:\n",
    "            tokens = thisLine.tokens()\n",
    "            myName = \"Composite Importer\"\n",
    "\n",
    "            # check the type\n",
    "            firstToken = tokens[0]\n",
    "            if firstToken.text == \"//\":\n",
    "                # event marker\n",
    "                eventImporter = \"Composite Importer (Event)\"\n",
    "                dateToken = tokens[2]\n",
    "                dateToken.record(eventImporter,\"Date\", dateToken.text, \"n/a\")\n",
    "                timeToken = tokens[3]\n",
    "                timeToken.record(eventImporter,\"Time\", timeToken.text, \"n/a\")\n",
    "                eventToken = tokens[4]\n",
    "                eventToken.record(eventImporter,\"Event\", timeToken.text, \"n/a\")\n",
    "\n",
    "                # and the whole=line record\n",
    "                thisLine.record(eventImporter, \"Whole line\")\n",
    "\n",
    "            else:\n",
    "\n",
    "                dateToken = tokens[0]\n",
    "                dateToken.record(myName,\"Date\", dateToken.text, \"n/a\")\n",
    "\n",
    "                timeToken = tokens[1]\n",
    "                timeToken.record(myName,\"Time\", timeToken.text, \"n/a\")\n",
    "\n",
    "                vehicleToken = tokens[2]\n",
    "                vehicleVal = vehicleToken.text\n",
    "                vehicleToken.record(myName,\"Vehicle\", vehicleVal,\"n/a\")  \n",
    "\n",
    "                directionToken = tokens[4]\n",
    "                directionVal = float(directionToken.text)\n",
    "                directionToken.record(myName,\"Direction\", directionVal,\"degs\")  \n",
    "\n",
    "                speedToken = tokens[5]\n",
    "                speedVal = float(speedToken.text)\n",
    "                speedToken.record(myName,\"Speed\", speedVal,\"m/s\")  \n",
    "\n",
    "                speedToken = tokens[5]\n",
    "                speedVal = float(speedToken.text)\n",
    "                speedToken.record(myName,\"Other Speed\", speedVal,\"m/s\")  \n",
    "\n",
    "                dirToken = tokens[6]\n",
    "                directionVal = float(dirToken.text)\n",
    "                dirToken.record(myName,\"Direction\", directionVal,\"degs\")"
   ]
  },
  {
   "cell_type": "code",
   "execution_count": 10,
   "metadata": {},
   "outputs": [
    {
     "data": {
      "text/html": [
       "<span title='Composite Importer/Date, Value:951212 Units:n/a' style=\"background-color:rgba(220,226,229,0.300000)\">951212</span> <span title='Composite Importer/Time, Value:050000.000 Units:n/a' style=\"background-color:rgba(95,229,123,0.300000)\">050000.000</span> <span title='Composite Importer/Vehicle, Value:MONDEO_44 Units:n/a' style=\"background-color:rgba(205,229,137,0.300000)\">MONDEO_44</span>   @C   <span title='Composite Importer/Direction, Value:269.7 Units:degs' style=\"background-color:rgba(83,89,229,0.300000)\">269.7</span>   <span title='Composite Importer/Speed, Value:2.0 Units:m/s // Composite Importer/Other Speed, Value:2.0 Units:m/s' style=\"background-color:rgba(218,229,209,0.300000)\">2.0</span>      <span title='Composite Importer/Direction, Value:10.0 Units:degs' style=\"background-color:rgba(83,89,229,0.300000)\">10</span></br><span title='Composite Importer (Event), Whole line' style=\"background-color:rgba(122,229,214,0.300000)\">// EVENT </span><span title='Composite Importer (Event)/Date, Value:951212 Units:n/a // Composite Importer (Event), Whole line' style=\"background-color:rgba(145,229,210,0.300000)\"a>951212</span><span title='Composite Importer (Event), Whole line' style=\"background-color:rgba(122,229,214,0.300000)\"a> </span><span title='Composite Importer (Event)/Time, Value:050300.000 Units:n/a // Composite Importer (Event), Whole line' style=\"background-color:rgba(152,229,207,0.300000)\"a>050300.000</span><span title='Composite Importer (Event), Whole line' style=\"background-color:rgba(122,229,214,0.300000)\"a> </span><span title='Composite Importer (Event)/Event, Value:050300.000 Units:n/a // Composite Importer (Event), Whole line' style=\"background-color:rgba(119,229,208,0.300000)\"a>BRAVO</span></br><span title='Composite Importer (Event), Whole line' style=\"background-color:rgba(122,229,214,0.300000)\">// EVENT </span><span title='Composite Importer (Event)/Date, Value:951212 Units:n/a // Composite Importer (Event), Whole line' style=\"background-color:rgba(145,229,210,0.300000)\"a>951212</span><span title='Composite Importer (Event), Whole line' style=\"background-color:rgba(122,229,214,0.300000)\"a> </span><span title='Composite Importer (Event)/Time, Value:050300.000 Units:n/a // Composite Importer (Event), Whole line' style=\"background-color:rgba(152,229,207,0.300000)\"a>050300.000</span><span title='Composite Importer (Event), Whole line' style=\"background-color:rgba(122,229,214,0.300000)\"a> </span><span title='Composite Importer (Event)/Event, Value:050300.000 Units:n/a // Composite Importer (Event), Whole line' style=\"background-color:rgba(119,229,208,0.300000)\"a>CHARLIE</span></br><span title='Composite Importer/Date, Value:951212 Units:n/a' style=\"background-color:rgba(220,226,229,0.300000)\">951212</span> <span title='Composite Importer/Time, Value:050300.000 Units:n/a' style=\"background-color:rgba(95,229,123,0.300000)\">050300.000</span> <span title='Composite Importer/Vehicle, Value:FORD_11 Units:n/a' style=\"background-color:rgba(205,229,137,0.300000)\">FORD_11</span>   @C   <span title='Composite Importer/Direction, Value:354.7 Units:degs' style=\"background-color:rgba(83,89,229,0.300000)\">354.7</span>   <span title='Composite Importer/Speed, Value:2.1 Units:m/s // Composite Importer/Other Speed, Value:2.1 Units:m/s' style=\"background-color:rgba(218,229,209,0.300000)\">2.1</span>      <span title='Composite Importer/Direction, Value:14.0 Units:degs' style=\"background-color:rgba(83,89,229,0.300000)\">14</span></br><span title='Composite Importer/Date, Value:951212 Units:n/a' style=\"background-color:rgba(220,226,229,0.300000)\">951212</span> <span title='Composite Importer/Time, Value:050200.000 Units:n/a' style=\"background-color:rgba(95,229,123,0.300000)\">050200.000</span> <span title='Composite Importer/Vehicle, Value:COROLLA_44 Units:n/a' style=\"background-color:rgba(205,229,137,0.300000)\">COROLLA_44</span>   @C   <span title='Composite Importer/Direction, Value:177.9 Units:degs' style=\"background-color:rgba(83,89,229,0.300000)\">177.9</span>   <span title='Composite Importer/Speed, Value:3.1 Units:m/s // Composite Importer/Other Speed, Value:3.1 Units:m/s' style=\"background-color:rgba(218,229,209,0.300000)\">3.1</span>      <span title='Composite Importer/Direction, Value:15.0 Units:degs' style=\"background-color:rgba(83,89,229,0.300000)\">15</span></br><span title='Composite Importer (Event), Whole line' style=\"background-color:rgba(122,229,214,0.300000)\">// EVENT </span><span title='Composite Importer (Event)/Date, Value:951212 Units:n/a // Composite Importer (Event), Whole line' style=\"background-color:rgba(145,229,210,0.300000)\"a>951212</span><span title='Composite Importer (Event), Whole line' style=\"background-color:rgba(122,229,214,0.300000)\"a> </span><span title='Composite Importer (Event)/Time, Value:050300.000 Units:n/a // Composite Importer (Event), Whole line' style=\"background-color:rgba(152,229,207,0.300000)\"a>050300.000</span><span title='Composite Importer (Event), Whole line' style=\"background-color:rgba(122,229,214,0.300000)\"a> </span><span title='Composite Importer (Event)/Event, Value:050300.000 Units:n/a // Composite Importer (Event), Whole line' style=\"background-color:rgba(119,229,208,0.300000)\"a>DELTA</span></br><span title='Composite Importer/Date, Value:951212 Units:n/a' style=\"background-color:rgba(220,226,229,0.300000)\">951212</span> <span title='Composite Importer/Time, Value:050300.000 Units:n/a' style=\"background-color:rgba(95,229,123,0.300000)\">050300.000</span> <span title='Composite Importer/Vehicle, Value:COROLLA_44 Units:n/a' style=\"background-color:rgba(205,229,137,0.300000)\">COROLLA_44</span>   @C   <span title='Composite Importer/Direction, Value:200.0 Units:degs' style=\"background-color:rgba(83,89,229,0.300000)\">200</span>   <span title='Composite Importer/Speed, Value:3.1 Units:m/s // Composite Importer/Other Speed, Value:3.1 Units:m/s' style=\"background-color:rgba(218,229,209,0.300000)\">3.1</span>      <span title='Composite Importer/Direction, Value:15.0 Units:degs' style=\"background-color:rgba(83,89,229,0.300000)\">15</span></br>"
      ],
      "text/plain": [
       "<IPython.core.display.HTML object>"
      ]
     },
     "execution_count": 10,
     "metadata": {},
     "output_type": "execute_result"
    }
   ],
   "source": [
    "# create the self-highlighter\n",
    "dataFile = HighlightedFile('data_highlight/file.txt')\n",
    "\n",
    "# get the set of self-describing lines\n",
    "lines = dataFile.lines()\n",
    "\n",
    "# get an importer\n",
    "importer = CompositeImporter()\n",
    "\n",
    "# do the import\n",
    "importer.importThese(lines)\n",
    "\n",
    "# output to file, display\n",
    "dataFile.export(\"out4.html\")\n",
    "HTML(filename=\"./out4.html\")"
   ]
  },
  {
   "cell_type": "markdown",
   "metadata": {},
   "source": [
    "## Try out comma-delimited file"
   ]
  },
  {
   "cell_type": "code",
   "execution_count": 11,
   "metadata": {},
   "outputs": [
    {
     "name": "stdout",
     "output_type": "stream",
     "text": [
      "951212, 050000.000, MONDEO_44, @C, 269.7, 2.0, 10\n",
      "//, EVENT, 951212, 050300.000, BRAVO\n",
      "//, EVENT, 951212, 050300.000, CHARLIE\n",
      "951212, 050300.000, FORD_11, @C, 354.7, 2.1, 14\n",
      "951212, 050200.000, COROLLA_44, @C, 177.9, 3.1, 15\n",
      "//, EVENT, 951212, 050300.000, DELTA\n",
      "951212, 050300.000, COROLLA_44, @C, 200, 3.1, 15\n",
      "\n"
     ]
    }
   ],
   "source": [
    "text_file = open(\"data_highlight/file_comma.txt\")\n",
    "file_content = text_file.read()\n",
    "print(file_content)\n",
    "text_file.close()"
   ]
  },
  {
   "cell_type": "code",
   "execution_count": 17,
   "metadata": {},
   "outputs": [],
   "source": [
    "class CSVEventImporter():\n",
    "    def importThese(self, lines):\n",
    "        # process the lines\n",
    "        CSV_DELIM = \"(?:,\\\"|^\\\")(\\\"\\\"|[\\w\\W]*?)(?=\\\",|\\\"$)|(?:,(?!\\\")|^(?!\\\"))([^,]*?)(?=$|,)|(\\r\\n|\\n)\"\n",
    "        for thisLine in lines:\n",
    "            \n",
    "            \n",
    "            tokens = thisLine.tokens(CSV_DELIM, \",\") # note we specify delimiter\n",
    "\n",
    "            #print(tokens[0], \" \", tokens[1], \" \", tokens[2], \" \", tokens[3]) \n",
    "            \n",
    "            # check the type\n",
    "            firstToken = tokens[0]\n",
    "                  \n",
    "            if firstToken.text == \"//\":\n",
    "                # event marker\n",
    "                eventImporter = \"Simple CSV Event importer\"\n",
    "                dateToken = tokens[2]\n",
    "                dateToken.record(eventImporter,\"Date\", dateToken.text, \"n/a\")\n",
    "                timeToken = tokens[3]\n",
    "                timeToken.record(eventImporter,\"Time\", timeToken.text, \"n/a\")\n",
    "                eventToken = tokens[4]\n",
    "                eventToken.record(eventImporter,\"Event\", timeToken.text, \"n/a\")\n",
    "\n",
    "                # and the whole=line record\n",
    "                thisLine.record(eventImporter, \"Whole line\")"
   ]
  },
  {
   "cell_type": "code",
   "execution_count": 18,
   "metadata": {},
   "outputs": [
    {
     "data": {
      "text/html": [
       "951212, 050000.000, MONDEO_44, @C, 269.7, 2.0, 10</br><span title='Simple CSV Event importer, Whole line' style=\"background-color:rgba(229,227,167,0.300000)\">//, EVENT</span><span title='Simple CSV Event importer/Date, Value:951212 Units:n/a // Simple CSV Event importer, Whole line' style=\"background-color:rgba(156,228,170,0.300000)\"a>, 951212</span><span title='Simple CSV Event importer/Time, Value:050300.000 Units:n/a // Simple CSV Event importer, Whole line' style=\"background-color:rgba(229,176,108,0.300000)\"a>, 050300.000</span><span title='Simple CSV Event importer/Event, Value:050300.000 Units:n/a // Simple CSV Event importer, Whole line' style=\"background-color:rgba(229,148,192,0.300000)\"a>, BRAVO</span></br><span title='Simple CSV Event importer, Whole line' style=\"background-color:rgba(229,227,167,0.300000)\">//, EVENT</span><span title='Simple CSV Event importer/Date, Value:951212 Units:n/a // Simple CSV Event importer, Whole line' style=\"background-color:rgba(156,228,170,0.300000)\"a>, 951212</span><span title='Simple CSV Event importer/Time, Value:050300.000 Units:n/a // Simple CSV Event importer, Whole line' style=\"background-color:rgba(229,176,108,0.300000)\"a>, 050300.000</span><span title='Simple CSV Event importer/Event, Value:050300.000 Units:n/a // Simple CSV Event importer, Whole line' style=\"background-color:rgba(229,148,192,0.300000)\"a>, CHARLIE</span></br>951212, 050300.000, FORD_11, @C, 354.7, 2.1, 14</br>951212, 050200.000, COROLLA_44, @C, 177.9, 3.1, 15</br><span title='Simple CSV Event importer, Whole line' style=\"background-color:rgba(229,227,167,0.300000)\">//, EVENT</span><span title='Simple CSV Event importer/Date, Value:951212 Units:n/a // Simple CSV Event importer, Whole line' style=\"background-color:rgba(156,228,170,0.300000)\"a>, 951212</span><span title='Simple CSV Event importer/Time, Value:050300.000 Units:n/a // Simple CSV Event importer, Whole line' style=\"background-color:rgba(229,176,108,0.300000)\"a>, 050300.000</span><span title='Simple CSV Event importer/Event, Value:050300.000 Units:n/a // Simple CSV Event importer, Whole line' style=\"background-color:rgba(229,148,192,0.300000)\"a>, DELTA</span></br>951212, 050300.000, COROLLA_44, @C, 200, 3.1, 15</br>"
      ],
      "text/plain": [
       "<IPython.core.display.HTML object>"
      ]
     },
     "execution_count": 18,
     "metadata": {},
     "output_type": "execute_result"
    }
   ],
   "source": [
    "# create the self-highlighter\n",
    "dataFile = HighlightedFile('data_highlight/file_comma.txt')\n",
    "\n",
    "# get the set of self-describing lines\n",
    "lines = dataFile.lines()\n",
    "\n",
    "# get an importer\n",
    "importer = CSVEventImporter()\n",
    "\n",
    "# do the import\n",
    "importer.importThese(lines)\n",
    "\n",
    "# output to file, display\n",
    "dataFile.export(\"out5.html\")\n",
    "HTML(filename=\"./out5.html\")"
   ]
  },
  {
   "cell_type": "code",
   "execution_count": null,
   "metadata": {},
   "outputs": [],
   "source": []
  },
  {
   "cell_type": "code",
   "execution_count": null,
   "metadata": {},
   "outputs": [],
   "source": []
  }
 ],
 "metadata": {
  "kernelspec": {
   "display_name": "Python 3",
   "language": "python",
   "name": "python3"
  },
  "language_info": {
   "codemirror_mode": {
    "name": "ipython",
    "version": 3
   },
   "file_extension": ".py",
   "mimetype": "text/x-python",
   "name": "python",
   "nbconvert_exporter": "python",
   "pygments_lexer": "ipython3",
   "version": "3.6.8"
  },
  "pycharm": {
   "stem_cell": {
    "cell_type": "raw",
    "metadata": {
     "collapsed": false
    },
    "source": []
   }
  }
 },
 "nbformat": 4,
 "nbformat_minor": 2
}
