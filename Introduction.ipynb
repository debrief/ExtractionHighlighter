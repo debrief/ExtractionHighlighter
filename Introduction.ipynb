{
 "cells": [
  {
   "cell_type": "code",
   "execution_count": 1,
   "metadata": {},
   "outputs": [],
   "source": [
    "#Import library\n",
    "import ipywidgets as widgets\n",
    "from IPython.display import HTML\n",
    "from  data_highlight.highlighter import  HighlightedFile\n",
    "\n",
    "from re import finditer"
   ]
  },
  {
   "cell_type": "markdown",
   "metadata": {},
   "source": [
    "## Try to import a text file"
   ]
  },
  {
   "cell_type": "code",
   "execution_count": 2,
   "metadata": {},
   "outputs": [
    {
     "name": "stdout",
     "output_type": "stream",
     "text": [
      "951212 050000.000 MONDEO_44   @C   269.7   2.0      10\n",
      "// EVENT 951212 050300.000 BRAVO\n",
      "// EVENT 951212 050300.000 CHARLIE\n",
      "951212 050300.000 FORD_11   @C   354.7   2.1      14\n",
      "951212 050200.000 COROLLA_44   @C   177.9   3.1      15\n",
      "// EVENT 951212 050300.000 DELTA\n",
      "951212 050300.000 COROLLA_44   @C   200   3.1      15\n",
      "\n"
     ]
    }
   ],
   "source": [
    "text_file = open(\"data_highlight/file.txt\")\n",
    "file_content = text_file.read()\n",
    "print(file_content)\n",
    "text_file.close()"
   ]
  },
  {
   "cell_type": "markdown",
   "metadata": {},
   "source": [
    "## Try out a simple event importer"
   ]
  },
  {
   "cell_type": "code",
   "execution_count": 3,
   "metadata": {},
   "outputs": [],
   "source": [
    "# create the self-highlighter\n",
    "dataFile = HighlightedFile('data_highlight/file.txt')\n",
    "\n",
    "# get the set of self-describing lines\n",
    "lines = dataFile.lines()\n",
    "\n",
    "# process the lines\n",
    "for thisLine in lines:\n",
    "    tokens = thisLine.tokens()\n",
    "\n",
    "    # check the type\n",
    "    firstToken = tokens[0]\n",
    "    if firstToken.text == \"//\":\n",
    "        # event marker\n",
    "        eventImporter = \"Simple Event importer\"\n",
    "        dateToken = tokens[2]\n",
    "        dateToken.record(eventImporter,\"Date\", dateToken.text)\n",
    "        timeToken = tokens[3]\n",
    "        timeToken.record(eventImporter,\"Time\", timeToken.text)\n",
    "        eventToken = tokens[4]\n",
    "        eventToken.record(eventImporter,\"Event\", timeToken.text)\n",
    "\n",
    "        # and the whole=line record\n",
    "        thisLine.record(eventImporter, \"Whole line\")\n",
    "\n",
    "# output to file, display\n",
    "dataFile.export(\"out4.html\")\n",
    "HTML(filename=\"./out4.html\")\n"
   ]
  },
  {
   "cell_type": "markdown",
   "metadata": {
    "pycharm": {
     "name": "#%% md\n"
    }
   },
   "source": [
    "## Try a State import tool"
   ]
  },
  {
   "cell_type": "code",
   "metadata": {
    "pycharm": {
     "name": "#%%\n"
    }
   },
   "source": [
    "# create the self-highlighter\n",
    "dataFile = HighlightedFile('data_highlight/file.txt')\n",
    "\n",
    "# get the set of self-describing lines\n",
    "lines = dataFile.lines()\n",
    "\n",
    "# process the lines\n",
    "for thisLine in lines:\n",
    "    tokens = thisLine.tokens()\n",
    "    myName = \"State importer\"\n",
    "\n",
    "    # check the type\n",
    "    firstToken = tokens[0]\n",
    "    if firstToken.text != \"//\":\n",
    "        dateToken = tokens[0]\n",
    "        dateToken.record(myName,\"Date\", dateToken.text, \"n/a\")\n",
    "\n",
    "        timeToken = tokens[1]\n",
    "        timeToken.record(myName,\"Time\", timeToken.text, \"n/a\")\n",
    "\n",
    "        vehicleToken = tokens[2]\n",
    "        vehicleVal = vehicleToken.text\n",
    "        vehicleToken.record(myName,\"Vehicle\", vehicleVal,\"n/a\")  \n",
    "\n",
    "        directionToken = tokens[4]\n",
    "        directionVal = float(directionToken.text)\n",
    "        directionToken.record(myName,\"Direction\", directionVal,\"degs\")  \n",
    "\n",
    "        speedToken = tokens[5]\n",
    "        speedVal = float(speedToken.text)\n",
    "        speedToken.record(myName,\"Speed\", speedVal,\"m/s\")  \n",
    "\n",
    "        speedToken = tokens[5]\n",
    "        speedVal = float(speedToken.text)\n",
    "        speedToken.record(myName,\"Other Speed\", speedVal,\"m/s\")  \n",
    "\n",
    "        dirToken = tokens[6]\n",
    "        directionVal = float(dirToken.text)\n",
    "        dirToken.record(myName,\"Direction\", directionVal,\"degs\")\n",
    "\n",
    "# output to file, display\n",
    "dataFile.export(\"out4.html\")\n",
    "HTML(filename=\"./out4.html\")"
   ],
   "execution_count": null,
   "outputs": []
  },
  {
   "cell_type": "markdown",
   "metadata": {
    "pycharm": {
     "name": "#%% md\n"
    }
   },
   "source": [
    "## Event and state at the same time"
   ]
  },
  {
   "cell_type": "code",
   "execution_count": 6,
   "metadata": {},
   "outputs": [
    {
     "data": {
      "text/html": [
       "<span title='State importer/Date, Value:951212 Units:n/a' style=\"background-color:rgba(159,229,210,0.300000)\">951212</span> <span title='State importer/Time, Value:050000.000 Units:n/a' style=\"background-color:rgba(212,219,229,0.300000)\">050000.000</span> <span title='State importer/Vehicle, Value:MONDEO_44 Units:n/a' style=\"background-color:rgba(159,132,229,0.300000)\">MONDEO_44</span>   @C   <span title='State importer/Direction, Value:269.7 Units:degs' style=\"background-color:rgba(136,229,141,0.300000)\">269.7</span>   <span title='State importer/Speed, Value:2.0 Units:m/s // State importer/Other Speed, Value:2.0 Units:m/s' style=\"background-color:rgba(162,122,118,0.300000)\">2.0</span>      <span title='State importer/Direction, Value:10.0 Units:degs' style=\"background-color:rgba(136,229,141,0.300000)\">10</span></br>// EVENT 951212 050300.000 BRAVO</br>// EVENT 951212 050300.000 CHARLIE</br><span title='State importer/Date, Value:951212 Units:n/a' style=\"background-color:rgba(159,229,210,0.300000)\">951212</span> <span title='State importer/Time, Value:050300.000 Units:n/a' style=\"background-color:rgba(212,219,229,0.300000)\">050300.000</span> <span title='State importer/Vehicle, Value:FORD_11 Units:n/a' style=\"background-color:rgba(159,132,229,0.300000)\">FORD_11</span>   @C   <span title='State importer/Direction, Value:354.7 Units:degs' style=\"background-color:rgba(136,229,141,0.300000)\">354.7</span>   <span title='State importer/Speed, Value:2.1 Units:m/s // State importer/Other Speed, Value:2.1 Units:m/s' style=\"background-color:rgba(162,122,118,0.300000)\">2.1</span>      <span title='State importer/Direction, Value:14.0 Units:degs' style=\"background-color:rgba(136,229,141,0.300000)\">14</span></br><span title='State importer/Date, Value:951212 Units:n/a' style=\"background-color:rgba(159,229,210,0.300000)\">951212</span> <span title='State importer/Time, Value:050200.000 Units:n/a' style=\"background-color:rgba(212,219,229,0.300000)\">050200.000</span> <span title='State importer/Vehicle, Value:COROLLA_44 Units:n/a' style=\"background-color:rgba(159,132,229,0.300000)\">COROLLA_44</span>   @C   <span title='State importer/Direction, Value:177.9 Units:degs' style=\"background-color:rgba(136,229,141,0.300000)\">177.9</span>   <span title='State importer/Speed, Value:3.1 Units:m/s // State importer/Other Speed, Value:3.1 Units:m/s' style=\"background-color:rgba(162,122,118,0.300000)\">3.1</span>      <span title='State importer/Direction, Value:15.0 Units:degs' style=\"background-color:rgba(136,229,141,0.300000)\">15</span></br>// EVENT 951212 050300.000 DELTA</br><span title='State importer/Date, Value:951212 Units:n/a' style=\"background-color:rgba(159,229,210,0.300000)\">951212</span> <span title='State importer/Time, Value:050300.000 Units:n/a' style=\"background-color:rgba(212,219,229,0.300000)\">050300.000</span> <span title='State importer/Vehicle, Value:COROLLA_44 Units:n/a' style=\"background-color:rgba(159,132,229,0.300000)\">COROLLA_44</span>   @C   <span title='State importer/Direction, Value:200.0 Units:degs' style=\"background-color:rgba(136,229,141,0.300000)\">200</span>   <span title='State importer/Speed, Value:3.1 Units:m/s // State importer/Other Speed, Value:3.1 Units:m/s' style=\"background-color:rgba(162,122,118,0.300000)\">3.1</span>      <span title='State importer/Direction, Value:15.0 Units:degs' style=\"background-color:rgba(136,229,141,0.300000)\">15</span></br>"
      ],
      "text/plain": [
       "<IPython.core.display.HTML object>"
      ]
     },
     "execution_count": 6,
     "metadata": {},
     "output_type": "execute_result"
    }
   ],
   "source": [
    "# create the self-highlighter\n",
    "dataFile = HighlightedFile('data_highlight/file.txt')\n",
    "\n",
    "# get the set of self-describing lines\n",
    "lines = dataFile.lines()\n",
    "\n",
    "for thisLine in lines:\n",
    "    tokens = thisLine.tokens()\n",
    "\n",
    "    # check the type\n",
    "    firstToken = tokens[0]\n",
    "    if firstToken.text == \"//\":\n",
    "        # event marker\n",
    "        eventImporter = \"Simple Event importer\"\n",
    "        dateToken = tokens[2]\n",
    "        dateToken.record(eventImporter,\"Date\", dateToken.text)\n",
    "        timeToken = tokens[3]\n",
    "        timeToken.record(eventImporter,\"Time\", timeToken.text)\n",
    "        eventToken = tokens[4]\n",
    "        eventToken.record(eventImporter,\"Event\", timeToken.text)\n",
    "\n",
    "        # and the whole=line record\n",
    "        thisLine.record(eventImporter, \"Whole line\")\n",
    "    else:\n",
    "        dateToken = tokens[0]\n",
    "        dateToken.record(myName,\"Date\", dateToken.text, \"n/a\")\n",
    "\n",
    "        timeToken = tokens[1]\n",
    "        timeToken.record(myName,\"Time\", timeToken.text, \"n/a\")\n",
    "\n",
    "        vehicleToken = tokens[2]\n",
    "        vehicleVal = vehicleToken.text\n",
    "        vehicleToken.record(myName,\"Vehicle\", vehicleVal,\"n/a\")  \n",
    "\n",
    "        directionToken = tokens[4]\n",
    "        directionVal = float(directionToken.text)\n",
    "        directionToken.record(myName,\"Direction\", directionVal,\"degs\")  \n",
    "\n",
    "        speedToken = tokens[5]\n",
    "        speedVal = float(speedToken.text)\n",
    "        speedToken.record(myName,\"Speed\", speedVal,\"m/s\")  \n",
    "\n",
    "        speedToken = tokens[5]\n",
    "        speedVal = float(speedToken.text)\n",
    "        speedToken.record(myName,\"Other Speed\", speedVal,\"m/s\")  \n",
    "\n",
    "        dirToken = tokens[6]\n",
    "        directionVal = float(dirToken.text)\n",
    "        dirToken.record(myName,\"Direction\", directionVal,\"degs\")\n",
    "\n",
    "\n",
    "# output to file, display\n",
    "dataFile.export(\"out4.html\")\n",
    "HTML(filename=\"./out4.html\")"
   ]
  },
  {
   "cell_type": "markdown",
   "metadata": {
    "pycharm": {
     "name": "#%% md\n"
    }
   },
   "source": [
    "## Try out comma-delimited file"
   ]
  },
  {
   "cell_type": "code",
   "metadata": {
    "pycharm": {
     "name": "#%%\n"
    }
   },
   "source": [
    "text_file = open(\"data_highlight/file_comma.txt\")\n",
    "file_content = text_file.read()\n",
    "print(file_content)\n",
    "text_file.close()"
   ],
   "execution_count": null,
   "outputs": []
  },
  {
   "cell_type": "code",
   "execution_count": 8,
   "metadata": {
    "pycharm": {
     "name": "#%%\n"
    }
   },
   "outputs": [],
   "source": [
    "# create the self-highlighter\n",
    "dataFile = HighlightedFile('data_highlight/file_comma.txt')\n",
    "\n",
    "# get the set of self-describing lines\n",
    "lines = dataFile.lines()\n",
    "\n",
    "CSV_DELIM = \"(?:,\\\"|^\\\")(\\\"\\\"|[\\w\\W]*?)(?=\\\",|\\\"$)|(?:,(?!\\\")|^(?!\\\"))([^,]*?)(?=$|,)|(\\r\\n|\\n)\"\n",
    "for thisLine in lines:\n",
    "\n",
    "\n",
    "    tokens = thisLine.tokens(CSV_DELIM, \",\") # note we specify delimiter\n",
    "\n",
    "    #print(tokens[0], \" \", tokens[1], \" \", tokens[2], \" \", tokens[3]) \n",
    "\n",
    "    # check the type\n",
    "    firstToken = tokens[0]\n",
    "\n",
    "    if firstToken.text == \"//\":\n",
    "        # event marker\n",
    "        eventImporter = \"Simple CSV Event importer\"\n",
    "        dateToken = tokens[2]\n",
    "        dateToken.record(eventImporter,\"Date\", dateToken.text, \"n/a\")\n",
    "        timeToken = tokens[3]\n",
    "        timeToken.record(eventImporter,\"Time\", timeToken.text, \"n/a\")\n",
    "        eventToken = tokens[4]\n",
    "        eventToken.record(eventImporter,\"Event\", timeToken.text, \"n/a\")\n",
    "\n",
    "        # and the whole=line record\n",
    "        thisLine.record(eventImporter, \"Whole line\")\n",
    "# output to file, display\n",
    "dataFile.export(\"out5.html\")\n",
    "HTML(filename=\"./out5.html\")"
   ]
  }
 ],
 "metadata": {
  "kernelspec": {
   "display_name": "Python 3",
   "language": "python",
   "name": "python3"
  },
  "language_info": {
   "codemirror_mode": {
    "name": "ipython",
    "version": 3
   },
   "file_extension": ".py",
   "mimetype": "text/x-python",
   "name": "python",
   "nbconvert_exporter": "python",
   "pygments_lexer": "ipython3",
   "version": "3.6.8"
  },
  "pycharm": {
   "stem_cell": {
    "cell_type": "raw",
    "source": [],
    "metadata": {
     "collapsed": false
    }
   }
  }
 },
 "nbformat": 4,
 "nbformat_minor": 2
}