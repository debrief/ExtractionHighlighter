{
 "cells": [
  {
   "cell_type": "code",
   "execution_count": 324,
   "metadata": {},
   "outputs": [],
   "source": [
    "#Import library\n",
    "import ipywidgets as widgets\n",
    "from IPython.display import HTML\n",
    "\n",
    "from re import finditer"
   ]
  },
  {
   "cell_type": "markdown",
   "metadata": {},
   "source": [
    "## Simple color management"
   ]
  },
  {
   "cell_type": "code",
   "execution_count": 340,
   "metadata": {},
   "outputs": [
    {
     "data": {
      "application/vnd.jupyter.widget-view+json": {
       "model_id": "5bd391ea9aac47e585a4a8bee456821a",
       "version_major": 2,
       "version_minor": 0
      },
      "text/plain": [
       "HTML(value='(255, 0, 0)=<b style=\"background-color:rgba(255,0,0,0.300000)\">colorA</b><br/>(0, 0, 255)=<b style…"
      ]
     },
     "metadata": {},
     "output_type": "display_data"
    }
   ],
   "source": [
    "import random\n",
    "import math\n",
    "import colorsys\n",
    "\n",
    "myColors={} \n",
    "\n",
    "def colorFor(hashCode):\n",
    "    if hashCode in myColors:\n",
    "        return myColors[hashCode]\n",
    "    else:\n",
    "        hue = random.random()\n",
    "        sat = random.random()\n",
    "        rgb = colorsys.hsv_to_rgb(hue, sat, 0.9)\n",
    "        r = int(rgb[0] * 255)\n",
    "        g = int(rgb[1] * 255)\n",
    "        b = int(rgb[2] * 255)\n",
    "        newCol = (r,g,b)\n",
    "        myColors[hashCode] = newCol\n",
    "        return newCol\n",
    "\n",
    "def hexColorFor(rgb):\n",
    "    opacityShade = 0.3\n",
    "    return 'rgba(%d,%d,%d,%f)' % (rgb[0], rgb[1], rgb[2], opacityShade)\n",
    "    \n",
    "def meanColorFor(colorArr):\n",
    "    r=0\n",
    "    g=0\n",
    "    b=0\n",
    "    for color in colorArr:\n",
    "        r += color[0]\n",
    "        g += color[1]\n",
    "        b += color[2]\n",
    "        \n",
    "    arrLen = len(colorArr)\n",
    "    return (int(r/arrLen), int(g/arrLen), int(b/arrLen))  \n",
    "\n",
    "def debugFormatColor(color, name):\n",
    "    return  str(color) + \"=<b style=\\\"background-color:\" + hexColorFor(color) + \"\\\">\" + name + \"</b><br/>\"\n",
    "\n",
    "\n",
    "colorA = (255,0,0)\n",
    "colorB = (0,0,255)\n",
    "combined = [colorA, colorB]\n",
    "mean = meanColorFor(combined)\n",
    "\n",
    "colorC = (0,255,0)\n",
    "mean2 = meanColorFor([colorA, colorB, colorC])\n",
    "\n",
    "widgetStr = \"\"\n",
    "widgetStr += debugFormatColor(colorA, \"colorA\")\n",
    "widgetStr += debugFormatColor(colorB, \"colorB\")\n",
    "widgetStr += debugFormatColor(mean, \"mean of A & B\")\n",
    "widgetStr += debugFormatColor(colorC, \"colorC\")\n",
    "widgetStr += debugFormatColor(mean2, \"mean of A, B, C\")\n",
    "widgetStr += debugFormatColor(meanColorFor([colorA, colorC]), \"mean of A, C\")\n",
    "widgetStr += debugFormatColor(meanColorFor([colorB, colorC]), \"mean of B, C\")\n",
    "\n",
    "widgets.HTML(\n",
    "    value=widgetStr\n",
    ")\n",
    "\n",
    "\n"
   ]
  },
  {
   "cell_type": "markdown",
   "metadata": {},
   "source": [
    "## Class structures\n",
    "Let's experiment with a self-aware token object"
   ]
  },
  {
   "cell_type": "code",
   "execution_count": 326,
   "metadata": {},
   "outputs": [],
   "source": [
    "class HighlightedFile():\n",
    "    def __init__(self,filename):\n",
    "        self.filename = filename\n",
    "    def lines(self):\n",
    "        with open(self.filename, 'r') as file:\n",
    "            sampleLines = file.read()       \n",
    "        # make the char index the correct length\n",
    "        self.chars = [None] * len(sampleLines)\n",
    "        \n",
    "        # initialise the char index\n",
    "        charCtr = 0\n",
    "        for char in sampleLines:\n",
    "            # put letter into a struct\n",
    "            charInd = CharIndex(char)\n",
    "            chars[charCtr] = charInd\n",
    "            charCtr += 1         \n",
    "        \n",
    "        # ok, break the file into self-aware lines\n",
    "        lineCtr = 0\n",
    "        lines = []\n",
    "        strLines = sampleLines.splitlines()\n",
    "        for thisLine in strLines:\n",
    "            thisLen = len(thisLine)\n",
    "            newL = Line(str(lineCtr), str(lineCtr + thisLen), thisLine, chars)\n",
    "            lines.append(newL)\n",
    "            lineCtr += thisLen + 1\n",
    "            \n",
    "        return lines\n",
    "    def export(self, filename):\n",
    "        fOut = open(filename, \"w\")\n",
    "\n",
    "        lastHash = \"\"\n",
    "\n",
    "        for charIndex in chars:\n",
    "            letter = charIndex.letter\n",
    "            thisHash = \"\"\n",
    "            thisMessage = \"\"\n",
    "            colors = []\n",
    "            for usage in charIndex.usages:\n",
    "                thisHash += usage.toolField\n",
    "                needsNewLine = thisMessage != \"\"\n",
    "                colors.append(colorFor(usage.toolField))\n",
    "                if needsNewLine:\n",
    "                    thisMessage += \" // \"\n",
    "                thisMessage += usage.toolField + \", \" + usage.message\n",
    "\n",
    "            # do we have anything to shade?\n",
    "            if thisHash != \"\":\n",
    "                # generate/retrieve a color for this hash\n",
    "                newColor = meanColorFor(colors)\n",
    "                hexColor = hexColorFor(newColor)\n",
    "\n",
    "                # are we already in hash?\n",
    "                if lastHash != \"\":\n",
    "                    # is it the different to this one?\n",
    "                    if(lastHash != thisHash):\n",
    "                        # ok, close the span\n",
    "                        fOut.write(\"</span>\")\n",
    "\n",
    "                        # start a new span\n",
    "                        fOut.write(\"<span title='\"+thisMessage+\"' style=\\\"background-color:\" + hexColor + \"\\\"a>\")\n",
    "                else:\n",
    "                    fOut.write(\"<span title='\"+thisMessage+\"' style=\\\"background-color:\" + hexColor + \"\\\">\")\n",
    "            elif lastHash != \"\":\n",
    "                fOut.write(\"</span>\")\n",
    "\n",
    "            # just check if it's newline\n",
    "            if(letter == \"\\n\"):\n",
    "                fOut.write(\"</br>\")\n",
    "            else:\n",
    "                fOut.write(letter)\n",
    "\n",
    "            lastHash = thisHash\n",
    "\n",
    "        if(lastHash != \"\"):\n",
    "            fOut.write(\"</span>\")\n",
    "\n",
    "        fOut.close()     \n",
    "\n",
    "WHITESPACE_DELIM = \"\\\\S+\"\n",
    "CSV_DELIM = \"(?:,\\\"|^\\\")(\\\"\\\"|[\\w\\W]*?)(?=\\\",|\\\"$)|(?:,(?!\\\")|^(?!\\\"))([^,]*?)(?=$|,)|(\\r\\n|\\n)\"\n",
    "\n",
    "# storage structure used to describe the activity on a single character    \n",
    "class CharIndex:\n",
    "    def __init__(self, letter):\n",
    "        self.letter = letter\n",
    "        self.usages = []\n",
    "    def __str__(self):\n",
    "        message = \"[\"+ self.letter+\"]\"\n",
    "        for usage in self.usages:\n",
    "            message+= \"(T/F:\" + usage.toolField + \", msg:\" + usage.message + \")\"\n",
    "        return message\n",
    "\n",
    "# storage of a single activity    \n",
    "class SingleUsage:\n",
    "    def __init__(self, toolField, message):\n",
    "        self.toolField = toolField\n",
    "        self.message = message\n",
    "    \n",
    "\n",
    "# a line from the file\n",
    "class Line():\n",
    "    def __init__(self,start, end,text, chars):\n",
    "        self.start=start\n",
    "        self.end=end\n",
    "        self.text=text\n",
    "        self.chars = chars\n",
    "    def tokens(self, regExp=WHITESPACE_DELIM, stripChar=\"\"):\n",
    "        tokens = []\n",
    "        for match in finditer(regExp, self.text):\n",
    "            tokenStr = match.group()\n",
    "            # special handling, we may need to strip a leading delimiter\n",
    "            if stripChar != \"\":\n",
    "               charIndex = tokenStr.find(stripChar)\n",
    "               if charIndex == 0 :\n",
    "                   tokenStr = tokenStr[1:] \n",
    "               # and ditch any new whitespace\n",
    "               tokenStr = tokenStr.strip()\n",
    "               \n",
    "            tokens.append(Token(match.span(), tokenStr, int(self.start), self.chars))\n",
    "        return tokens\n",
    "    def record(self, tool, message):\n",
    "        for i in range(int(self.start), int(self.end)):\n",
    "            usage = SingleUsage(tool, message)\n",
    "            self.chars[i].usages.append(usage)\n",
    "\n",
    "class Token():\n",
    "    def __init__(self,span,text, lineStart, chars):\n",
    "        self.span=span\n",
    "        self.text=text\n",
    "        self.lineStart = lineStart\n",
    "        self.chars = chars\n",
    "    def __str__(self):\n",
    "        return \"[(\"+ str(self.start())+\"-\"+str(self.end())+\")\"+\":\\\"\"+self.text+\"\\\"]\"\n",
    "    def start(self):\n",
    "        return self.lineStart + self.span[0]\n",
    "    def end(self):\n",
    "        return self.lineStart + self.span[1]\n",
    "    def record(self, tool, field, value, units):\n",
    "        toolField = tool+\"/\"+field\n",
    "        message = \"Value:\" + str(value) + \" Units:\" + str(units)        \n",
    "        for i in range(self.start(), self.end()):\n",
    "            usage = SingleUsage(toolField, message)\n",
    "            self.chars[i].usages.append(usage)"
   ]
  },
  {
   "cell_type": "markdown",
   "metadata": {},
   "source": [
    "## Try to import a text file"
   ]
  },
  {
   "cell_type": "code",
   "execution_count": 327,
   "metadata": {},
   "outputs": [
    {
     "name": "stdout",
     "output_type": "stream",
     "text": [
      "951212 050000.000 MONDEO_44   @C   269.7   2.0      10\n",
      "// EVENT 951212 050300.000 BRAVO\n",
      "// EVENT 951212 050300.000 CHARLIE\n",
      "951212 050300.000 FORD_11   @C   354.7   2.1      14\n",
      "951212 050200.000 COROLLA_44   @C   177.9   3.1      15\n",
      "// EVENT 951212 050300.000 DELTA\n",
      "951212 050300.000 COROLLA_44   @C   200   3.1      15\n",
      "\n"
     ]
    }
   ],
   "source": [
    "text_file = open(\"file.txt\")\n",
    "file_content = text_file.read()\n",
    "print(file_content)\n",
    "text_file.close()"
   ]
  },
  {
   "cell_type": "markdown",
   "metadata": {},
   "source": [
    "## Try out the simple event importer"
   ]
  },
  {
   "cell_type": "code",
   "execution_count": 328,
   "metadata": {},
   "outputs": [],
   "source": [
    "class EventImporter():\n",
    "    def importThese(self, lines):\n",
    "        # process the lines\n",
    "        for thisLine in lines:\n",
    "            tokens = thisLine.tokens()\n",
    "\n",
    "            # check the type\n",
    "            firstToken = tokens[0]\n",
    "            if firstToken.text == \"//\":\n",
    "                # event marker\n",
    "                eventImporter = \"Simple Event importer\"\n",
    "                dateToken = tokens[2]\n",
    "                dateToken.record(eventImporter,\"Date\", dateToken.text, \"n/a\")\n",
    "                timeToken = tokens[3]\n",
    "                timeToken.record(eventImporter,\"Time\", timeToken.text, \"n/a\")\n",
    "                eventToken = tokens[4]\n",
    "                eventToken.record(eventImporter,\"Event\", timeToken.text, \"n/a\")\n",
    "\n",
    "                # and the whole=line record\n",
    "                thisLine.record(eventImporter, \"Whole line\")"
   ]
  },
  {
   "cell_type": "code",
   "execution_count": 329,
   "metadata": {},
   "outputs": [
    {
     "data": {
      "text/html": [
       "951212 050000.000 MONDEO_44   @C   269.7   2.0      10</br><span title='Simple Event importer, Whole line' style=\"background-color:rgba(229,224,223,0.300000)\">// EVENT </span><span title='Simple Event importer/Date, Value:951212 Units:n/a // Simple Event importer, Whole line' style=\"background-color:rgba(140,173,226,0.300000)\"a>951212</span><span title='Simple Event importer, Whole line' style=\"background-color:rgba(229,224,223,0.300000)\"a> </span><span title='Simple Event importer/Time, Value:050300.000 Units:n/a // Simple Event importer, Whole line' style=\"background-color:rgba(161,226,219,0.300000)\"a>050300.000</span><span title='Simple Event importer, Whole line' style=\"background-color:rgba(229,224,223,0.300000)\"a> </span><span title='Simple Event importer/Event, Value:050300.000 Units:n/a // Simple Event importer, Whole line' style=\"background-color:rgba(206,203,226,0.300000)\"a>BRAVO</span></br><span title='Simple Event importer, Whole line' style=\"background-color:rgba(229,224,223,0.300000)\">// EVENT </span><span title='Simple Event importer/Date, Value:951212 Units:n/a // Simple Event importer, Whole line' style=\"background-color:rgba(140,173,226,0.300000)\"a>951212</span><span title='Simple Event importer, Whole line' style=\"background-color:rgba(229,224,223,0.300000)\"a> </span><span title='Simple Event importer/Time, Value:050300.000 Units:n/a // Simple Event importer, Whole line' style=\"background-color:rgba(161,226,219,0.300000)\"a>050300.000</span><span title='Simple Event importer, Whole line' style=\"background-color:rgba(229,224,223,0.300000)\"a> </span><span title='Simple Event importer/Event, Value:050300.000 Units:n/a // Simple Event importer, Whole line' style=\"background-color:rgba(206,203,226,0.300000)\"a>CHARLIE</span></br>951212 050300.000 FORD_11   @C   354.7   2.1      14</br>951212 050200.000 COROLLA_44   @C   177.9   3.1      15</br><span title='Simple Event importer, Whole line' style=\"background-color:rgba(229,224,223,0.300000)\">// EVENT </span><span title='Simple Event importer/Date, Value:951212 Units:n/a // Simple Event importer, Whole line' style=\"background-color:rgba(140,173,226,0.300000)\"a>951212</span><span title='Simple Event importer, Whole line' style=\"background-color:rgba(229,224,223,0.300000)\"a> </span><span title='Simple Event importer/Time, Value:050300.000 Units:n/a // Simple Event importer, Whole line' style=\"background-color:rgba(161,226,219,0.300000)\"a>050300.000</span><span title='Simple Event importer, Whole line' style=\"background-color:rgba(229,224,223,0.300000)\"a> </span><span title='Simple Event importer/Event, Value:050300.000 Units:n/a // Simple Event importer, Whole line' style=\"background-color:rgba(206,203,226,0.300000)\"a>DELTA</span></br>951212 050300.000 COROLLA_44   @C   200   3.1      15</br>"
      ],
      "text/plain": [
       "<IPython.core.display.HTML object>"
      ]
     },
     "execution_count": 329,
     "metadata": {},
     "output_type": "execute_result"
    }
   ],
   "source": [
    "# create the self-highlighter\n",
    "dataFile = HighlightedFile('file.txt')\n",
    "\n",
    "# get the set of self-describing lines\n",
    "lines = dataFile.lines()\n",
    "\n",
    "# get an importer\n",
    "importer = EventImporter()\n",
    "\n",
    "# do the import\n",
    "importer.importThese(lines)\n",
    "\n",
    "# output to file, display\n",
    "dataFile.export(\"out4.html\")\n",
    "HTML(filename=\"./out4.html\")"
   ]
  },
  {
   "cell_type": "markdown",
   "metadata": {},
   "source": [
    "## Try a State import tool"
   ]
  },
  {
   "cell_type": "code",
   "execution_count": 330,
   "metadata": {},
   "outputs": [],
   "source": [
    "class StateImporter():\n",
    "    def importThese(self, lines):\n",
    "        # process the lines\n",
    "        for thisLine in lines:\n",
    "            tokens = thisLine.tokens()\n",
    "            myName = \"State importer\"\n",
    "            \n",
    "            # check the type\n",
    "            firstToken = tokens[0]\n",
    "            if firstToken.text != \"//\":\n",
    "                dateToken = tokens[0]\n",
    "                dateToken.record(myName,\"Date\", dateToken.text, \"n/a\")\n",
    "\n",
    "                timeToken = tokens[1]\n",
    "                timeToken.record(myName,\"Time\", timeToken.text, \"n/a\")\n",
    "\n",
    "                vehicleToken = tokens[2]\n",
    "                vehicleVal = vehicleToken.text\n",
    "                vehicleToken.record(myName,\"Vehicle\", vehicleVal,\"n/a\")  \n",
    "\n",
    "                directionToken = tokens[4]\n",
    "                directionVal = float(directionToken.text)\n",
    "                directionToken.record(myName,\"Direction\", directionVal,\"degs\")  \n",
    "\n",
    "                speedToken = tokens[5]\n",
    "                speedVal = float(speedToken.text)\n",
    "                speedToken.record(myName,\"Speed\", speedVal,\"m/s\")  \n",
    "\n",
    "                speedToken = tokens[5]\n",
    "                speedVal = float(speedToken.text)\n",
    "                speedToken.record(myName,\"Other Speed\", speedVal,\"m/s\")  \n",
    "\n",
    "                dirToken = tokens[6]\n",
    "                directionVal = float(dirToken.text)\n",
    "                dirToken.record(myName,\"Direction\", directionVal,\"degs\")"
   ]
  },
  {
   "cell_type": "code",
   "execution_count": 331,
   "metadata": {},
   "outputs": [
    {
     "data": {
      "text/html": [
       "<span title='State importer/Date, Value:951212 Units:n/a' style=\"background-color:rgba(213,229,197,0.300000)\">951212</span> <span title='State importer/Time, Value:050000.000 Units:n/a' style=\"background-color:rgba(229,203,90,0.300000)\">050000.000</span> <span title='State importer/Vehicle, Value:MONDEO_44 Units:n/a' style=\"background-color:rgba(170,229,208,0.300000)\">MONDEO_44</span>   @C   <span title='State importer/Direction, Value:269.7 Units:degs' style=\"background-color:rgba(150,68,229,0.300000)\">269.7</span>   <span title='State importer/Speed, Value:2.0 Units:m/s // State importer/Other Speed, Value:2.0 Units:m/s' style=\"background-color:rgba(185,86,180,0.300000)\">2.0</span>      <span title='State importer/Direction, Value:10.0 Units:degs' style=\"background-color:rgba(150,68,229,0.300000)\">10</span></br>// EVENT 951212 050300.000 BRAVO</br>// EVENT 951212 050300.000 CHARLIE</br><span title='State importer/Date, Value:951212 Units:n/a' style=\"background-color:rgba(213,229,197,0.300000)\">951212</span> <span title='State importer/Time, Value:050300.000 Units:n/a' style=\"background-color:rgba(229,203,90,0.300000)\">050300.000</span> <span title='State importer/Vehicle, Value:FORD_11 Units:n/a' style=\"background-color:rgba(170,229,208,0.300000)\">FORD_11</span>   @C   <span title='State importer/Direction, Value:354.7 Units:degs' style=\"background-color:rgba(150,68,229,0.300000)\">354.7</span>   <span title='State importer/Speed, Value:2.1 Units:m/s // State importer/Other Speed, Value:2.1 Units:m/s' style=\"background-color:rgba(185,86,180,0.300000)\">2.1</span>      <span title='State importer/Direction, Value:14.0 Units:degs' style=\"background-color:rgba(150,68,229,0.300000)\">14</span></br><span title='State importer/Date, Value:951212 Units:n/a' style=\"background-color:rgba(213,229,197,0.300000)\">951212</span> <span title='State importer/Time, Value:050200.000 Units:n/a' style=\"background-color:rgba(229,203,90,0.300000)\">050200.000</span> <span title='State importer/Vehicle, Value:COROLLA_44 Units:n/a' style=\"background-color:rgba(170,229,208,0.300000)\">COROLLA_44</span>   @C   <span title='State importer/Direction, Value:177.9 Units:degs' style=\"background-color:rgba(150,68,229,0.300000)\">177.9</span>   <span title='State importer/Speed, Value:3.1 Units:m/s // State importer/Other Speed, Value:3.1 Units:m/s' style=\"background-color:rgba(185,86,180,0.300000)\">3.1</span>      <span title='State importer/Direction, Value:15.0 Units:degs' style=\"background-color:rgba(150,68,229,0.300000)\">15</span></br>// EVENT 951212 050300.000 DELTA</br><span title='State importer/Date, Value:951212 Units:n/a' style=\"background-color:rgba(213,229,197,0.300000)\">951212</span> <span title='State importer/Time, Value:050300.000 Units:n/a' style=\"background-color:rgba(229,203,90,0.300000)\">050300.000</span> <span title='State importer/Vehicle, Value:COROLLA_44 Units:n/a' style=\"background-color:rgba(170,229,208,0.300000)\">COROLLA_44</span>   @C   <span title='State importer/Direction, Value:200.0 Units:degs' style=\"background-color:rgba(150,68,229,0.300000)\">200</span>   <span title='State importer/Speed, Value:3.1 Units:m/s // State importer/Other Speed, Value:3.1 Units:m/s' style=\"background-color:rgba(185,86,180,0.300000)\">3.1</span>      <span title='State importer/Direction, Value:15.0 Units:degs' style=\"background-color:rgba(150,68,229,0.300000)\">15</span></br>"
      ],
      "text/plain": [
       "<IPython.core.display.HTML object>"
      ]
     },
     "execution_count": 331,
     "metadata": {},
     "output_type": "execute_result"
    }
   ],
   "source": [
    "# create the self-highlighter\n",
    "dataFile = HighlightedFile('file.txt')\n",
    "\n",
    "# get the set of self-describing lines\n",
    "lines = dataFile.lines()\n",
    "\n",
    "# get an importer\n",
    "importer = StateImporter()\n",
    "\n",
    "# do the import\n",
    "importer.importThese(lines)\n",
    "\n",
    "# output to file, display\n",
    "dataFile.export(\"out4.html\")\n",
    "HTML(filename=\"./out4.html\")"
   ]
  },
  {
   "cell_type": "code",
   "execution_count": 332,
   "metadata": {},
   "outputs": [
    {
     "data": {
      "text/html": [
       "<span title='State importer/Date, Value:951212 Units:n/a' style=\"background-color:rgba(213,229,197,0.300000)\">951212</span> <span title='State importer/Time, Value:050000.000 Units:n/a' style=\"background-color:rgba(229,203,90,0.300000)\">050000.000</span> <span title='State importer/Vehicle, Value:MONDEO_44 Units:n/a' style=\"background-color:rgba(170,229,208,0.300000)\">MONDEO_44</span>   @C   <span title='State importer/Direction, Value:269.7 Units:degs' style=\"background-color:rgba(150,68,229,0.300000)\">269.7</span>   <span title='State importer/Speed, Value:2.0 Units:m/s // State importer/Other Speed, Value:2.0 Units:m/s' style=\"background-color:rgba(185,86,180,0.300000)\">2.0</span>      <span title='State importer/Direction, Value:10.0 Units:degs' style=\"background-color:rgba(150,68,229,0.300000)\">10</span></br><span title='Simple Event importer, Whole line' style=\"background-color:rgba(229,224,223,0.300000)\">// EVENT </span><span title='Simple Event importer/Date, Value:951212 Units:n/a // Simple Event importer, Whole line' style=\"background-color:rgba(140,173,226,0.300000)\"a>951212</span><span title='Simple Event importer, Whole line' style=\"background-color:rgba(229,224,223,0.300000)\"a> </span><span title='Simple Event importer/Time, Value:050300.000 Units:n/a // Simple Event importer, Whole line' style=\"background-color:rgba(161,226,219,0.300000)\"a>050300.000</span><span title='Simple Event importer, Whole line' style=\"background-color:rgba(229,224,223,0.300000)\"a> </span><span title='Simple Event importer/Event, Value:050300.000 Units:n/a // Simple Event importer, Whole line' style=\"background-color:rgba(206,203,226,0.300000)\"a>BRAVO</span></br><span title='Simple Event importer, Whole line' style=\"background-color:rgba(229,224,223,0.300000)\">// EVENT </span><span title='Simple Event importer/Date, Value:951212 Units:n/a // Simple Event importer, Whole line' style=\"background-color:rgba(140,173,226,0.300000)\"a>951212</span><span title='Simple Event importer, Whole line' style=\"background-color:rgba(229,224,223,0.300000)\"a> </span><span title='Simple Event importer/Time, Value:050300.000 Units:n/a // Simple Event importer, Whole line' style=\"background-color:rgba(161,226,219,0.300000)\"a>050300.000</span><span title='Simple Event importer, Whole line' style=\"background-color:rgba(229,224,223,0.300000)\"a> </span><span title='Simple Event importer/Event, Value:050300.000 Units:n/a // Simple Event importer, Whole line' style=\"background-color:rgba(206,203,226,0.300000)\"a>CHARLIE</span></br><span title='State importer/Date, Value:951212 Units:n/a' style=\"background-color:rgba(213,229,197,0.300000)\">951212</span> <span title='State importer/Time, Value:050300.000 Units:n/a' style=\"background-color:rgba(229,203,90,0.300000)\">050300.000</span> <span title='State importer/Vehicle, Value:FORD_11 Units:n/a' style=\"background-color:rgba(170,229,208,0.300000)\">FORD_11</span>   @C   <span title='State importer/Direction, Value:354.7 Units:degs' style=\"background-color:rgba(150,68,229,0.300000)\">354.7</span>   <span title='State importer/Speed, Value:2.1 Units:m/s // State importer/Other Speed, Value:2.1 Units:m/s' style=\"background-color:rgba(185,86,180,0.300000)\">2.1</span>      <span title='State importer/Direction, Value:14.0 Units:degs' style=\"background-color:rgba(150,68,229,0.300000)\">14</span></br><span title='State importer/Date, Value:951212 Units:n/a' style=\"background-color:rgba(213,229,197,0.300000)\">951212</span> <span title='State importer/Time, Value:050200.000 Units:n/a' style=\"background-color:rgba(229,203,90,0.300000)\">050200.000</span> <span title='State importer/Vehicle, Value:COROLLA_44 Units:n/a' style=\"background-color:rgba(170,229,208,0.300000)\">COROLLA_44</span>   @C   <span title='State importer/Direction, Value:177.9 Units:degs' style=\"background-color:rgba(150,68,229,0.300000)\">177.9</span>   <span title='State importer/Speed, Value:3.1 Units:m/s // State importer/Other Speed, Value:3.1 Units:m/s' style=\"background-color:rgba(185,86,180,0.300000)\">3.1</span>      <span title='State importer/Direction, Value:15.0 Units:degs' style=\"background-color:rgba(150,68,229,0.300000)\">15</span></br><span title='Simple Event importer, Whole line' style=\"background-color:rgba(229,224,223,0.300000)\">// EVENT </span><span title='Simple Event importer/Date, Value:951212 Units:n/a // Simple Event importer, Whole line' style=\"background-color:rgba(140,173,226,0.300000)\"a>951212</span><span title='Simple Event importer, Whole line' style=\"background-color:rgba(229,224,223,0.300000)\"a> </span><span title='Simple Event importer/Time, Value:050300.000 Units:n/a // Simple Event importer, Whole line' style=\"background-color:rgba(161,226,219,0.300000)\"a>050300.000</span><span title='Simple Event importer, Whole line' style=\"background-color:rgba(229,224,223,0.300000)\"a> </span><span title='Simple Event importer/Event, Value:050300.000 Units:n/a // Simple Event importer, Whole line' style=\"background-color:rgba(206,203,226,0.300000)\"a>DELTA</span></br><span title='State importer/Date, Value:951212 Units:n/a' style=\"background-color:rgba(213,229,197,0.300000)\">951212</span> <span title='State importer/Time, Value:050300.000 Units:n/a' style=\"background-color:rgba(229,203,90,0.300000)\">050300.000</span> <span title='State importer/Vehicle, Value:COROLLA_44 Units:n/a' style=\"background-color:rgba(170,229,208,0.300000)\">COROLLA_44</span>   @C   <span title='State importer/Direction, Value:200.0 Units:degs' style=\"background-color:rgba(150,68,229,0.300000)\">200</span>   <span title='State importer/Speed, Value:3.1 Units:m/s // State importer/Other Speed, Value:3.1 Units:m/s' style=\"background-color:rgba(185,86,180,0.300000)\">3.1</span>      <span title='State importer/Direction, Value:15.0 Units:degs' style=\"background-color:rgba(150,68,229,0.300000)\">15</span></br>"
      ],
      "text/plain": [
       "<IPython.core.display.HTML object>"
      ]
     },
     "execution_count": 332,
     "metadata": {},
     "output_type": "execute_result"
    }
   ],
   "source": [
    "# create the self-highlighter\n",
    "dataFile = HighlightedFile('file.txt')\n",
    "\n",
    "# get the set of self-describing lines\n",
    "lines = dataFile.lines()\n",
    "\n",
    "# handle the first importer\n",
    "importer = EventImporter()\n",
    "importer.importThese(lines)\n",
    "\n",
    "# now the second importer\n",
    "stateImporter = StateImporter()\n",
    "stateImporter.importThese(lines)\n",
    "\n",
    "# output to file, display\n",
    "dataFile.export(\"out4.html\")\n",
    "HTML(filename=\"./out4.html\")"
   ]
  },
  {
   "cell_type": "markdown",
   "metadata": {},
   "source": [
    "## Try a composite importer"
   ]
  },
  {
   "cell_type": "code",
   "execution_count": 333,
   "metadata": {},
   "outputs": [],
   "source": [
    "class CompositeImporter():\n",
    "    def importThese(self, lines):\n",
    "        # process the lines\n",
    "        for thisLine in lines:\n",
    "            tokens = thisLine.tokens()\n",
    "            myName = \"Composite Importer\"\n",
    "\n",
    "            # check the type\n",
    "            firstToken = tokens[0]\n",
    "            if firstToken.text == \"//\":\n",
    "                # event marker\n",
    "                eventImporter = \"Composite Importer (Event)\"\n",
    "                dateToken = tokens[2]\n",
    "                dateToken.record(eventImporter,\"Date\", dateToken.text, \"n/a\")\n",
    "                timeToken = tokens[3]\n",
    "                timeToken.record(eventImporter,\"Time\", timeToken.text, \"n/a\")\n",
    "                eventToken = tokens[4]\n",
    "                eventToken.record(eventImporter,\"Event\", timeToken.text, \"n/a\")\n",
    "\n",
    "                # and the whole=line record\n",
    "                thisLine.record(eventImporter, \"Whole line\")\n",
    "\n",
    "            else:\n",
    "\n",
    "                dateToken = tokens[0]\n",
    "                dateToken.record(myName,\"Date\", dateToken.text, \"n/a\")\n",
    "\n",
    "                timeToken = tokens[1]\n",
    "                timeToken.record(myName,\"Time\", timeToken.text, \"n/a\")\n",
    "\n",
    "                vehicleToken = tokens[2]\n",
    "                vehicleVal = vehicleToken.text\n",
    "                vehicleToken.record(myName,\"Vehicle\", vehicleVal,\"n/a\")  \n",
    "\n",
    "                directionToken = tokens[4]\n",
    "                directionVal = float(directionToken.text)\n",
    "                directionToken.record(myName,\"Direction\", directionVal,\"degs\")  \n",
    "\n",
    "                speedToken = tokens[5]\n",
    "                speedVal = float(speedToken.text)\n",
    "                speedToken.record(myName,\"Speed\", speedVal,\"m/s\")  \n",
    "\n",
    "                speedToken = tokens[5]\n",
    "                speedVal = float(speedToken.text)\n",
    "                speedToken.record(myName,\"Other Speed\", speedVal,\"m/s\")  \n",
    "\n",
    "                dirToken = tokens[6]\n",
    "                directionVal = float(dirToken.text)\n",
    "                dirToken.record(myName,\"Direction\", directionVal,\"degs\")"
   ]
  },
  {
   "cell_type": "code",
   "execution_count": 334,
   "metadata": {},
   "outputs": [
    {
     "data": {
      "text/html": [
       "<span title='Composite Importer/Date, Value:951212 Units:n/a' style=\"background-color:rgba(193,229,19,0.300000)\">951212</span> <span title='Composite Importer/Time, Value:050000.000 Units:n/a' style=\"background-color:rgba(181,229,176,0.300000)\">050000.000</span> <span title='Composite Importer/Vehicle, Value:MONDEO_44 Units:n/a' style=\"background-color:rgba(218,227,229,0.300000)\">MONDEO_44</span>   @C   <span title='Composite Importer/Direction, Value:269.7 Units:degs' style=\"background-color:rgba(160,137,229,0.300000)\">269.7</span>   <span title='Composite Importer/Speed, Value:2.0 Units:m/s // Composite Importer/Other Speed, Value:2.0 Units:m/s' style=\"background-color:rgba(209,142,109,0.300000)\">2.0</span>      <span title='Composite Importer/Direction, Value:10.0 Units:degs' style=\"background-color:rgba(160,137,229,0.300000)\">10</span></br><span title='Composite Importer (Event), Whole line' style=\"background-color:rgba(143,229,54,0.300000)\">// EVENT </span><span title='Composite Importer (Event)/Date, Value:951212 Units:n/a // Composite Importer (Event), Whole line' style=\"background-color:rgba(158,229,67,0.300000)\"a>951212</span><span title='Composite Importer (Event), Whole line' style=\"background-color:rgba(143,229,54,0.300000)\"a> </span><span title='Composite Importer (Event)/Time, Value:050300.000 Units:n/a // Composite Importer (Event), Whole line' style=\"background-color:rgba(186,224,48,0.300000)\"a>050300.000</span><span title='Composite Importer (Event), Whole line' style=\"background-color:rgba(143,229,54,0.300000)\"a> </span><span title='Composite Importer (Event)/Event, Value:050300.000 Units:n/a // Composite Importer (Event), Whole line' style=\"background-color:rgba(186,221,131,0.300000)\"a>BRAVO</span></br><span title='Composite Importer (Event), Whole line' style=\"background-color:rgba(143,229,54,0.300000)\">// EVENT </span><span title='Composite Importer (Event)/Date, Value:951212 Units:n/a // Composite Importer (Event), Whole line' style=\"background-color:rgba(158,229,67,0.300000)\"a>951212</span><span title='Composite Importer (Event), Whole line' style=\"background-color:rgba(143,229,54,0.300000)\"a> </span><span title='Composite Importer (Event)/Time, Value:050300.000 Units:n/a // Composite Importer (Event), Whole line' style=\"background-color:rgba(186,224,48,0.300000)\"a>050300.000</span><span title='Composite Importer (Event), Whole line' style=\"background-color:rgba(143,229,54,0.300000)\"a> </span><span title='Composite Importer (Event)/Event, Value:050300.000 Units:n/a // Composite Importer (Event), Whole line' style=\"background-color:rgba(186,221,131,0.300000)\"a>CHARLIE</span></br><span title='Composite Importer/Date, Value:951212 Units:n/a' style=\"background-color:rgba(193,229,19,0.300000)\">951212</span> <span title='Composite Importer/Time, Value:050300.000 Units:n/a' style=\"background-color:rgba(181,229,176,0.300000)\">050300.000</span> <span title='Composite Importer/Vehicle, Value:FORD_11 Units:n/a' style=\"background-color:rgba(218,227,229,0.300000)\">FORD_11</span>   @C   <span title='Composite Importer/Direction, Value:354.7 Units:degs' style=\"background-color:rgba(160,137,229,0.300000)\">354.7</span>   <span title='Composite Importer/Speed, Value:2.1 Units:m/s // Composite Importer/Other Speed, Value:2.1 Units:m/s' style=\"background-color:rgba(209,142,109,0.300000)\">2.1</span>      <span title='Composite Importer/Direction, Value:14.0 Units:degs' style=\"background-color:rgba(160,137,229,0.300000)\">14</span></br><span title='Composite Importer/Date, Value:951212 Units:n/a' style=\"background-color:rgba(193,229,19,0.300000)\">951212</span> <span title='Composite Importer/Time, Value:050200.000 Units:n/a' style=\"background-color:rgba(181,229,176,0.300000)\">050200.000</span> <span title='Composite Importer/Vehicle, Value:COROLLA_44 Units:n/a' style=\"background-color:rgba(218,227,229,0.300000)\">COROLLA_44</span>   @C   <span title='Composite Importer/Direction, Value:177.9 Units:degs' style=\"background-color:rgba(160,137,229,0.300000)\">177.9</span>   <span title='Composite Importer/Speed, Value:3.1 Units:m/s // Composite Importer/Other Speed, Value:3.1 Units:m/s' style=\"background-color:rgba(209,142,109,0.300000)\">3.1</span>      <span title='Composite Importer/Direction, Value:15.0 Units:degs' style=\"background-color:rgba(160,137,229,0.300000)\">15</span></br><span title='Composite Importer (Event), Whole line' style=\"background-color:rgba(143,229,54,0.300000)\">// EVENT </span><span title='Composite Importer (Event)/Date, Value:951212 Units:n/a // Composite Importer (Event), Whole line' style=\"background-color:rgba(158,229,67,0.300000)\"a>951212</span><span title='Composite Importer (Event), Whole line' style=\"background-color:rgba(143,229,54,0.300000)\"a> </span><span title='Composite Importer (Event)/Time, Value:050300.000 Units:n/a // Composite Importer (Event), Whole line' style=\"background-color:rgba(186,224,48,0.300000)\"a>050300.000</span><span title='Composite Importer (Event), Whole line' style=\"background-color:rgba(143,229,54,0.300000)\"a> </span><span title='Composite Importer (Event)/Event, Value:050300.000 Units:n/a // Composite Importer (Event), Whole line' style=\"background-color:rgba(186,221,131,0.300000)\"a>DELTA</span></br><span title='Composite Importer/Date, Value:951212 Units:n/a' style=\"background-color:rgba(193,229,19,0.300000)\">951212</span> <span title='Composite Importer/Time, Value:050300.000 Units:n/a' style=\"background-color:rgba(181,229,176,0.300000)\">050300.000</span> <span title='Composite Importer/Vehicle, Value:COROLLA_44 Units:n/a' style=\"background-color:rgba(218,227,229,0.300000)\">COROLLA_44</span>   @C   <span title='Composite Importer/Direction, Value:200.0 Units:degs' style=\"background-color:rgba(160,137,229,0.300000)\">200</span>   <span title='Composite Importer/Speed, Value:3.1 Units:m/s // Composite Importer/Other Speed, Value:3.1 Units:m/s' style=\"background-color:rgba(209,142,109,0.300000)\">3.1</span>      <span title='Composite Importer/Direction, Value:15.0 Units:degs' style=\"background-color:rgba(160,137,229,0.300000)\">15</span></br>"
      ],
      "text/plain": [
       "<IPython.core.display.HTML object>"
      ]
     },
     "execution_count": 334,
     "metadata": {},
     "output_type": "execute_result"
    }
   ],
   "source": [
    "# create the self-highlighter\n",
    "dataFile = HighlightedFile('file.txt')\n",
    "\n",
    "# get the set of self-describing lines\n",
    "lines = dataFile.lines()\n",
    "\n",
    "# get an importer\n",
    "importer = CompositeImporter()\n",
    "\n",
    "# do the import\n",
    "importer.importThese(lines)\n",
    "\n",
    "# output to file, display\n",
    "dataFile.export(\"out4.html\")\n",
    "HTML(filename=\"./out4.html\")"
   ]
  },
  {
   "cell_type": "markdown",
   "metadata": {},
   "source": [
    "## Try out comma-delimited file"
   ]
  },
  {
   "cell_type": "code",
   "execution_count": 335,
   "metadata": {},
   "outputs": [
    {
     "name": "stdout",
     "output_type": "stream",
     "text": [
      "951212, 050000.000, MONDEO_44, @C, 269.7, 2.0, 10\n",
      "//, EVENT, 951212, 050300.000, BRAVO\n",
      "//, EVENT, 951212, 050300.000, CHARLIE\n",
      "951212, 050300.000, FORD_11, @C, 354.7, 2.1, 14\n",
      "951212, 050200.000, COROLLA_44, @C, 177.9, 3.1, 15\n",
      "//, EVENT, 951212, 050300.000, DELTA\n",
      "951212, 050300.000, COROLLA_44, @C, 200, 3.1, 15\n",
      "\n"
     ]
    }
   ],
   "source": [
    "text_file = open(\"file_comma.txt\")\n",
    "file_content = text_file.read()\n",
    "print(file_content)\n",
    "text_file.close()"
   ]
  },
  {
   "cell_type": "code",
   "execution_count": 336,
   "metadata": {},
   "outputs": [],
   "source": [
    "class CSVEventImporter():\n",
    "    def importThese(self, lines):\n",
    "        # process the lines\n",
    "        for thisLine in lines:\n",
    "            \n",
    "            \n",
    "            tokens = thisLine.tokens(CSV_DELIM, \",\") # note we specify delimiter\n",
    "\n",
    "            #print(tokens[0], \" \", tokens[1], \" \", tokens[2], \" \", tokens[3]) \n",
    "            \n",
    "            # check the type\n",
    "            firstToken = tokens[0]\n",
    "                  \n",
    "            if firstToken.text == \"//\":\n",
    "                # event marker\n",
    "                eventImporter = \"Simple CSV Event importer\"\n",
    "                dateToken = tokens[2]\n",
    "                dateToken.record(eventImporter,\"Date\", dateToken.text, \"n/a\")\n",
    "                timeToken = tokens[3]\n",
    "                timeToken.record(eventImporter,\"Time\", timeToken.text, \"n/a\")\n",
    "                eventToken = tokens[4]\n",
    "                eventToken.record(eventImporter,\"Event\", timeToken.text, \"n/a\")\n",
    "\n",
    "                # and the whole=line record\n",
    "                thisLine.record(eventImporter, \"Whole line\")"
   ]
  },
  {
   "cell_type": "code",
   "execution_count": 337,
   "metadata": {},
   "outputs": [
    {
     "data": {
      "text/html": [
       "951212, 050000.000, MONDEO_44, @C, 269.7, 2.0, 10</br><span title='Simple CSV Event importer, Whole line' style=\"background-color:rgba(104,229,176,0.300000)\">//, EVENT</span><span title='Simple CSV Event importer/Date, Value:951212 Units:n/a // Simple CSV Event importer, Whole line' style=\"background-color:rgba(130,229,199,0.300000)\"a>, 951212</span><span title='Simple CSV Event importer/Time, Value:050300.000 Units:n/a // Simple CSV Event importer, Whole line' style=\"background-color:rgba(146,229,191,0.300000)\"a>, 050300.000</span><span title='Simple CSV Event importer/Event, Value:050300.000 Units:n/a // Simple CSV Event importer, Whole line' style=\"background-color:rgba(156,229,150,0.300000)\"a>, BRAVO</span></br><span title='Simple CSV Event importer, Whole line' style=\"background-color:rgba(104,229,176,0.300000)\">//, EVENT</span><span title='Simple CSV Event importer/Date, Value:951212 Units:n/a // Simple CSV Event importer, Whole line' style=\"background-color:rgba(130,229,199,0.300000)\"a>, 951212</span><span title='Simple CSV Event importer/Time, Value:050300.000 Units:n/a // Simple CSV Event importer, Whole line' style=\"background-color:rgba(146,229,191,0.300000)\"a>, 050300.000</span><span title='Simple CSV Event importer/Event, Value:050300.000 Units:n/a // Simple CSV Event importer, Whole line' style=\"background-color:rgba(156,229,150,0.300000)\"a>, CHARLIE</span></br>951212, 050300.000, FORD_11, @C, 354.7, 2.1, 14</br>951212, 050200.000, COROLLA_44, @C, 177.9, 3.1, 15</br><span title='Simple CSV Event importer, Whole line' style=\"background-color:rgba(104,229,176,0.300000)\">//, EVENT</span><span title='Simple CSV Event importer/Date, Value:951212 Units:n/a // Simple CSV Event importer, Whole line' style=\"background-color:rgba(130,229,199,0.300000)\"a>, 951212</span><span title='Simple CSV Event importer/Time, Value:050300.000 Units:n/a // Simple CSV Event importer, Whole line' style=\"background-color:rgba(146,229,191,0.300000)\"a>, 050300.000</span><span title='Simple CSV Event importer/Event, Value:050300.000 Units:n/a // Simple CSV Event importer, Whole line' style=\"background-color:rgba(156,229,150,0.300000)\"a>, DELTA</span></br>951212, 050300.000, COROLLA_44, @C, 200, 3.1, 15</br>     <span title='Composite Importer/Direction, Value:15.0 Units:degs' style=\"background-color:rgba(160,137,229,0.300000)\">15</span></br>"
      ],
      "text/plain": [
       "<IPython.core.display.HTML object>"
      ]
     },
     "execution_count": 337,
     "metadata": {},
     "output_type": "execute_result"
    }
   ],
   "source": [
    "# create the self-highlighter\n",
    "dataFile = HighlightedFile('file_comma.txt')\n",
    "\n",
    "# get the set of self-describing lines\n",
    "lines = dataFile.lines()\n",
    "\n",
    "# get an importer\n",
    "importer = CSVEventImporter()\n",
    "\n",
    "# do the import\n",
    "importer.importThese(lines)\n",
    "\n",
    "# output to file, display\n",
    "dataFile.export(\"out4.html\")\n",
    "HTML(filename=\"./out4.html\")"
   ]
  },
  {
   "cell_type": "code",
   "execution_count": null,
   "metadata": {},
   "outputs": [],
   "source": []
  },
  {
   "cell_type": "code",
   "execution_count": null,
   "metadata": {},
   "outputs": [],
   "source": []
  }
 ],
 "metadata": {
  "kernelspec": {
   "display_name": "Python 3",
   "language": "python",
   "name": "python3"
  },
  "language_info": {
   "codemirror_mode": {
    "name": "ipython",
    "version": 3
   },
   "file_extension": ".py",
   "mimetype": "text/x-python",
   "name": "python",
   "nbconvert_exporter": "python",
   "pygments_lexer": "ipython3",
   "version": "3.7.4"
  }
 },
 "nbformat": 4,
 "nbformat_minor": 2
}
