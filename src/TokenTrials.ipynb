{
 "cells": [
  {
   "cell_type": "code",
   "execution_count": 3,
   "metadata": {},
   "outputs": [],
   "source": [
    "#Import library\n",
    "from highlib import Letter\n",
    "from highlib import HighLight\n"
   ]
  },
  {
   "cell_type": "markdown",
   "metadata": {},
   "source": [
    "## Objects used in the library"
   ]
  },
  {
   "cell_type": "code",
   "execution_count": 4,
   "metadata": {},
   "outputs": [
    {
     "name": "stdout",
     "output_type": "stream",
     "text": [
      "[a] [b]  [c]\n"
     ]
    }
   ],
   "source": [
    "letterObj = Letter(\"a\", \"b\", \"c\")\n",
    "print(letterObj)"
   ]
  },
  {
   "cell_type": "markdown",
   "metadata": {},
   "source": [
    "## Reading in a file"
   ]
  },
  {
   "cell_type": "code",
   "execution_count": 5,
   "metadata": {},
   "outputs": [
    {
     "name": "stdout",
     "output_type": "stream",
     "text": [
      "7 lines read in\n"
     ]
    }
   ],
   "source": [
    "high=HighLight(\"file.txt\",'RomanFile')\n",
    "lineArr = high.lines()\n",
    "print(str(len(lineArr)) + \" lines read in\")"
   ]
  },
  {
   "cell_type": "code",
   "execution_count": 6,
   "metadata": {},
   "outputs": [
    {
     "name": "stdout",
     "output_type": "stream",
     "text": [
      "951212 050000.000 MONDEO_44 @C 269.7 2.0 10\n",
      "// EVENT 951212 050300.000 BRAVO\n",
      "// EVENT 951212 050300.000 CHARLIE\n",
      "951212 050300.000 FORD_11 @C 354.7 2.1 14\n",
      "951212 050200.000 COROLLA_44 @C 177.9 3.1 15\n",
      "// EVENT 951212 050300.000 DELTA\n",
      "951212 050300.000 COROLLA_44 @C 200 3.1 15\n"
     ]
    }
   ],
   "source": [
    "for thisLine in lineArr:\n",
    "    print(thisLine.line)"
   ]
  },
  {
   "cell_type": "markdown",
   "metadata": {},
   "source": [
    "## Handling tokens"
   ]
  },
  {
   "cell_type": "code",
   "execution_count": 7,
   "metadata": {},
   "outputs": [],
   "source": [
    "high.record(\"Date\", \"n/a\", 0,'yellow')\n",
    "high.record(\"Date\", \"n/a\", 1,'yellow')\n",
    "high.record(\"Venicle\", \"n/a\", 2,'blue')"
   ]
  },
  {
   "cell_type": "code",
   "execution_count": 8,
   "metadata": {},
   "outputs": [
    {
     "name": "stdout",
     "output_type": "stream",
     "text": [
      "{'empty': {0: {'name': 'Date', 'attr': 'n/a', 'color': 'yellow'}, 1: {'name': 'Date', 'attr': 'n/a', 'color': 'yellow'}, 2: {'name': 'Venicle', 'attr': 'n/a', 'color': 'blue'}}}\n"
     ]
    }
   ],
   "source": [
    "print(high.hashRecord)"
   ]
  },
  {
   "cell_type": "code",
   "execution_count": 9,
   "metadata": {},
   "outputs": [
    {
     "name": "stdout",
     "output_type": "stream",
     "text": [
      "empty\n"
     ]
    }
   ],
   "source": [
    "for key in high.hashRecord:\n",
    "    print(key)"
   ]
  },
  {
   "cell_type": "markdown",
   "metadata": {},
   "source": [
    "## Playing with regexp\n",
    "Let's experiment with a self-aware token object"
   ]
  },
  {
   "cell_type": "code",
   "execution_count": 20,
   "metadata": {},
   "outputs": [],
   "source": [
    "import re\n",
    "from re import finditer\n",
    "\n",
    "class Line():\n",
    "    def __init__(self,start, end,text, chars):\n",
    "        self.start=start\n",
    "        self.end=end\n",
    "        self.text=text\n",
    "        self.chars = chars\n",
    "    def tokens(self):\n",
    "        tokens = []\n",
    "        regExp = \"\\\\S+\"\n",
    "        for match in finditer(regExp, self.text):\n",
    "            tokens.append(Token(match.span(), match.group(), int(self.start), self.chars))\n",
    "        return tokens\n",
    "    \n",
    "class CharIndex:\n",
    "    def __init__(self, letter):\n",
    "        self.letter = letter\n",
    "        self.usages = []\n",
    "    def __str__(self):\n",
    "        message = \"[\"+ self.letter+\"]\"\n",
    "        for usage in self.usages:\n",
    "            message+= \"(T/F:\" + usage.toolField + \", msg:\" + usage.message + \")\"\n",
    "        return message\n",
    "\n",
    "class SingleUsage:\n",
    "    def __init__(self, toolField, message):\n",
    "        self.toolField = toolField\n",
    "        self.message = message\n",
    "    \n",
    "class Token():\n",
    "    def __init__(self,span,text, lineStart, chars):\n",
    "        self.span=span\n",
    "        self.text=text\n",
    "        self.lineStart = lineStart\n",
    "        self.chars = chars\n",
    "    def __str__(self):\n",
    "        return \"Start:[\"+ str(self.start())+\"] End:[\"+str(self.end())+\"] \"+\"Text:[\"+self.text+\"]\"\n",
    "    def start(self):\n",
    "        return self.lineStart + self.span[0]\n",
    "    def end(self):\n",
    "        return self.lineStart + self.span[1] - 1\n",
    "    def record(self, tool, field, value, units):\n",
    "        toolField = tool+\"/\"+field\n",
    "        message = \"Value:\" + str(value) + \" Units:\" + str(units)        \n",
    " #       print(\"Looping through cells \" + str(self.start()) + \" to \" + str(self.end()))\n",
    " #       print(\"Setting tool/field to:[\" + toolField + \"] Msg to:[\" + message + \"]\")\n",
    "        for i in range(self.lineStart + self.span[0], self.lineStart + self.span[1]):\n",
    "            usage = SingleUsage(toolField, message)\n",
    "            self.chars[i].usages.append(usage)"
   ]
  },
  {
   "cell_type": "markdown",
   "metadata": {},
   "source": [
    "## Try out self-aware lines\n"
   ]
  },
  {
   "cell_type": "code",
   "execution_count": 29,
   "metadata": {},
   "outputs": [
    {
     "name": "stdout",
     "output_type": "stream",
     "text": [
      "have:319chars\n"
     ]
    }
   ],
   "source": [
    "#sampleLines = \"MONDEO_44 @C 269.7 2.0 10\\nMONDEO_44 @C 269.7  2.0 11\\nMONDEO_45  @C 249.7  2.0 10\\nMONDEO_46  @C 239.7 4.0 12\\n\"\n",
    "\n",
    "with open('file.txt', 'r') as file:\n",
    "    sampleLines = file.read()\n",
    "\n",
    "strLines = sampleLines.splitlines()\n",
    "lines = []\n",
    "myName = \"Trial Extractor\"\n",
    "\n",
    "chars = [None] * len(sampleLines)\n",
    "\n",
    "print(\"have:\" + str(len(sampleLines)) + \"chars\")\n",
    "\n",
    "# initialise the char index\n",
    "charCtr = 0\n",
    "for char in sampleLines:\n",
    "    # put letter into a struct\n",
    "    charInd = CharIndex(char)\n",
    "    chars[charCtr] = charInd\n",
    "    charCtr += 1\n",
    "    \n",
    "# ok, break the file into self-aware lines\n",
    "lineCtr = 0\n",
    "for thisLine in strLines:\n",
    "    thisLen = len(thisLine)\n",
    "    newL = Line(str(lineCtr), str(lineCtr + thisLen), thisLine, chars)\n",
    "    lines.append(newL)\n",
    "    lineCtr += thisLen + 1\n",
    "\n",
    "# process the lines\n",
    "for thisLine in lines:\n",
    "    tokens = thisLine.tokens()\n",
    "\n",
    "    # check the type\n",
    "    firstToken = tokens[0]\n",
    "    if firstToken.text == \"//\":\n",
    "        # event marker\n",
    "        eventImporter = \"Event importer\"\n",
    "        dateToken = tokens[2]\n",
    "        dateToken.record(eventImporter,\"Date\", dateToken.text, \"n/a\")\n",
    "        timeToken = tokens[3]\n",
    "        timeToken.record(eventImporter,\"Time\", timeToken.text, \"n/a\")\n",
    "        eventToken = tokens[4]\n",
    "        eventToken.record(eventImporter,\"Event\", timeToken.text, \"n/a\")\n",
    "    else:\n",
    "        \n",
    "        dateToken = tokens[0]\n",
    "        dateToken.record(myName,\"Date\", dateToken.text, \"n/a\")\n",
    "        \n",
    "        timeToken = tokens[1]\n",
    "        timeToken.record(myName,\"Time\", timeToken.text, \"n/a\")\n",
    "\n",
    "        vehicleToken = tokens[2]\n",
    "        vehicleVal = vehicleToken.text\n",
    "        vehicleToken.record(myName,\"Vehicle\", vehicleVal,\"n/a\")  \n",
    "\n",
    "        directionToken = tokens[4]\n",
    "        directionVal = float(directionToken.text)\n",
    "        directionToken.record(myName,\"Direction\", directionVal,\"degs\")  \n",
    "\n",
    "        speedToken = tokens[5]\n",
    "        speedVal = float(speedToken.text)\n",
    "        speedToken.record(myName,\"Speed\", speedVal,\"m/s\")  \n",
    "\n",
    "        speedToken = tokens[5]\n",
    "        speedVal = float(speedToken.text)\n",
    "        speedToken.record(myName,\"Other Speed\", speedVal,\"m/s\")  \n",
    "\n",
    "        dirToken = tokens[6]\n",
    "        directionVal = float(dirToken.text)\n",
    "        dirToken.record(myName,\"Direction\", directionVal,\"degs\")\n"
   ]
  },
  {
   "cell_type": "markdown",
   "metadata": {},
   "source": [
    "## Generating colors"
   ]
  },
  {
   "cell_type": "code",
   "execution_count": 30,
   "metadata": {},
   "outputs": [
    {
     "name": "stdout",
     "output_type": "stream",
     "text": [
      "#cfc3e5\n",
      "#9de5e3\n",
      "#cfc3e5\n",
      "#16e5d6\n"
     ]
    }
   ],
   "source": [
    "import random\n",
    "import math\n",
    "import colorsys\n",
    "\n",
    "myColors={} \n",
    "\n",
    "def colorFor(hashCode):\n",
    "    if hashCode in myColors:\n",
    "        return myColors[hashCode]\n",
    "    else:\n",
    "        hue = random.random()\n",
    "        sat = random.random()\n",
    "        rgb = colorsys.hsv_to_rgb(hue, sat, 0.9)\n",
    "        r = int(rgb[0] * 255)\n",
    "        g = int(rgb[1] * 255)\n",
    "        b = int(rgb[2] * 255)\n",
    "        newCol = '#%02x%02x%02x' % (r,g,b)\n",
    "        myColors[hashCode] = newCol\n",
    "        return newCol\n",
    "    \n",
    "print(colorFor(\"aaa\"))\n",
    "print(colorFor(\"bbb\"))\n",
    "print(colorFor(\"aaa\")) # this should return the same color as the first one\n",
    "print(colorFor(\"ddd\"))\n"
   ]
  },
  {
   "cell_type": "markdown",
   "metadata": {},
   "source": [
    "## Producting the target HTML file"
   ]
  },
  {
   "cell_type": "code",
   "execution_count": 31,
   "metadata": {},
   "outputs": [],
   "source": [
    "lastHash = \"\"\n",
    "fOut = open(\"out3.html\", \"w\")\n",
    "for charIndex in chars:\n",
    "    letter = charIndex.letter\n",
    "    thisHash = \"\"\n",
    "    thisMessage = \"\"\n",
    "    for usage in charIndex.usages:\n",
    "        thisHash += usage.toolField\n",
    "        needsNewLine = thisMessage != \"\"\n",
    "        thisMessage += usage.toolField + \", \" + usage.message\n",
    "        if needsNewLine:\n",
    "            thisMessage += \"////\"\n",
    "\n",
    "    # generate/retrieve a color for this hash\n",
    "    newColor = colorFor(thisHash)\n",
    "    # are we already in hash?\n",
    "    if(lastHash != \"\"):\n",
    "        if(thisHash != \"\"):\n",
    "            # is it the different to this one?\n",
    "            if(lastHash != thisHash):\n",
    "                # ok, close the span\n",
    "                fOut.write(\"</span>\")\n",
    "\n",
    "                # start a new span\n",
    "                fOut.write(\"<span title='\"+thisMessage+\"' style=\\\"background-color:\" + newColor + \"\\\"a>vvv\")\n",
    "        else:\n",
    "            fOut.write(\"</span>\")\n",
    "            \n",
    "    else:\n",
    "        # do we have one now?\n",
    "        if(thisHash != \"\"):\n",
    "                fOut.write(\"<span title='\"+thisMessage+\"' style=\\\"background-color:\" + newColor + \"\\\">\")\n",
    "    \n",
    "    # just check if it's newline\n",
    "    if(letter == \"\\n\"):\n",
    "        fOut.write(\"</br>\")\n",
    "    else:\n",
    "        fOut.write(letter)\n",
    "   \n",
    "    lastHash = thisHash\n",
    "\n",
    "if(lastHash != \"\"):\n",
    "    fOut.write(\"</span>\")\n",
    "    \n",
    "fOut.close()\n",
    "\n",
    "            \n"
   ]
  },
  {
   "cell_type": "code",
   "execution_count": 33,
   "metadata": {},
   "outputs": [
    {
     "data": {
      "text/html": [
       "<span title='Trial Extractor/Date, Value:951212 Units:n/a' style=\"background-color:#5eb5e5\">951212</span> <span title='Trial Extractor/Time, Value:050000.000 Units:n/a' style=\"background-color:#a99ee5\">050000.000</span> <span title='Trial Extractor/Vehicle, Value:MONDEO_44 Units:n/a' style=\"background-color:#26e58f\">MONDEO_44</span>   @C   <span title='Trial Extractor/Direction, Value:269.7 Units:degs' style=\"background-color:#e5ada5\">269.7</span>   <span title='Trial Extractor/Speed, Value:2.0 Units:m/sTrial Extractor/Other Speed, Value:2.0 Units:m/s////' style=\"background-color:#e5b6d9\">2.0</span>      <span title='Trial Extractor/Direction, Value:10.0 Units:degs' style=\"background-color:#e5ada5\">10</span></br>// EVENT <span title='Event importer/Date, Value:951212 Units:n/a' style=\"background-color:#cfe5cb\">951212</span> <span title='Event importer/Time, Value:050300.000 Units:n/a' style=\"background-color:#e5ce1c\">050300.000</span> <span title='Event importer/Event, Value:050300.000 Units:n/a' style=\"background-color:#5ce5ce\">BRAVO</span></br>// EVENT <span title='Event importer/Date, Value:951212 Units:n/a' style=\"background-color:#cfe5cb\">951212</span> <span title='Event importer/Time, Value:050300.000 Units:n/a' style=\"background-color:#e5ce1c\">050300.000</span> <span title='Event importer/Event, Value:050300.000 Units:n/a' style=\"background-color:#5ce5ce\">CHARLIE</span></br><span title='Trial Extractor/Date, Value:951212 Units:n/a' style=\"background-color:#5eb5e5\">951212</span> <span title='Trial Extractor/Time, Value:050300.000 Units:n/a' style=\"background-color:#a99ee5\">050300.000</span> <span title='Trial Extractor/Vehicle, Value:FORD_11 Units:n/a' style=\"background-color:#26e58f\">FORD_11</span>   @C   <span title='Trial Extractor/Direction, Value:354.7 Units:degs' style=\"background-color:#e5ada5\">354.7</span>   <span title='Trial Extractor/Speed, Value:2.1 Units:m/sTrial Extractor/Other Speed, Value:2.1 Units:m/s////' style=\"background-color:#e5b6d9\">2.1</span>      <span title='Trial Extractor/Direction, Value:14.0 Units:degs' style=\"background-color:#e5ada5\">14</span></br><span title='Trial Extractor/Date, Value:951212 Units:n/a' style=\"background-color:#5eb5e5\">951212</span> <span title='Trial Extractor/Time, Value:050200.000 Units:n/a' style=\"background-color:#a99ee5\">050200.000</span> <span title='Trial Extractor/Vehicle, Value:COROLLA_44 Units:n/a' style=\"background-color:#26e58f\">COROLLA_44</span>   @C   <span title='Trial Extractor/Direction, Value:177.9 Units:degs' style=\"background-color:#e5ada5\">177.9</span>   <span title='Trial Extractor/Speed, Value:3.1 Units:m/sTrial Extractor/Other Speed, Value:3.1 Units:m/s////' style=\"background-color:#e5b6d9\">3.1</span>      <span title='Trial Extractor/Direction, Value:15.0 Units:degs' style=\"background-color:#e5ada5\">15</span></br>// EVENT <span title='Event importer/Date, Value:951212 Units:n/a' style=\"background-color:#cfe5cb\">951212</span> <span title='Event importer/Time, Value:050300.000 Units:n/a' style=\"background-color:#e5ce1c\">050300.000</span> <span title='Event importer/Event, Value:050300.000 Units:n/a' style=\"background-color:#5ce5ce\">DELTA</span></br><span title='Trial Extractor/Date, Value:951212 Units:n/a' style=\"background-color:#5eb5e5\">951212</span> <span title='Trial Extractor/Time, Value:050300.000 Units:n/a' style=\"background-color:#a99ee5\">050300.000</span> <span title='Trial Extractor/Vehicle, Value:COROLLA_44 Units:n/a' style=\"background-color:#26e58f\">COROLLA_44</span>   @C   <span title='Trial Extractor/Direction, Value:200.0 Units:degs' style=\"background-color:#e5ada5\">200</span>   <span title='Trial Extractor/Speed, Value:3.1 Units:m/sTrial Extractor/Other Speed, Value:3.1 Units:m/s////' style=\"background-color:#e5b6d9\">3.1</span>      <span title='Trial Extractor/Direction, Value:15.0 Units:degs' style=\"background-color:#e5ada5\">15</span></br>"
      ],
      "text/plain": [
       "<IPython.core.display.HTML object>"
      ]
     },
     "execution_count": 33,
     "metadata": {},
     "output_type": "execute_result"
    }
   ],
   "source": [
    "from IPython.display import HTML\n",
    "HTML(filename=\"./out3.html\")"
   ]
  },
  {
   "cell_type": "code",
   "execution_count": null,
   "metadata": {},
   "outputs": [],
   "source": []
  }
 ],
 "metadata": {
  "kernelspec": {
   "display_name": "Python 3",
   "language": "python",
   "name": "python3"
  },
  "language_info": {
   "codemirror_mode": {
    "name": "ipython",
    "version": 3
   },
   "file_extension": ".py",
   "mimetype": "text/x-python",
   "name": "python",
   "nbconvert_exporter": "python",
   "pygments_lexer": "ipython3",
   "version": "3.7.4"
  }
 },
 "nbformat": 4,
 "nbformat_minor": 2
}
