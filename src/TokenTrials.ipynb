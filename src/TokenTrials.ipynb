{
 "cells": [
  {
   "cell_type": "code",
   "execution_count": 1,
   "metadata": {},
   "outputs": [],
   "source": [
    "#Import library\n",
    "from highlib import Letter\n",
    "from highlib import HighLight\n",
    "\n",
    "\n",
    "\n",
    "import ipywidgets as widgets\n"
   ]
  },
  {
   "cell_type": "markdown",
   "metadata": {},
   "source": [
    "## Objects used in the library"
   ]
  },
  {
   "cell_type": "code",
   "execution_count": 2,
   "metadata": {},
   "outputs": [
    {
     "name": "stdout",
     "output_type": "stream",
     "text": [
      "[a] [b]  [c]\n"
     ]
    }
   ],
   "source": [
    "letterObj = Letter(\"a\", \"b\", \"c\")\n",
    "print(letterObj)"
   ]
  },
  {
   "cell_type": "markdown",
   "metadata": {},
   "source": [
    "## Reading in a file"
   ]
  },
  {
   "cell_type": "code",
   "execution_count": 3,
   "metadata": {},
   "outputs": [
    {
     "name": "stdout",
     "output_type": "stream",
     "text": [
      "7 lines read in\n"
     ]
    }
   ],
   "source": [
    "high=HighLight(\"file.txt\",'RomanFile')\n",
    "lineArr = high.lines()\n",
    "print(str(len(lineArr)) + \" lines read in\")"
   ]
  },
  {
   "cell_type": "code",
   "execution_count": 4,
   "metadata": {},
   "outputs": [
    {
     "name": "stdout",
     "output_type": "stream",
     "text": [
      "951212 050000.000 MONDEO_44 @C 269.7 2.0 10\n",
      "// EVENT 951212 050300.000 BRAVO\n",
      "// EVENT 951212 050300.000 CHARLIE\n",
      "951212 050300.000 FORD_11 @C 354.7 2.1 14\n",
      "951212 050200.000 COROLLA_44 @C 177.9 3.1 15\n",
      "// EVENT 951212 050300.000 DELTA\n",
      "951212 050300.000 COROLLA_44 @C 200 3.1 15\n"
     ]
    }
   ],
   "source": [
    "for thisLine in lineArr:\n",
    "    print(thisLine.line)"
   ]
  },
  {
   "cell_type": "markdown",
   "metadata": {},
   "source": [
    "## Handling tokens"
   ]
  },
  {
   "cell_type": "code",
   "execution_count": 5,
   "metadata": {},
   "outputs": [],
   "source": [
    "high.record(\"Date\", \"n/a\", 0,'yellow')\n",
    "high.record(\"Date\", \"n/a\", 1,'yellow')\n",
    "high.record(\"Venicle\", \"n/a\", 2,'blue')"
   ]
  },
  {
   "cell_type": "code",
   "execution_count": 6,
   "metadata": {},
   "outputs": [
    {
     "name": "stdout",
     "output_type": "stream",
     "text": [
      "{'empty': {0: {'name': 'Date', 'attr': 'n/a', 'color': 'yellow'}, 1: {'name': 'Date', 'attr': 'n/a', 'color': 'yellow'}, 2: {'name': 'Venicle', 'attr': 'n/a', 'color': 'blue'}}}\n"
     ]
    }
   ],
   "source": [
    "print(high.hashRecord)"
   ]
  },
  {
   "cell_type": "code",
   "execution_count": 7,
   "metadata": {},
   "outputs": [
    {
     "name": "stdout",
     "output_type": "stream",
     "text": [
      "empty\n"
     ]
    }
   ],
   "source": [
    "for key in high.hashRecord:\n",
    "    print(key)"
   ]
  },
  {
   "cell_type": "markdown",
   "metadata": {},
   "source": [
    "## Playing with regexp\n",
    "Let's experiment with a self-aware token object"
   ]
  },
  {
   "cell_type": "code",
   "execution_count": 8,
   "metadata": {},
   "outputs": [],
   "source": [
    "import re\n",
    "from re import finditer\n",
    "\n",
    "class Line():\n",
    "    def __init__(self,start, end,text, chars):\n",
    "        self.start=start\n",
    "        self.end=end\n",
    "        self.text=text\n",
    "        self.chars = chars\n",
    "    def tokens(self):\n",
    "        tokens = []\n",
    "        regExp = \"\\\\S+\"\n",
    "        for match in finditer(regExp, self.text):\n",
    "            tokens.append(Token(match.span(), match.group(), int(self.start), self.chars))\n",
    "        return tokens\n",
    "    def record(self, tool, message):\n",
    "        print(\"Looping through cells \" + str(self.start) + \" to \" + str(self.end))\n",
    "        print(\"Setting tool/field to:[\" + tool + \"] Msg to:[\" + message + \"]\")\n",
    "\n",
    "        for i in range(int(self.start), int(self.end)):\n",
    "            usage = SingleUsage(tool, message)\n",
    "            self.chars[i].usages.append(usage)\n",
    "    \n",
    "class CharIndex:\n",
    "    def __init__(self, letter):\n",
    "        self.letter = letter\n",
    "        self.usages = []\n",
    "    def __str__(self):\n",
    "        message = \"[\"+ self.letter+\"]\"\n",
    "        for usage in self.usages:\n",
    "            message+= \"(T/F:\" + usage.toolField + \", msg:\" + usage.message + \")\"\n",
    "        return message\n",
    "\n",
    "class SingleUsage:\n",
    "    def __init__(self, toolField, message):\n",
    "        self.toolField = toolField\n",
    "        self.message = message\n",
    "    \n",
    "class Token():\n",
    "    def __init__(self,span,text, lineStart, chars):\n",
    "        self.span=span\n",
    "        self.text=text\n",
    "        self.lineStart = lineStart\n",
    "        self.chars = chars\n",
    "    def __str__(self):\n",
    "        return \"Start:[\"+ str(self.start())+\"] End:[\"+str(self.end())+\"] \"+\"Text:[\"+self.text+\"]\"\n",
    "    def start(self):\n",
    "        return self.lineStart + self.span[0]\n",
    "    def end(self):\n",
    "        return self.lineStart + self.span[1] - 1\n",
    "    def record(self, tool, field, value, units):\n",
    "        toolField = tool+\"/\"+field\n",
    "        message = \"Value:\" + str(value) + \" Units:\" + str(units)        \n",
    " #       print(\"Looping through cells \" + str(self.start()) + \" to \" + str(self.end()))\n",
    " #       print(\"Setting tool/field to:[\" + toolField + \"] Msg to:[\" + message + \"]\")\n",
    "        for i in range(self.lineStart + self.span[0], self.lineStart + self.span[1]):\n",
    "            usage = SingleUsage(toolField, message)\n",
    "            self.chars[i].usages.append(usage)"
   ]
  },
  {
   "cell_type": "markdown",
   "metadata": {},
   "source": [
    "## Try out self-aware lines\n"
   ]
  },
  {
   "cell_type": "code",
   "execution_count": 9,
   "metadata": {},
   "outputs": [
    {
     "name": "stdout",
     "output_type": "stream",
     "text": [
      "have:319chars\n",
      "Looping through cells 55 to 87\n",
      "Setting tool/field to:[Event importer] Msg to:[Whole line]\n",
      "Looping through cells 88 to 122\n",
      "Setting tool/field to:[Event importer] Msg to:[Whole line]\n",
      "Looping through cells 232 to 264\n",
      "Setting tool/field to:[Event importer] Msg to:[Whole line]\n"
     ]
    }
   ],
   "source": [
    "#sampleLines = \"MONDEO_44 @C 269.7 2.0 10\\nMONDEO_44 @C 269.7  2.0 11\\nMONDEO_45  @C 249.7  2.0 10\\nMONDEO_46  @C 239.7 4.0 12\\n\"\n",
    "\n",
    "with open('file.txt', 'r') as file:\n",
    "    sampleLines = file.read()\n",
    "\n",
    "strLines = sampleLines.splitlines()\n",
    "lines = []\n",
    "myName = \"Trial Extractor\"\n",
    "\n",
    "chars = [None] * len(sampleLines)\n",
    "\n",
    "print(\"have:\" + str(len(sampleLines)) + \"chars\")\n",
    "\n",
    "# initialise the char index\n",
    "charCtr = 0\n",
    "for char in sampleLines:\n",
    "    # put letter into a struct\n",
    "    charInd = CharIndex(char)\n",
    "    chars[charCtr] = charInd\n",
    "    charCtr += 1\n",
    "    \n",
    "# ok, break the file into self-aware lines\n",
    "lineCtr = 0\n",
    "for thisLine in strLines:\n",
    "    thisLen = len(thisLine)\n",
    "    newL = Line(str(lineCtr), str(lineCtr + thisLen), thisLine, chars)\n",
    "    lines.append(newL)\n",
    "    lineCtr += thisLen + 1\n",
    "\n",
    "# process the lines\n",
    "for thisLine in lines:\n",
    "    tokens = thisLine.tokens()\n",
    "\n",
    "    # check the type\n",
    "    firstToken = tokens[0]\n",
    "    if firstToken.text == \"//\":\n",
    "        # event marker\n",
    "        eventImporter = \"Event importer\"\n",
    "        dateToken = tokens[2]\n",
    "        dateToken.record(eventImporter,\"Date\", dateToken.text, \"n/a\")\n",
    "        timeToken = tokens[3]\n",
    "        timeToken.record(eventImporter,\"Time\", timeToken.text, \"n/a\")\n",
    "        eventToken = tokens[4]\n",
    "        eventToken.record(eventImporter,\"Event\", timeToken.text, \"n/a\")\n",
    "        \n",
    "        # and the whole=line record\n",
    "        thisLine.record(eventImporter, \"Whole line\")\n",
    "        \n",
    "    else:\n",
    "        \n",
    "        dateToken = tokens[0]\n",
    "        dateToken.record(myName,\"Date\", dateToken.text, \"n/a\")\n",
    "        \n",
    "        timeToken = tokens[1]\n",
    "        timeToken.record(myName,\"Time\", timeToken.text, \"n/a\")\n",
    "\n",
    "        vehicleToken = tokens[2]\n",
    "        vehicleVal = vehicleToken.text\n",
    "        vehicleToken.record(myName,\"Vehicle\", vehicleVal,\"n/a\")  \n",
    "\n",
    "        directionToken = tokens[4]\n",
    "        directionVal = float(directionToken.text)\n",
    "        directionToken.record(myName,\"Direction\", directionVal,\"degs\")  \n",
    "\n",
    "        speedToken = tokens[5]\n",
    "        speedVal = float(speedToken.text)\n",
    "        speedToken.record(myName,\"Speed\", speedVal,\"m/s\")  \n",
    "\n",
    "        speedToken = tokens[5]\n",
    "        speedVal = float(speedToken.text)\n",
    "        speedToken.record(myName,\"Other Speed\", speedVal,\"m/s\")  \n",
    "\n",
    "        dirToken = tokens[6]\n",
    "        directionVal = float(dirToken.text)\n",
    "        dirToken.record(myName,\"Direction\", directionVal,\"degs\")\n"
   ]
  },
  {
   "cell_type": "markdown",
   "metadata": {},
   "source": [
    "## Generating colors"
   ]
  },
  {
   "cell_type": "code",
   "execution_count": 64,
   "metadata": {},
   "outputs": [],
   "source": [
    "import random\n",
    "import math\n",
    "import colorsys\n",
    "\n",
    "myColors={} \n",
    "\n",
    "def colorFor(hashCode):\n",
    "    if hashCode in myColors:\n",
    "        return myColors[hashCode]\n",
    "    else:\n",
    "        hue = random.random()\n",
    "        sat = random.random()\n",
    "        rgb = colorsys.hsv_to_rgb(hue, sat, 0.9)\n",
    "        r = int(rgb[0] * 255)\n",
    "        g = int(rgb[1] * 255)\n",
    "        b = int(rgb[2] * 255)\n",
    "        newCol = (r,g,b)\n",
    "        myColors[hashCode] = newCol\n",
    "        return newCol\n",
    "\n",
    "def hexColorFor(rgb):\n",
    "    opacityShade = 0.3\n",
    "    return 'rgba(%d,%d,%d,%f)' % (rgb[0], rgb[1], rgb[2], opacityShade)\n",
    "    \n",
    "def meanColorFor(colorArr):\n",
    "    r=0\n",
    "    g=0\n",
    "    b=0\n",
    "    for color in colorArr:\n",
    "        r += color[0]\n",
    "        g += color[1]\n",
    "        b += color[2]\n",
    "        \n",
    "    arrLen = len(colorArr)\n",
    "    return (int(r/arrLen), int(g/arrLen), int(b/arrLen))  \n",
    "    \n",
    "colorA = (255,0,0)\n",
    "colorB = (0,0,255)\n",
    "combined = [colorA, colorB]\n",
    "mean = meanColorFor(combined)\n",
    "\n",
    "def formatColor(color, name):\n",
    "    return  str(color) + \"=<b style=\\\"background-color:\" + hexColorFor(color) + \"\\\">\" + name + \"</b><br/>\"\n",
    "\n",
    "colorC = (0,255,0)\n",
    "mean2 = meanColorFor([colorA, colorB, colorC])\n",
    "\n",
    "widgetStr = \"\"\n",
    "widgetStr += formatColor(colorA, \"colorA\")\n",
    "widgetStr += formatColor(colorB, \"colorB\")\n",
    "widgetStr += formatColor(mean, \"mean of A & B\")\n",
    "widgetStr += formatColor(colorC, \"colorC\")\n",
    "widgetStr += formatColor(mean2, \"mean of A, B, C\")\n",
    "\n",
    "#widgets.HTML(\n",
    "#    value=widgetStr\n",
    "#)\n",
    "\n",
    "\n"
   ]
  },
  {
   "cell_type": "markdown",
   "metadata": {},
   "source": [
    "## Producting the target HTML file"
   ]
  },
  {
   "cell_type": "code",
   "execution_count": 67,
   "metadata": {},
   "outputs": [],
   "source": [
    "lastHash = \"\"\n",
    "fOut = open(\"out3.html\", \"w\")\n",
    "\n",
    "colorSummary = \"\"\n",
    "\n",
    "for charIndex in chars:\n",
    "    letter = charIndex.letter\n",
    "    thisHash = \"\"\n",
    "    thisMessage = \"\"\n",
    "    colors = []\n",
    "    for usage in charIndex.usages:\n",
    "        thisHash += usage.toolField\n",
    "        needsNewLine = thisMessage != \"\"\n",
    "        colors.append(colorFor(usage.toolField))\n",
    "        if needsNewLine:\n",
    "            thisMessage += \" // \"\n",
    "        thisMessage += usage.toolField + \", \" + usage.message\n",
    "\n",
    "    # do we have anything to shade?\n",
    "    if thisHash != \"\":\n",
    "        # generate/retrieve a color for this hash\n",
    "        newColor = meanColorFor(colors)\n",
    "        hexColor = hexColorFor(newColor)\n",
    "        \n",
    "        # are we already in hash?\n",
    "        if lastHash != \"\":\n",
    "            # is it the different to this one?\n",
    "            if(lastHash != thisHash):\n",
    "                # ok, close the span\n",
    "                fOut.write(\"</span>\")\n",
    "\n",
    "                # start a new span\n",
    "                fOut.write(\"<span title='\"+thisMessage+\"' style=\\\"background-color:\" + hexColor + \"\\\"a>\")\n",
    " \n",
    "                # remember the new color\n",
    "                colorSummary += formatColor(newColor, thisHash)\n",
    "        else:\n",
    "            fOut.write(\"<span title='\"+thisMessage+\"' style=\\\"background-color:\" + hexColor + \"\\\">\")\n",
    "            \n",
    "            # remember the new color\n",
    "            colorSummary += formatColor(newColor, thisHash)\n",
    "    elif lastHash != \"\":\n",
    "        fOut.write(\"</span>\")\n",
    "    \n",
    "    # just check if it's newline\n",
    "    if(letter == \"\\n\"):\n",
    "        fOut.write(\"</br>\")\n",
    "    else:\n",
    "        fOut.write(letter)\n",
    "   \n",
    "    lastHash = thisHash\n",
    "    \n",
    "if(lastHash != \"\"):\n",
    "    fOut.write(\"</span>\")\n",
    "    \n",
    "fOut.close()\n",
    "\n",
    "            \n"
   ]
  },
  {
   "cell_type": "code",
   "execution_count": 56,
   "metadata": {},
   "outputs": [
    {
     "data": {
      "text/html": [
       "<span title='Trial Extractor/Date, Value:951212 Units:n/a' style=\"background-color:rgba(158,229,214,0.300000)\">951212</span> <span title='Trial Extractor/Time, Value:050000.000 Units:n/a' style=\"background-color:rgba(225,229,223,0.300000)\">050000.000</span> <span title='Trial Extractor/Vehicle, Value:MONDEO_44 Units:n/a' style=\"background-color:rgba(229,224,227,0.300000)\">MONDEO_44</span>   @C   <span title='Trial Extractor/Direction, Value:269.7 Units:degs' style=\"background-color:rgba(186,229,18,0.300000)\">269.7</span>   <span title='Trial Extractor/Speed, Value:2.0 Units:m/s // Trial Extractor/Other Speed, Value:2.0 Units:m/s' style=\"background-color:rgba(109,194,188,0.300000)\">2.0</span>      <span title='Trial Extractor/Direction, Value:10.0 Units:degs' style=\"background-color:rgba(186,229,18,0.300000)\">10</span></br><span title='Event importer, Whole line' style=\"background-color:rgba(127,70,229,0.300000)\">// EVENT </span><span title='Event importer/Date, Value:951212 Units:n/a // Event importer, Whole line' style=\"background-color:rgba(178,124,212,0.300000)\"a>951212</span><span title='Event importer, Whole line' style=\"background-color:rgba(127,70,229,0.300000)\"a> </span><span title='Event importer/Time, Value:050300.000 Units:n/a // Event importer, Whole line' style=\"background-color:rgba(178,89,177,0.300000)\"a>050300.000</span><span title='Event importer, Whole line' style=\"background-color:rgba(127,70,229,0.300000)\"a> </span><span title='Event importer/Event, Value:050300.000 Units:n/a // Event importer, Whole line' style=\"background-color:rgba(163,149,224,0.300000)\"a>BRAVO</span></br><span title='Event importer, Whole line' style=\"background-color:rgba(127,70,229,0.300000)\">// EVENT </span><span title='Event importer/Date, Value:951212 Units:n/a // Event importer, Whole line' style=\"background-color:rgba(178,124,212,0.300000)\"a>951212</span><span title='Event importer, Whole line' style=\"background-color:rgba(127,70,229,0.300000)\"a> </span><span title='Event importer/Time, Value:050300.000 Units:n/a // Event importer, Whole line' style=\"background-color:rgba(178,89,177,0.300000)\"a>050300.000</span><span title='Event importer, Whole line' style=\"background-color:rgba(127,70,229,0.300000)\"a> </span><span title='Event importer/Event, Value:050300.000 Units:n/a // Event importer, Whole line' style=\"background-color:rgba(163,149,224,0.300000)\"a>CHARLIE</span></br><span title='Trial Extractor/Date, Value:951212 Units:n/a' style=\"background-color:rgba(158,229,214,0.300000)\">951212</span> <span title='Trial Extractor/Time, Value:050300.000 Units:n/a' style=\"background-color:rgba(225,229,223,0.300000)\">050300.000</span> <span title='Trial Extractor/Vehicle, Value:FORD_11 Units:n/a' style=\"background-color:rgba(229,224,227,0.300000)\">FORD_11</span>   @C   <span title='Trial Extractor/Direction, Value:354.7 Units:degs' style=\"background-color:rgba(186,229,18,0.300000)\">354.7</span>   <span title='Trial Extractor/Speed, Value:2.1 Units:m/s // Trial Extractor/Other Speed, Value:2.1 Units:m/s' style=\"background-color:rgba(109,194,188,0.300000)\">2.1</span>      <span title='Trial Extractor/Direction, Value:14.0 Units:degs' style=\"background-color:rgba(186,229,18,0.300000)\">14</span></br><span title='Trial Extractor/Date, Value:951212 Units:n/a' style=\"background-color:rgba(158,229,214,0.300000)\">951212</span> <span title='Trial Extractor/Time, Value:050200.000 Units:n/a' style=\"background-color:rgba(225,229,223,0.300000)\">050200.000</span> <span title='Trial Extractor/Vehicle, Value:COROLLA_44 Units:n/a' style=\"background-color:rgba(229,224,227,0.300000)\">COROLLA_44</span>   @C   <span title='Trial Extractor/Direction, Value:177.9 Units:degs' style=\"background-color:rgba(186,229,18,0.300000)\">177.9</span>   <span title='Trial Extractor/Speed, Value:3.1 Units:m/s // Trial Extractor/Other Speed, Value:3.1 Units:m/s' style=\"background-color:rgba(109,194,188,0.300000)\">3.1</span>      <span title='Trial Extractor/Direction, Value:15.0 Units:degs' style=\"background-color:rgba(186,229,18,0.300000)\">15</span></br><span title='Event importer, Whole line' style=\"background-color:rgba(127,70,229,0.300000)\">// EVENT </span><span title='Event importer/Date, Value:951212 Units:n/a // Event importer, Whole line' style=\"background-color:rgba(178,124,212,0.300000)\"a>951212</span><span title='Event importer, Whole line' style=\"background-color:rgba(127,70,229,0.300000)\"a> </span><span title='Event importer/Time, Value:050300.000 Units:n/a // Event importer, Whole line' style=\"background-color:rgba(178,89,177,0.300000)\"a>050300.000</span><span title='Event importer, Whole line' style=\"background-color:rgba(127,70,229,0.300000)\"a> </span><span title='Event importer/Event, Value:050300.000 Units:n/a // Event importer, Whole line' style=\"background-color:rgba(163,149,224,0.300000)\"a>DELTA</span></br><span title='Trial Extractor/Date, Value:951212 Units:n/a' style=\"background-color:rgba(158,229,214,0.300000)\">951212</span> <span title='Trial Extractor/Time, Value:050300.000 Units:n/a' style=\"background-color:rgba(225,229,223,0.300000)\">050300.000</span> <span title='Trial Extractor/Vehicle, Value:COROLLA_44 Units:n/a' style=\"background-color:rgba(229,224,227,0.300000)\">COROLLA_44</span>   @C   <span title='Trial Extractor/Direction, Value:200.0 Units:degs' style=\"background-color:rgba(186,229,18,0.300000)\">200</span>   <span title='Trial Extractor/Speed, Value:3.1 Units:m/s // Trial Extractor/Other Speed, Value:3.1 Units:m/s' style=\"background-color:rgba(109,194,188,0.300000)\">3.1</span>      <span title='Trial Extractor/Direction, Value:15.0 Units:degs' style=\"background-color:rgba(186,229,18,0.300000)\">15</span></br>"
      ],
      "text/plain": [
       "<IPython.core.display.HTML object>"
      ]
     },
     "execution_count": 56,
     "metadata": {},
     "output_type": "execute_result"
    }
   ],
   "source": [
    "from IPython.display import HTML\n",
    "HTML(filename=\"./out3.html\")"
   ]
  },
  {
   "cell_type": "code",
   "execution_count": null,
   "metadata": {},
   "outputs": [],
   "source": []
  },
  {
   "cell_type": "code",
   "execution_count": null,
   "metadata": {},
   "outputs": [],
   "source": []
  }
 ],
 "metadata": {
  "kernelspec": {
   "display_name": "Python 3",
   "language": "python",
   "name": "python3"
  },
  "language_info": {
   "codemirror_mode": {
    "name": "ipython",
    "version": 3
   },
   "file_extension": ".py",
   "mimetype": "text/x-python",
   "name": "python",
   "nbconvert_exporter": "python",
   "pygments_lexer": "ipython3",
   "version": "3.7.4"
  }
 },
 "nbformat": 4,
 "nbformat_minor": 2
}
