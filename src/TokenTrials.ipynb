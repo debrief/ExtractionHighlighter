{
 "cells": [
  {
   "cell_type": "code",
   "execution_count": 1,
   "metadata": {},
   "outputs": [],
   "source": [
    "#Import library\n",
    "from highlib import Letter\n",
    "from highlib import HighLight\n"
   ]
  },
  {
   "cell_type": "markdown",
   "metadata": {},
   "source": [
    "## Objects used in the library"
   ]
  },
  {
   "cell_type": "code",
   "execution_count": 2,
   "metadata": {},
   "outputs": [
    {
     "name": "stdout",
     "output_type": "stream",
     "text": [
      "[a] [b]  [c]\n"
     ]
    }
   ],
   "source": [
    "letterObj = Letter(\"a\", \"b\", \"c\")\n",
    "print(letterObj)"
   ]
  },
  {
   "cell_type": "markdown",
   "metadata": {},
   "source": [
    "## Reading in a file"
   ]
  },
  {
   "cell_type": "code",
   "execution_count": 3,
   "metadata": {},
   "outputs": [
    {
     "name": "stdout",
     "output_type": "stream",
     "text": [
      "4 lines read in\n"
     ]
    }
   ],
   "source": [
    "high=HighLight(\"file.txt\",'RomanFile')\n",
    "lineArr = high.lines()\n",
    "print(str(len(lineArr)) + \" lines read in\")"
   ]
  },
  {
   "cell_type": "code",
   "execution_count": 4,
   "metadata": {},
   "outputs": [
    {
     "name": "stdout",
     "output_type": "stream",
     "text": [
      "951212 050000.000 MONDEO_44 @C 269.7 2.0 10\n",
      "122234 423444.000 FORD_11 @C 354.7 2.1 14\n",
      "951212 050200.000 COROLLA_44 @C 177.9 3.1 15\n",
      "951212 050200.000 COROLLA_44 @C 200 3.1 15\n"
     ]
    }
   ],
   "source": [
    "for thisLine in lineArr:\n",
    "    print(thisLine.line)"
   ]
  },
  {
   "cell_type": "markdown",
   "metadata": {},
   "source": [
    "## Handling tokens"
   ]
  },
  {
   "cell_type": "code",
   "execution_count": 5,
   "metadata": {},
   "outputs": [],
   "source": [
    "high.record(\"Date\", \"n/a\", 0,'yellow')\n",
    "high.record(\"Date\", \"n/a\", 1,'yellow')\n",
    "high.record(\"Venicle\", \"n/a\", 2,'blue')"
   ]
  },
  {
   "cell_type": "code",
   "execution_count": 6,
   "metadata": {},
   "outputs": [
    {
     "name": "stdout",
     "output_type": "stream",
     "text": [
      "{'empty': {0: {'name': 'Date', 'attr': 'n/a', 'color': 'yellow'}, 1: {'name': 'Date', 'attr': 'n/a', 'color': 'yellow'}, 2: {'name': 'Venicle', 'attr': 'n/a', 'color': 'blue'}}}\n"
     ]
    }
   ],
   "source": [
    "print(high.hashRecord)"
   ]
  },
  {
   "cell_type": "code",
   "execution_count": 7,
   "metadata": {},
   "outputs": [
    {
     "name": "stdout",
     "output_type": "stream",
     "text": [
      "empty\n"
     ]
    }
   ],
   "source": [
    "for key in high.hashRecord:\n",
    "    print(key)"
   ]
  },
  {
   "cell_type": "markdown",
   "metadata": {},
   "source": [
    "## Playing with regexp\n",
    "Let's experiment with a self-aware token object"
   ]
  },
  {
   "cell_type": "code",
   "execution_count": 8,
   "metadata": {},
   "outputs": [],
   "source": [
    "import re\n",
    "from re import finditer\n",
    "\n",
    "class Line():\n",
    "    def __init__(self,start, end,text, chars):\n",
    "        self.start=start\n",
    "        self.end=end\n",
    "        self.text=text\n",
    "        self.chars = chars\n",
    "    def tokens(self):\n",
    "        tokens = []\n",
    "        regExp = \"\\\\S+\"\n",
    "        for match in finditer(regExp, self.text):\n",
    "            tokens.append(Token(match.span(), match.group(), int(self.start), self.chars))\n",
    "        return tokens\n",
    "\n",
    "class Token():\n",
    "    def __init__(self,span,text, lineStart, chars):\n",
    "        self.span=span\n",
    "        self.text=text\n",
    "        self.lineStart = lineStart\n",
    "        self.chars = chars\n",
    "    def __str__(self):\n",
    "        return \"Start:[\"+ str(self.start())+\"] End:[\"+str(self.end())+\"] \"+\"Text:[\"+self.text+\"]\"\n",
    "    def start(self):\n",
    "        return self.lineStart + self.span[0]\n",
    "    def end(self):\n",
    "        return self.lineStart + self.span[1]\n",
    "    def record(self, tool, field, value, units):\n",
    "        toolField = tool+\"/\"+field\n",
    "        message = \"Value:\" + str(value) + \" Units:\" + str(units)        \n",
    "        print(\"Looping through cells \" + str(self.lineStart + self.span[0]) + \" to \" + str(self.lineStart + self.span[1]))\n",
    "        print(\"Setting tool/field to:[\" + toolField + \"] Msg to:[\" + message + \"]\")\n",
    "        for i in range(self.lineStart + self.span[0], self.lineStart + self.span[1]):\n",
    "            self.chars[i] = toolField"
   ]
  },
  {
   "cell_type": "markdown",
   "metadata": {},
   "source": [
    "## Try out self-aware lines\n"
   ]
  },
  {
   "cell_type": "code",
   "execution_count": 9,
   "metadata": {},
   "outputs": [
    {
     "name": "stdout",
     "output_type": "stream",
     "text": [
      "== New line ==\n",
      "= Vehicle =\n",
      "Looping through cells 0 to 9\n",
      "Setting tool/field to:[Trial Extractor/Vehicle] Msg to:[Value:MONDEO_44 Units:n/a]\n",
      "= Speed =\n",
      "Looping through cells 19 to 22\n",
      "Setting tool/field to:[Trial Extractor/Speed] Msg to:[Value:2.0 Units:m/s]\n",
      "= Direction =\n",
      "Looping through cells 23 to 25\n",
      "Setting tool/field to:[Trial Extractor/Direction] Msg to:[Value:10.0 Units:degs]\n",
      "== New line ==\n",
      "= Vehicle =\n",
      "Looping through cells 26 to 35\n",
      "Setting tool/field to:[Trial Extractor/Vehicle] Msg to:[Value:MONDEO_44 Units:n/a]\n",
      "= Speed =\n",
      "Looping through cells 46 to 49\n",
      "Setting tool/field to:[Trial Extractor/Speed] Msg to:[Value:2.0 Units:m/s]\n",
      "= Direction =\n",
      "Looping through cells 50 to 52\n",
      "Setting tool/field to:[Trial Extractor/Direction] Msg to:[Value:11.0 Units:degs]\n",
      "== New line ==\n",
      "= Vehicle =\n",
      "Looping through cells 53 to 62\n",
      "Setting tool/field to:[Trial Extractor/Vehicle] Msg to:[Value:MONDEO_45 Units:n/a]\n",
      "= Speed =\n",
      "Looping through cells 74 to 77\n",
      "Setting tool/field to:[Trial Extractor/Speed] Msg to:[Value:2.0 Units:m/s]\n",
      "= Direction =\n",
      "Looping through cells 78 to 80\n",
      "Setting tool/field to:[Trial Extractor/Direction] Msg to:[Value:10.0 Units:degs]\n",
      "== New line ==\n",
      "= Vehicle =\n",
      "Looping through cells 81 to 90\n",
      "Setting tool/field to:[Trial Extractor/Vehicle] Msg to:[Value:MONDEO_46 Units:n/a]\n",
      "= Speed =\n",
      "Looping through cells 101 to 104\n",
      "Setting tool/field to:[Trial Extractor/Speed] Msg to:[Value:4.0 Units:m/s]\n",
      "= Direction =\n",
      "Looping through cells 105 to 107\n",
      "Setting tool/field to:[Trial Extractor/Direction] Msg to:[Value:12.0 Units:degs]\n",
      "['Trial Extractor/Vehicle', 'Trial Extractor/Vehicle', 'Trial Extractor/Vehicle', 'Trial Extractor/Vehicle', 'Trial Extractor/Vehicle', 'Trial Extractor/Vehicle', 'Trial Extractor/Vehicle', 'Trial Extractor/Vehicle', 'Trial Extractor/Vehicle', None, None, None, None, None, None, None, None, None, None, 'Trial Extractor/Speed', 'Trial Extractor/Speed', 'Trial Extractor/Speed', None, 'Trial Extractor/Direction', 'Trial Extractor/Direction', None, 'Trial Extractor/Vehicle', 'Trial Extractor/Vehicle', 'Trial Extractor/Vehicle', 'Trial Extractor/Vehicle', 'Trial Extractor/Vehicle', 'Trial Extractor/Vehicle', 'Trial Extractor/Vehicle', 'Trial Extractor/Vehicle', 'Trial Extractor/Vehicle', None, None, None, None, None, None, None, None, None, None, None, 'Trial Extractor/Speed', 'Trial Extractor/Speed', 'Trial Extractor/Speed', None, 'Trial Extractor/Direction', 'Trial Extractor/Direction', None, 'Trial Extractor/Vehicle', 'Trial Extractor/Vehicle', 'Trial Extractor/Vehicle', 'Trial Extractor/Vehicle', 'Trial Extractor/Vehicle', 'Trial Extractor/Vehicle', 'Trial Extractor/Vehicle', 'Trial Extractor/Vehicle', 'Trial Extractor/Vehicle', None, None, None, None, None, None, None, None, None, None, None, None, 'Trial Extractor/Speed', 'Trial Extractor/Speed', 'Trial Extractor/Speed', None, 'Trial Extractor/Direction', 'Trial Extractor/Direction', None, 'Trial Extractor/Vehicle', 'Trial Extractor/Vehicle', 'Trial Extractor/Vehicle', 'Trial Extractor/Vehicle', 'Trial Extractor/Vehicle', 'Trial Extractor/Vehicle', 'Trial Extractor/Vehicle', 'Trial Extractor/Vehicle', 'Trial Extractor/Vehicle', None, None, None, None, None, None, None, None, None, None, None, 'Trial Extractor/Speed', 'Trial Extractor/Speed', 'Trial Extractor/Speed', None, 'Trial Extractor/Direction', 'Trial Extractor/Direction', None]\n"
     ]
    }
   ],
   "source": [
    "sampleLines = \"MONDEO_44 @C 269.7 2.0 10\\nMONDEO_44 @C 269.7  2.0 11\\nMONDEO_45  @C 249.7  2.0 10\\nMONDEO_46  @C 239.7 4.0 12\\n\"\n",
    "strLines = sampleLines.splitlines()\n",
    "lines = []\n",
    "ctr = 0\n",
    "myName = \"Trial Extractor\"\n",
    "\n",
    "charLen = len(sampleLines)\n",
    "\n",
    "chars = [None] * charLen  \n",
    "\n",
    "# ok, break the file into self-aware lines\n",
    "for thisLine in strLines:\n",
    "    thisLen = len(thisLine)\n",
    "    lines.append(Line(str(ctr), str(ctr + thisLen), thisLine, chars))\n",
    "    ctr += thisLen + 1\n",
    "\n",
    "# process the lines\n",
    "for thisLine in lines:\n",
    "    print(\"== New line ==\")\n",
    "    tokens = thisLine.tokens()\n",
    "    \n",
    "    print(\"= Vehicle =\")\n",
    "    vehicleToken = tokens[0]\n",
    "    vehicleVal = vehicleToken.text\n",
    "    vehicleToken.record(myName,\"Vehicle\", vehicleVal,\"n/a\")  \n",
    "\n",
    "    print(\"= Speed =\")\n",
    "    speedToken = tokens[3]\n",
    "    speedVal = float(speedToken.text)\n",
    "    speedToken.record(myName,\"Speed\", speedVal,\"m/s\")  \n",
    "    \n",
    "    print(\"= Direction =\")\n",
    "    dirToken = tokens[4]\n",
    "    directionVal = float(dirToken.text)\n",
    "    dirToken.record(myName,\"Direction\", directionVal,\"degs\")\n",
    "    \n",
    "print(list(chars))    "
   ]
  },
  {
   "cell_type": "code",
   "execution_count": null,
   "metadata": {},
   "outputs": [],
   "source": []
  },
  {
   "cell_type": "code",
   "execution_count": null,
   "metadata": {},
   "outputs": [],
   "source": []
  }
 ],
 "metadata": {
  "kernelspec": {
   "display_name": "Python 3",
   "language": "python",
   "name": "python3"
  },
  "language_info": {
   "codemirror_mode": {
    "name": "ipython",
    "version": 3
   },
   "file_extension": ".py",
   "mimetype": "text/x-python",
   "name": "python",
   "nbconvert_exporter": "python",
   "pygments_lexer": "ipython3",
   "version": "3.7.4"
  }
 },
 "nbformat": 4,
 "nbformat_minor": 2
}
