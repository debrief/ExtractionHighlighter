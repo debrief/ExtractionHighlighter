{
 "cells": [
  {
   "cell_type": "code",
   "execution_count": 121,
   "metadata": {},
   "outputs": [],
   "source": [
    "#Import library\n",
    "from highlib import Letter\n",
    "from highlib import HighLight\n"
   ]
  },
  {
   "cell_type": "markdown",
   "metadata": {},
   "source": [
    "## Objects used in the library"
   ]
  },
  {
   "cell_type": "code",
   "execution_count": 122,
   "metadata": {},
   "outputs": [
    {
     "name": "stdout",
     "output_type": "stream",
     "text": [
      "[a] [b]  [c]\n"
     ]
    }
   ],
   "source": [
    "letterObj = Letter(\"a\", \"b\", \"c\")\n",
    "print(letterObj)"
   ]
  },
  {
   "cell_type": "markdown",
   "metadata": {},
   "source": [
    "## Reading in a file"
   ]
  },
  {
   "cell_type": "code",
   "execution_count": 123,
   "metadata": {},
   "outputs": [
    {
     "name": "stdout",
     "output_type": "stream",
     "text": [
      "4 lines read in\n"
     ]
    }
   ],
   "source": [
    "high=HighLight(\"file.txt\",'RomanFile')\n",
    "lineArr = high.lines()\n",
    "print(str(len(lineArr)) + \" lines read in\")"
   ]
  },
  {
   "cell_type": "code",
   "execution_count": 124,
   "metadata": {},
   "outputs": [
    {
     "name": "stdout",
     "output_type": "stream",
     "text": [
      "951212 050000.000 MONDEO_44 @C 269.7 2.0 10\n",
      "122234 423444.000 FORD_11 @C 354.7 2.1 14\n",
      "951212 050200.000 COROLLA_44 @C 177.9 3.1 15\n",
      "951212 050200.000 COROLLA_44 @C 200 3.1 15\n"
     ]
    }
   ],
   "source": [
    "for thisLine in lineArr:\n",
    "    print(thisLine.line)"
   ]
  },
  {
   "cell_type": "markdown",
   "metadata": {},
   "source": [
    "## Handling tokens"
   ]
  },
  {
   "cell_type": "code",
   "execution_count": 125,
   "metadata": {},
   "outputs": [],
   "source": [
    "high.record(\"Date\", \"n/a\", 0,'yellow')\n",
    "high.record(\"Date\", \"n/a\", 1,'yellow')\n",
    "high.record(\"Venicle\", \"n/a\", 2,'blue')"
   ]
  },
  {
   "cell_type": "code",
   "execution_count": 126,
   "metadata": {},
   "outputs": [
    {
     "name": "stdout",
     "output_type": "stream",
     "text": [
      "{'empty': {0: {'name': 'Date', 'attr': 'n/a', 'color': 'yellow'}, 1: {'name': 'Date', 'attr': 'n/a', 'color': 'yellow'}, 2: {'name': 'Venicle', 'attr': 'n/a', 'color': 'blue'}}}\n"
     ]
    }
   ],
   "source": [
    "print(high.hashRecord)"
   ]
  },
  {
   "cell_type": "code",
   "execution_count": 127,
   "metadata": {},
   "outputs": [
    {
     "name": "stdout",
     "output_type": "stream",
     "text": [
      "empty\n"
     ]
    }
   ],
   "source": [
    "for key in high.hashRecord:\n",
    "    print(key)"
   ]
  },
  {
   "cell_type": "markdown",
   "metadata": {},
   "source": [
    "## Playing with regexp\n",
    "Let's experiment with a self-aware token object"
   ]
  },
  {
   "cell_type": "code",
   "execution_count": 132,
   "metadata": {},
   "outputs": [],
   "source": [
    "import re\n",
    "from re import finditer\n",
    "\n",
    "class Token():\n",
    "    def __init__(self,span,text, lineStart):\n",
    "        self.span=span\n",
    "        self.text=text\n",
    "        self.lineStart = lineStart\n",
    "    def __str__(self):\n",
    "        return \"Start:[\"+ str(self.start())+\"] End:[\"+str(self.end())+\"] \"+\"Text:[\"+self.text+\"]\"\n",
    "    def start(self):\n",
    "        return self.lineStart + self.span[0]\n",
    "    def end(self):\n",
    "        return self.lineStart + self.span[1]\n",
    "    def record(self, tool, field, value, units):\n",
    "        toolField = tool+\"/\"+field\n",
    "        message = \"Value:\" + str(value) + \" Units:\" + str(units)        \n",
    "        print(\"Looping through rows \" + str(self.span))\n",
    "        print(\"Setting tool/field to:[\" + toolField + \"] Msg to:[\" + message + \"]\")    "
   ]
  },
  {
   "cell_type": "markdown",
   "metadata": {},
   "source": [
    "## Trial the Token object"
   ]
  },
  {
   "cell_type": "code",
   "execution_count": 140,
   "metadata": {},
   "outputs": [
    {
     "name": "stdout",
     "output_type": "stream",
     "text": [
      "Start:[23] End:[29] Text:[951212]\n",
      "Start:[30] End:[40] Text:[050000.000]\n",
      "Start:[41] End:[50] Text:[MONDEO_44]\n",
      "Start:[53] End:[55] Text:[@C]\n",
      "Start:[58] End:[63] Text:[269.7]\n",
      "Start:[66] End:[69] Text:[2.0]\n",
      "Start:[75] End:[77] Text:[10]\n"
     ]
    }
   ],
   "source": [
    "tokens = []\n",
    "pretendLineStartChar = 23 # in real life the line object will know it's starting index\n",
    "regExp = \"\\\\S+\"\n",
    "sampleText = \"951212 050000.000 MONDEO_44   @C   269.7   2.0      10\"\n",
    "for match in finditer(regExp, sampleText):\n",
    "    tokens.append(Token(match.span(), match.group(), pretendLineStartChar))\n",
    "\n",
    "# let's have a look at the tokens\n",
    "for token in tokens:\n",
    "    print(token)\n",
    "    "
   ]
  },
  {
   "cell_type": "markdown",
   "metadata": {},
   "source": [
    "## Play with a token"
   ]
  },
  {
   "cell_type": "code",
   "execution_count": 141,
   "metadata": {},
   "outputs": [
    {
     "name": "stdout",
     "output_type": "stream",
     "text": [
      "Start:[58] End:[63] Text:[269.7]\n",
      "58\n"
     ]
    }
   ],
   "source": [
    "dirToken = tokens[4]\n",
    "print(dirToken)\n",
    "\n",
    "print(dirToken.start())"
   ]
  },
  {
   "cell_type": "code",
   "execution_count": 142,
   "metadata": {},
   "outputs": [
    {
     "name": "stdout",
     "output_type": "stream",
     "text": [
      "269.7\n"
     ]
    }
   ],
   "source": [
    "directionVal = float(dirToken.text)\n",
    "print(directionVal)"
   ]
  },
  {
   "cell_type": "code",
   "execution_count": 143,
   "metadata": {},
   "outputs": [
    {
     "name": "stdout",
     "output_type": "stream",
     "text": [
      "Looping through rows (35, 40)\n",
      "Setting tool/field to:[Trial Extractor/Direction] Msg to:[Value:269.7 Units:degs]\n"
     ]
    }
   ],
   "source": [
    "myName = \"Trial Extractor\"\n",
    "dirToken.record(myName,\"Direction\", directionVal,\"degs\")"
   ]
  },
  {
   "cell_type": "code",
   "execution_count": 139,
   "metadata": {},
   "outputs": [
    {
     "name": "stdout",
     "output_type": "stream",
     "text": [
      "Looping through rows (0, 6)\n",
      "Setting tool/field to:[date finder/Date] Msg to:[Value:951212 Units:n/a]\n",
      "Looping through rows (0, 6)\n",
      "Setting tool/field to:[date-time finder/DateTime] Msg to:[Value:951212-050000.000 Units:n/a]\n",
      "Looping through rows (7, 17)\n",
      "Setting tool/field to:[date-time finder/DateTime] Msg to:[Value:951212-050000.000 Units:n/a]\n"
     ]
    }
   ],
   "source": [
    "dateToken = tokens[0]\n",
    "timeToken = tokens[1]\n",
    "\n",
    "dateTimeValue = dateToken.text + \"-\" + timeToken.text\n",
    "\n",
    "dateToken.record(\"date finder\", \"Date\", dateToken.text, \"n/a\")\n",
    "dateToken.record(\"date-time finder\", \"DateTime\", dateTimeValue, \"n/a\")\n",
    "timeToken.record(\"date-time finder\", \"DateTime\", dateTimeValue, \"n/a\")\n"
   ]
  },
  {
   "cell_type": "code",
   "execution_count": null,
   "metadata": {},
   "outputs": [],
   "source": []
  }
 ],
 "metadata": {
  "kernelspec": {
   "display_name": "Python 3",
   "language": "python",
   "name": "python3"
  },
  "language_info": {
   "codemirror_mode": {
    "name": "ipython",
    "version": 3
   },
   "file_extension": ".py",
   "mimetype": "text/x-python",
   "name": "python",
   "nbconvert_exporter": "python",
   "pygments_lexer": "ipython3",
   "version": "3.7.4"
  }
 },
 "nbformat": 4,
 "nbformat_minor": 2
}
