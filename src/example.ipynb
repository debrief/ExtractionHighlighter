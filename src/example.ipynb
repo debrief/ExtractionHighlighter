{
 "cells": [
  {
   "cell_type": "markdown",
   "metadata": {},
   "source": [
    "# Example how to use  highlightlib "
   ]
  },
  {
   "cell_type": "code",
   "execution_count": 2,
   "metadata": {},
   "outputs": [],
   "source": [
    "#Import library\n",
    "from highlightlib import  HighlightedDatafile\n",
    "from highlightlib import  combine\n"
   ]
  },
  {
   "cell_type": "code",
   "execution_count": null,
   "metadata": {},
   "outputs": [],
   "source": [
    "highlit =  HighlightedDatafile(\"file.txt\")  #initialize  class with input data file"
   ]
  },
  {
   "cell_type": "code",
   "execution_count": null,
   "metadata": {},
   "outputs": [],
   "source": [
    "lines = highlit.lines() #  split the file to lines"
   ]
  },
  {
   "cell_type": "code",
   "execution_count": null,
   "metadata": {},
   "outputs": [],
   "source": [
    "myName = \"Date Extractor\"\n",
    "highlit.setName(myName) # set name to your out list"
   ]
  },
  {
   "cell_type": "code",
   "execution_count": null,
   "metadata": {},
   "outputs": [],
   "source": [
    "                                   # example line : // EVENT 951212 050200.000 DELTA\n",
    "for line in lines:                 # for each loop through each line\n",
    "    toks = line.tokens()           # split line to tokens : [//,EVENT,951212,050200.000,DELTA]\n",
    "\n",
    "    if (toks[0] == \"//\"):          # If token start from // it's going to be treat like this \n",
    "        toks = combine(toks, 2, 3) # under the hood this line combine diffrenet token so it have the same highlight \n",
    "                                   # so out token will became [//,EVENT,951212 050200.000,DELTA] \n",
    "        \n",
    "        line.addRecord(0,1,2,3)    # add.record() takes infinite int's arguments ,this  method decides what tokens \n",
    "                                   # parts will be highlited so in this case 0,1,2,3 elemetns of the line will be\n",
    "        \n",
    "        \n",
    "        line.cover(0,[1,2,3])      # also you it's possible to cover one highlight by other, 1 argum is what part of \n",
    "                                   #token should  cover any other and then it's dict which parts should be covered by \n",
    "                                   # this color\n",
    "            \n",
    "        line.updateToken(toks)     # this will just update token\n",
    "        test.addToList(line)\n",
    "\n",
    "    else:\n",
    "        line.addRecord(0,1,2,4,5,6)\n",
    "        line.updateToken(toks)\n",
    "        test.addToList(line)\n"
   ]
  }
 ],
 "metadata": {
  "kernelspec": {
   "display_name": "Python 3",
   "language": "python",
   "name": "python3"
  },
  "language_info": {
   "codemirror_mode": {
    "name": "ipython",
    "version": 3
   },
   "file_extension": ".py",
   "mimetype": "text/x-python",
   "name": "python",
   "nbconvert_exporter": "python",
   "pygments_lexer": "ipython3",
   "version": "3.6.8"
  }
 },
 "nbformat": 4,
 "nbformat_minor": 2
}
